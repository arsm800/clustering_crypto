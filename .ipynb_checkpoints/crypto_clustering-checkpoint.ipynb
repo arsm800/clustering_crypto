{
 "cells": [
  {
   "cell_type": "markdown",
   "metadata": {},
   "source": [
    "# Clustering Crypto"
   ]
  },
  {
   "cell_type": "code",
   "execution_count": 51,
   "metadata": {},
   "outputs": [],
   "source": [
    "# Initial imports\n",
    "import requests\n",
    "import pandas as pd\n",
    "import matplotlib.pyplot as plt\n",
    "import hvplot.pandas\n",
    "import plotly.express as px\n",
    "from sklearn.preprocessing import StandardScaler, MinMaxScaler\n",
    "from sklearn.decomposition import PCA\n",
    "from sklearn.cluster import KMeans\n",
    "\n",
    "from pathlib import Path"
   ]
  },
  {
   "cell_type": "markdown",
   "metadata": {},
   "source": [
    "### Fetching Cryptocurrency Data"
   ]
  },
  {
   "cell_type": "code",
   "execution_count": 2,
   "metadata": {},
   "outputs": [],
   "source": [
    "# Use the following endpoint to fetch json data\n",
    "url = \"https://min-api.cryptocompare.com/data/all/coinlist\""
   ]
  },
  {
   "cell_type": "code",
   "execution_count": 3,
   "metadata": {},
   "outputs": [],
   "source": [
    "# Create a DataFrame \n",
    "# HINT: You will need to use the 'Data' key from the json response, then transpose the DataFrame."
   ]
  },
  {
   "cell_type": "code",
   "execution_count": 4,
   "metadata": {},
   "outputs": [
    {
     "data": {
      "text/html": [
       "<div>\n",
       "<style scoped>\n",
       "    .dataframe tbody tr th:only-of-type {\n",
       "        vertical-align: middle;\n",
       "    }\n",
       "\n",
       "    .dataframe tbody tr th {\n",
       "        vertical-align: top;\n",
       "    }\n",
       "\n",
       "    .dataframe thead th {\n",
       "        text-align: right;\n",
       "    }\n",
       "</style>\n",
       "<table border=\"1\" class=\"dataframe\">\n",
       "  <thead>\n",
       "    <tr style=\"text-align: right;\">\n",
       "      <th></th>\n",
       "      <th>Unnamed: 0</th>\n",
       "      <th>CoinName</th>\n",
       "      <th>Algorithm</th>\n",
       "      <th>IsTrading</th>\n",
       "      <th>ProofType</th>\n",
       "      <th>TotalCoinsMined</th>\n",
       "      <th>TotalCoinSupply</th>\n",
       "    </tr>\n",
       "  </thead>\n",
       "  <tbody>\n",
       "    <tr>\n",
       "      <th>0</th>\n",
       "      <td>42</td>\n",
       "      <td>42 Coin</td>\n",
       "      <td>Scrypt</td>\n",
       "      <td>True</td>\n",
       "      <td>PoW/PoS</td>\n",
       "      <td>4.199995e+01</td>\n",
       "      <td>42</td>\n",
       "    </tr>\n",
       "    <tr>\n",
       "      <th>1</th>\n",
       "      <td>365</td>\n",
       "      <td>365Coin</td>\n",
       "      <td>X11</td>\n",
       "      <td>True</td>\n",
       "      <td>PoW/PoS</td>\n",
       "      <td>NaN</td>\n",
       "      <td>2300000000</td>\n",
       "    </tr>\n",
       "    <tr>\n",
       "      <th>2</th>\n",
       "      <td>404</td>\n",
       "      <td>404Coin</td>\n",
       "      <td>Scrypt</td>\n",
       "      <td>True</td>\n",
       "      <td>PoW/PoS</td>\n",
       "      <td>1.055185e+09</td>\n",
       "      <td>532000000</td>\n",
       "    </tr>\n",
       "    <tr>\n",
       "      <th>3</th>\n",
       "      <td>611</td>\n",
       "      <td>SixEleven</td>\n",
       "      <td>SHA-256</td>\n",
       "      <td>True</td>\n",
       "      <td>PoW</td>\n",
       "      <td>NaN</td>\n",
       "      <td>611000</td>\n",
       "    </tr>\n",
       "    <tr>\n",
       "      <th>4</th>\n",
       "      <td>808</td>\n",
       "      <td>808</td>\n",
       "      <td>SHA-256</td>\n",
       "      <td>True</td>\n",
       "      <td>PoW/PoS</td>\n",
       "      <td>0.000000e+00</td>\n",
       "      <td>0</td>\n",
       "    </tr>\n",
       "  </tbody>\n",
       "</table>\n",
       "</div>"
      ],
      "text/plain": [
       "  Unnamed: 0   CoinName Algorithm  IsTrading ProofType  TotalCoinsMined  \\\n",
       "0         42    42 Coin    Scrypt       True   PoW/PoS     4.199995e+01   \n",
       "1        365    365Coin       X11       True   PoW/PoS              NaN   \n",
       "2        404    404Coin    Scrypt       True   PoW/PoS     1.055185e+09   \n",
       "3        611  SixEleven   SHA-256       True       PoW              NaN   \n",
       "4        808        808   SHA-256       True   PoW/PoS     0.000000e+00   \n",
       "\n",
       "  TotalCoinSupply  \n",
       "0              42  \n",
       "1      2300000000  \n",
       "2       532000000  \n",
       "3          611000  \n",
       "4               0  "
      ]
     },
     "execution_count": 4,
     "metadata": {},
     "output_type": "execute_result"
    }
   ],
   "source": [
    "# Alternatively, use the provided csv file:\n",
    "file_path = Path(\"Resources/crypto_data.csv\")\n",
    "\n",
    "# Create a DataFrame\n",
    "crypto_df = pd.read_csv(file_path)\n",
    "\n",
    "crypto_df.head()"
   ]
  },
  {
   "cell_type": "markdown",
   "metadata": {},
   "source": [
    "### Data Preprocessing"
   ]
  },
  {
   "cell_type": "code",
   "execution_count": 5,
   "metadata": {},
   "outputs": [],
   "source": [
    "# Keep only necessary columns:\n",
    "# 'CoinName','Algorithm','IsTrading','ProofType','TotalCoinsMined','TotalCoinSupply'\n",
    "\n",
    "#crpyto_df.columns\n",
    "crypto_df.set_index('Unnamed: 0', drop=True, inplace=True)\n"
   ]
  },
  {
   "cell_type": "code",
   "execution_count": 6,
   "metadata": {},
   "outputs": [
    {
     "name": "stdout",
     "output_type": "stream",
     "text": [
      "[ True False]\n",
      "(1144, 6)\n"
     ]
    },
    {
     "data": {
      "text/html": [
       "<div>\n",
       "<style scoped>\n",
       "    .dataframe tbody tr th:only-of-type {\n",
       "        vertical-align: middle;\n",
       "    }\n",
       "\n",
       "    .dataframe tbody tr th {\n",
       "        vertical-align: top;\n",
       "    }\n",
       "\n",
       "    .dataframe thead th {\n",
       "        text-align: right;\n",
       "    }\n",
       "</style>\n",
       "<table border=\"1\" class=\"dataframe\">\n",
       "  <thead>\n",
       "    <tr style=\"text-align: right;\">\n",
       "      <th></th>\n",
       "      <th>CoinName</th>\n",
       "      <th>Algorithm</th>\n",
       "      <th>IsTrading</th>\n",
       "      <th>ProofType</th>\n",
       "      <th>TotalCoinsMined</th>\n",
       "      <th>TotalCoinSupply</th>\n",
       "    </tr>\n",
       "    <tr>\n",
       "      <th>Unnamed: 0</th>\n",
       "      <th></th>\n",
       "      <th></th>\n",
       "      <th></th>\n",
       "      <th></th>\n",
       "      <th></th>\n",
       "      <th></th>\n",
       "    </tr>\n",
       "  </thead>\n",
       "  <tbody>\n",
       "    <tr>\n",
       "      <th>42</th>\n",
       "      <td>42 Coin</td>\n",
       "      <td>Scrypt</td>\n",
       "      <td>True</td>\n",
       "      <td>PoW/PoS</td>\n",
       "      <td>4.199995e+01</td>\n",
       "      <td>42</td>\n",
       "    </tr>\n",
       "    <tr>\n",
       "      <th>365</th>\n",
       "      <td>365Coin</td>\n",
       "      <td>X11</td>\n",
       "      <td>True</td>\n",
       "      <td>PoW/PoS</td>\n",
       "      <td>NaN</td>\n",
       "      <td>2300000000</td>\n",
       "    </tr>\n",
       "    <tr>\n",
       "      <th>404</th>\n",
       "      <td>404Coin</td>\n",
       "      <td>Scrypt</td>\n",
       "      <td>True</td>\n",
       "      <td>PoW/PoS</td>\n",
       "      <td>1.055185e+09</td>\n",
       "      <td>532000000</td>\n",
       "    </tr>\n",
       "    <tr>\n",
       "      <th>611</th>\n",
       "      <td>SixEleven</td>\n",
       "      <td>SHA-256</td>\n",
       "      <td>True</td>\n",
       "      <td>PoW</td>\n",
       "      <td>NaN</td>\n",
       "      <td>611000</td>\n",
       "    </tr>\n",
       "    <tr>\n",
       "      <th>808</th>\n",
       "      <td>808</td>\n",
       "      <td>SHA-256</td>\n",
       "      <td>True</td>\n",
       "      <td>PoW/PoS</td>\n",
       "      <td>0.000000e+00</td>\n",
       "      <td>0</td>\n",
       "    </tr>\n",
       "  </tbody>\n",
       "</table>\n",
       "</div>"
      ],
      "text/plain": [
       "             CoinName Algorithm  IsTrading ProofType  TotalCoinsMined  \\\n",
       "Unnamed: 0                                                              \n",
       "42            42 Coin    Scrypt       True   PoW/PoS     4.199995e+01   \n",
       "365           365Coin       X11       True   PoW/PoS              NaN   \n",
       "404           404Coin    Scrypt       True   PoW/PoS     1.055185e+09   \n",
       "611         SixEleven   SHA-256       True       PoW              NaN   \n",
       "808               808   SHA-256       True   PoW/PoS     0.000000e+00   \n",
       "\n",
       "           TotalCoinSupply  \n",
       "Unnamed: 0                  \n",
       "42                      42  \n",
       "365             2300000000  \n",
       "404              532000000  \n",
       "611                 611000  \n",
       "808                      0  "
      ]
     },
     "execution_count": 6,
     "metadata": {},
     "output_type": "execute_result"
    }
   ],
   "source": [
    "# Keep only cryptocurrencies that are trading\n",
    "crypto_df.head()\n",
    "\n",
    "print(crypto_df['IsTrading'].unique())\n",
    "#crypto_df.shape\n",
    "\n",
    "crypto_df = crypto_df[crypto_df['IsTrading']==True]\n",
    "\n",
    "#crypto_trade_df.dtypes\n",
    "\n",
    "print(crypto_df.shape)\n",
    "crypto_df.head()"
   ]
  },
  {
   "cell_type": "code",
   "execution_count": 7,
   "metadata": {},
   "outputs": [
    {
     "data": {
      "text/plain": [
       "CoinName            object\n",
       "Algorithm           object\n",
       "IsTrading             bool\n",
       "ProofType           object\n",
       "TotalCoinsMined    float64\n",
       "TotalCoinSupply     object\n",
       "dtype: object"
      ]
     },
     "execution_count": 7,
     "metadata": {},
     "output_type": "execute_result"
    }
   ],
   "source": [
    "# Keep only cryptocurrencies with a working algorithm\n",
    "crypto_df['Algorithm'].unique()\n",
    "\n",
    "#crypto_df['Algorithm'].count()\n",
    "\n",
    "crypto_df.dtypes\n",
    "\n",
    "# How do I know if it is a working algorithm?"
   ]
  },
  {
   "cell_type": "code",
   "execution_count": 8,
   "metadata": {},
   "outputs": [
    {
     "data": {
      "text/html": [
       "<div>\n",
       "<style scoped>\n",
       "    .dataframe tbody tr th:only-of-type {\n",
       "        vertical-align: middle;\n",
       "    }\n",
       "\n",
       "    .dataframe tbody tr th {\n",
       "        vertical-align: top;\n",
       "    }\n",
       "\n",
       "    .dataframe thead th {\n",
       "        text-align: right;\n",
       "    }\n",
       "</style>\n",
       "<table border=\"1\" class=\"dataframe\">\n",
       "  <thead>\n",
       "    <tr style=\"text-align: right;\">\n",
       "      <th></th>\n",
       "      <th>CoinName</th>\n",
       "      <th>Algorithm</th>\n",
       "      <th>ProofType</th>\n",
       "      <th>TotalCoinsMined</th>\n",
       "      <th>TotalCoinSupply</th>\n",
       "    </tr>\n",
       "    <tr>\n",
       "      <th>Unnamed: 0</th>\n",
       "      <th></th>\n",
       "      <th></th>\n",
       "      <th></th>\n",
       "      <th></th>\n",
       "      <th></th>\n",
       "    </tr>\n",
       "  </thead>\n",
       "  <tbody>\n",
       "    <tr>\n",
       "      <th>42</th>\n",
       "      <td>42 Coin</td>\n",
       "      <td>Scrypt</td>\n",
       "      <td>PoW/PoS</td>\n",
       "      <td>4.199995e+01</td>\n",
       "      <td>42</td>\n",
       "    </tr>\n",
       "    <tr>\n",
       "      <th>365</th>\n",
       "      <td>365Coin</td>\n",
       "      <td>X11</td>\n",
       "      <td>PoW/PoS</td>\n",
       "      <td>NaN</td>\n",
       "      <td>2300000000</td>\n",
       "    </tr>\n",
       "    <tr>\n",
       "      <th>404</th>\n",
       "      <td>404Coin</td>\n",
       "      <td>Scrypt</td>\n",
       "      <td>PoW/PoS</td>\n",
       "      <td>1.055185e+09</td>\n",
       "      <td>532000000</td>\n",
       "    </tr>\n",
       "    <tr>\n",
       "      <th>611</th>\n",
       "      <td>SixEleven</td>\n",
       "      <td>SHA-256</td>\n",
       "      <td>PoW</td>\n",
       "      <td>NaN</td>\n",
       "      <td>611000</td>\n",
       "    </tr>\n",
       "    <tr>\n",
       "      <th>808</th>\n",
       "      <td>808</td>\n",
       "      <td>SHA-256</td>\n",
       "      <td>PoW/PoS</td>\n",
       "      <td>0.000000e+00</td>\n",
       "      <td>0</td>\n",
       "    </tr>\n",
       "  </tbody>\n",
       "</table>\n",
       "</div>"
      ],
      "text/plain": [
       "             CoinName Algorithm ProofType  TotalCoinsMined TotalCoinSupply\n",
       "Unnamed: 0                                                                \n",
       "42            42 Coin    Scrypt   PoW/PoS     4.199995e+01              42\n",
       "365           365Coin       X11   PoW/PoS              NaN      2300000000\n",
       "404           404Coin    Scrypt   PoW/PoS     1.055185e+09       532000000\n",
       "611         SixEleven   SHA-256       PoW              NaN          611000\n",
       "808               808   SHA-256   PoW/PoS     0.000000e+00               0"
      ]
     },
     "execution_count": 8,
     "metadata": {},
     "output_type": "execute_result"
    }
   ],
   "source": [
    "# Remove the \"IsTrading\" column\n",
    "crypto_df.drop(columns='IsTrading', inplace=True)\n",
    "crypto_df.head()"
   ]
  },
  {
   "cell_type": "code",
   "execution_count": 9,
   "metadata": {},
   "outputs": [
    {
     "name": "stdout",
     "output_type": "stream",
     "text": [
      "(685, 5)\n"
     ]
    },
    {
     "data": {
      "text/html": [
       "<div>\n",
       "<style scoped>\n",
       "    .dataframe tbody tr th:only-of-type {\n",
       "        vertical-align: middle;\n",
       "    }\n",
       "\n",
       "    .dataframe tbody tr th {\n",
       "        vertical-align: top;\n",
       "    }\n",
       "\n",
       "    .dataframe thead th {\n",
       "        text-align: right;\n",
       "    }\n",
       "</style>\n",
       "<table border=\"1\" class=\"dataframe\">\n",
       "  <thead>\n",
       "    <tr style=\"text-align: right;\">\n",
       "      <th></th>\n",
       "      <th>CoinName</th>\n",
       "      <th>Algorithm</th>\n",
       "      <th>ProofType</th>\n",
       "      <th>TotalCoinsMined</th>\n",
       "      <th>TotalCoinSupply</th>\n",
       "    </tr>\n",
       "    <tr>\n",
       "      <th>Unnamed: 0</th>\n",
       "      <th></th>\n",
       "      <th></th>\n",
       "      <th></th>\n",
       "      <th></th>\n",
       "      <th></th>\n",
       "    </tr>\n",
       "  </thead>\n",
       "  <tbody>\n",
       "    <tr>\n",
       "      <th>42</th>\n",
       "      <td>42 Coin</td>\n",
       "      <td>Scrypt</td>\n",
       "      <td>PoW/PoS</td>\n",
       "      <td>4.199995e+01</td>\n",
       "      <td>42</td>\n",
       "    </tr>\n",
       "    <tr>\n",
       "      <th>404</th>\n",
       "      <td>404Coin</td>\n",
       "      <td>Scrypt</td>\n",
       "      <td>PoW/PoS</td>\n",
       "      <td>1.055185e+09</td>\n",
       "      <td>532000000</td>\n",
       "    </tr>\n",
       "    <tr>\n",
       "      <th>808</th>\n",
       "      <td>808</td>\n",
       "      <td>SHA-256</td>\n",
       "      <td>PoW/PoS</td>\n",
       "      <td>0.000000e+00</td>\n",
       "      <td>0</td>\n",
       "    </tr>\n",
       "    <tr>\n",
       "      <th>1337</th>\n",
       "      <td>EliteCoin</td>\n",
       "      <td>X13</td>\n",
       "      <td>PoW/PoS</td>\n",
       "      <td>2.927942e+10</td>\n",
       "      <td>314159265359</td>\n",
       "    </tr>\n",
       "    <tr>\n",
       "      <th>BTC</th>\n",
       "      <td>Bitcoin</td>\n",
       "      <td>SHA-256</td>\n",
       "      <td>PoW</td>\n",
       "      <td>1.792718e+07</td>\n",
       "      <td>21000000</td>\n",
       "    </tr>\n",
       "  </tbody>\n",
       "</table>\n",
       "</div>"
      ],
      "text/plain": [
       "             CoinName Algorithm ProofType  TotalCoinsMined TotalCoinSupply\n",
       "Unnamed: 0                                                                \n",
       "42            42 Coin    Scrypt   PoW/PoS     4.199995e+01              42\n",
       "404           404Coin    Scrypt   PoW/PoS     1.055185e+09       532000000\n",
       "808               808   SHA-256   PoW/PoS     0.000000e+00               0\n",
       "1337        EliteCoin       X13   PoW/PoS     2.927942e+10    314159265359\n",
       "BTC           Bitcoin   SHA-256       PoW     1.792718e+07        21000000"
      ]
     },
     "execution_count": 9,
     "metadata": {},
     "output_type": "execute_result"
    }
   ],
   "source": [
    "# Remove rows with at least 1 null value\n",
    "crypto_df.dropna(inplace=True)\n",
    "print(crypto_df.shape)\n",
    "crypto_df.head()"
   ]
  },
  {
   "cell_type": "code",
   "execution_count": 10,
   "metadata": {},
   "outputs": [
    {
     "name": "stdout",
     "output_type": "stream",
     "text": [
      "(532, 5)\n"
     ]
    },
    {
     "data": {
      "text/html": [
       "<div>\n",
       "<style scoped>\n",
       "    .dataframe tbody tr th:only-of-type {\n",
       "        vertical-align: middle;\n",
       "    }\n",
       "\n",
       "    .dataframe tbody tr th {\n",
       "        vertical-align: top;\n",
       "    }\n",
       "\n",
       "    .dataframe thead th {\n",
       "        text-align: right;\n",
       "    }\n",
       "</style>\n",
       "<table border=\"1\" class=\"dataframe\">\n",
       "  <thead>\n",
       "    <tr style=\"text-align: right;\">\n",
       "      <th></th>\n",
       "      <th>CoinName</th>\n",
       "      <th>Algorithm</th>\n",
       "      <th>ProofType</th>\n",
       "      <th>TotalCoinsMined</th>\n",
       "      <th>TotalCoinSupply</th>\n",
       "    </tr>\n",
       "    <tr>\n",
       "      <th>Unnamed: 0</th>\n",
       "      <th></th>\n",
       "      <th></th>\n",
       "      <th></th>\n",
       "      <th></th>\n",
       "      <th></th>\n",
       "    </tr>\n",
       "  </thead>\n",
       "  <tbody>\n",
       "    <tr>\n",
       "      <th>42</th>\n",
       "      <td>42 Coin</td>\n",
       "      <td>Scrypt</td>\n",
       "      <td>PoW/PoS</td>\n",
       "      <td>4.199995e+01</td>\n",
       "      <td>42</td>\n",
       "    </tr>\n",
       "    <tr>\n",
       "      <th>404</th>\n",
       "      <td>404Coin</td>\n",
       "      <td>Scrypt</td>\n",
       "      <td>PoW/PoS</td>\n",
       "      <td>1.055185e+09</td>\n",
       "      <td>532000000</td>\n",
       "    </tr>\n",
       "    <tr>\n",
       "      <th>1337</th>\n",
       "      <td>EliteCoin</td>\n",
       "      <td>X13</td>\n",
       "      <td>PoW/PoS</td>\n",
       "      <td>2.927942e+10</td>\n",
       "      <td>314159265359</td>\n",
       "    </tr>\n",
       "    <tr>\n",
       "      <th>BTC</th>\n",
       "      <td>Bitcoin</td>\n",
       "      <td>SHA-256</td>\n",
       "      <td>PoW</td>\n",
       "      <td>1.792718e+07</td>\n",
       "      <td>21000000</td>\n",
       "    </tr>\n",
       "    <tr>\n",
       "      <th>ETH</th>\n",
       "      <td>Ethereum</td>\n",
       "      <td>Ethash</td>\n",
       "      <td>PoW</td>\n",
       "      <td>1.076842e+08</td>\n",
       "      <td>0</td>\n",
       "    </tr>\n",
       "  </tbody>\n",
       "</table>\n",
       "</div>"
      ],
      "text/plain": [
       "             CoinName Algorithm ProofType  TotalCoinsMined TotalCoinSupply\n",
       "Unnamed: 0                                                                \n",
       "42            42 Coin    Scrypt   PoW/PoS     4.199995e+01              42\n",
       "404           404Coin    Scrypt   PoW/PoS     1.055185e+09       532000000\n",
       "1337        EliteCoin       X13   PoW/PoS     2.927942e+10    314159265359\n",
       "BTC           Bitcoin   SHA-256       PoW     1.792718e+07        21000000\n",
       "ETH          Ethereum    Ethash       PoW     1.076842e+08               0"
      ]
     },
     "execution_count": 10,
     "metadata": {},
     "output_type": "execute_result"
    }
   ],
   "source": [
    "# Remove rows with cryptocurrencies having no coins mined\n",
    "crypto_df = crypto_df[crypto_df['TotalCoinsMined']>0]\n",
    "print(crypto_df.shape)\n",
    "crypto_df.head()"
   ]
  },
  {
   "cell_type": "code",
   "execution_count": 11,
   "metadata": {},
   "outputs": [
    {
     "data": {
      "text/plain": [
       "[0, 0, 0]"
      ]
     },
     "execution_count": 11,
     "metadata": {},
     "output_type": "execute_result"
    }
   ],
   "source": [
    "# Drop rows where there are 'N/A' text values\n",
    "#crypto_df.loc[:, (crypto_df=='N/A').any()]\n",
    "\n",
    "# Search for text 'n/a' in 'CoinName', 'Algorithm', and 'ProofType' columns\n",
    "columns = ['CoinName', 'Algorithm', 'ProofType']\n",
    "\n",
    "na_test = [len(crypto_df[crypto_df[column].str.contains('N/A')]) for column in columns]\n",
    "na_test\n",
    "\n",
    "# No n/a text values found"
   ]
  },
  {
   "cell_type": "code",
   "execution_count": 12,
   "metadata": {},
   "outputs": [
    {
     "data": {
      "text/html": [
       "<div>\n",
       "<style scoped>\n",
       "    .dataframe tbody tr th:only-of-type {\n",
       "        vertical-align: middle;\n",
       "    }\n",
       "\n",
       "    .dataframe tbody tr th {\n",
       "        vertical-align: top;\n",
       "    }\n",
       "\n",
       "    .dataframe thead th {\n",
       "        text-align: right;\n",
       "    }\n",
       "</style>\n",
       "<table border=\"1\" class=\"dataframe\">\n",
       "  <thead>\n",
       "    <tr style=\"text-align: right;\">\n",
       "      <th></th>\n",
       "      <th>CoinName</th>\n",
       "    </tr>\n",
       "    <tr>\n",
       "      <th>Unnamed: 0</th>\n",
       "      <th></th>\n",
       "    </tr>\n",
       "  </thead>\n",
       "  <tbody>\n",
       "    <tr>\n",
       "      <th>42</th>\n",
       "      <td>42 Coin</td>\n",
       "    </tr>\n",
       "    <tr>\n",
       "      <th>404</th>\n",
       "      <td>404Coin</td>\n",
       "    </tr>\n",
       "    <tr>\n",
       "      <th>1337</th>\n",
       "      <td>EliteCoin</td>\n",
       "    </tr>\n",
       "    <tr>\n",
       "      <th>BTC</th>\n",
       "      <td>Bitcoin</td>\n",
       "    </tr>\n",
       "    <tr>\n",
       "      <th>ETH</th>\n",
       "      <td>Ethereum</td>\n",
       "    </tr>\n",
       "  </tbody>\n",
       "</table>\n",
       "</div>"
      ],
      "text/plain": [
       "             CoinName\n",
       "Unnamed: 0           \n",
       "42            42 Coin\n",
       "404           404Coin\n",
       "1337        EliteCoin\n",
       "BTC           Bitcoin\n",
       "ETH          Ethereum"
      ]
     },
     "execution_count": 12,
     "metadata": {},
     "output_type": "execute_result"
    }
   ],
   "source": [
    "# Store the 'CoinName'column in its own DataFrame prior to dropping it from crypto_df\n",
    "coins_name = pd.DataFrame(crypto_df['CoinName'], index=crypto_df.index)\n",
    "coins_name.head()\n"
   ]
  },
  {
   "cell_type": "code",
   "execution_count": 13,
   "metadata": {},
   "outputs": [
    {
     "data": {
      "text/html": [
       "<div>\n",
       "<style scoped>\n",
       "    .dataframe tbody tr th:only-of-type {\n",
       "        vertical-align: middle;\n",
       "    }\n",
       "\n",
       "    .dataframe tbody tr th {\n",
       "        vertical-align: top;\n",
       "    }\n",
       "\n",
       "    .dataframe thead th {\n",
       "        text-align: right;\n",
       "    }\n",
       "</style>\n",
       "<table border=\"1\" class=\"dataframe\">\n",
       "  <thead>\n",
       "    <tr style=\"text-align: right;\">\n",
       "      <th></th>\n",
       "      <th>Algorithm</th>\n",
       "      <th>ProofType</th>\n",
       "      <th>TotalCoinsMined</th>\n",
       "      <th>TotalCoinSupply</th>\n",
       "    </tr>\n",
       "    <tr>\n",
       "      <th>Unnamed: 0</th>\n",
       "      <th></th>\n",
       "      <th></th>\n",
       "      <th></th>\n",
       "      <th></th>\n",
       "    </tr>\n",
       "  </thead>\n",
       "  <tbody>\n",
       "    <tr>\n",
       "      <th>42</th>\n",
       "      <td>Scrypt</td>\n",
       "      <td>PoW/PoS</td>\n",
       "      <td>4.199995e+01</td>\n",
       "      <td>42</td>\n",
       "    </tr>\n",
       "    <tr>\n",
       "      <th>404</th>\n",
       "      <td>Scrypt</td>\n",
       "      <td>PoW/PoS</td>\n",
       "      <td>1.055185e+09</td>\n",
       "      <td>532000000</td>\n",
       "    </tr>\n",
       "    <tr>\n",
       "      <th>1337</th>\n",
       "      <td>X13</td>\n",
       "      <td>PoW/PoS</td>\n",
       "      <td>2.927942e+10</td>\n",
       "      <td>314159265359</td>\n",
       "    </tr>\n",
       "    <tr>\n",
       "      <th>BTC</th>\n",
       "      <td>SHA-256</td>\n",
       "      <td>PoW</td>\n",
       "      <td>1.792718e+07</td>\n",
       "      <td>21000000</td>\n",
       "    </tr>\n",
       "    <tr>\n",
       "      <th>ETH</th>\n",
       "      <td>Ethash</td>\n",
       "      <td>PoW</td>\n",
       "      <td>1.076842e+08</td>\n",
       "      <td>0</td>\n",
       "    </tr>\n",
       "  </tbody>\n",
       "</table>\n",
       "</div>"
      ],
      "text/plain": [
       "           Algorithm ProofType  TotalCoinsMined TotalCoinSupply\n",
       "Unnamed: 0                                                     \n",
       "42            Scrypt   PoW/PoS     4.199995e+01              42\n",
       "404           Scrypt   PoW/PoS     1.055185e+09       532000000\n",
       "1337             X13   PoW/PoS     2.927942e+10    314159265359\n",
       "BTC          SHA-256       PoW     1.792718e+07        21000000\n",
       "ETH           Ethash       PoW     1.076842e+08               0"
      ]
     },
     "execution_count": 13,
     "metadata": {},
     "output_type": "execute_result"
    }
   ],
   "source": [
    "# Drop the 'CoinName' column since it's not going to be used on the clustering algorithm\n",
    "crypto_df.drop(columns='CoinName', inplace=True)\n",
    "crypto_df.head()"
   ]
  },
  {
   "cell_type": "code",
   "execution_count": 14,
   "metadata": {},
   "outputs": [
    {
     "name": "stdout",
     "output_type": "stream",
     "text": [
      "Algorithm           object\n",
      "ProofType           object\n",
      "TotalCoinsMined    float64\n",
      "TotalCoinSupply     object\n",
      "dtype: object\n",
      "Algorithm           object\n",
      "ProofType           object\n",
      "TotalCoinsMined    float64\n",
      "TotalCoinSupply    float64\n",
      "dtype: object\n",
      "1\n",
      "0\n"
     ]
    }
   ],
   "source": [
    "# Remove duplicate rows\n",
    "\n",
    "print(crypto_df.dtypes)\n",
    "crypto_df['TotalCoinSupply'] = crypto_df['TotalCoinSupply'].astype(float)\n",
    "print(crypto_df.dtypes)\n",
    "\n",
    "print(crypto_df.duplicated().sum())\n",
    "crypto_df.drop_duplicates(inplace=True)\n",
    "print(crypto_df.duplicated().sum())\n",
    "\n"
   ]
  },
  {
   "cell_type": "code",
   "execution_count": 15,
   "metadata": {},
   "outputs": [
    {
     "name": "stdout",
     "output_type": "stream",
     "text": [
      "(531, 98)\n"
     ]
    },
    {
     "data": {
      "text/html": [
       "<div>\n",
       "<style scoped>\n",
       "    .dataframe tbody tr th:only-of-type {\n",
       "        vertical-align: middle;\n",
       "    }\n",
       "\n",
       "    .dataframe tbody tr th {\n",
       "        vertical-align: top;\n",
       "    }\n",
       "\n",
       "    .dataframe thead th {\n",
       "        text-align: right;\n",
       "    }\n",
       "</style>\n",
       "<table border=\"1\" class=\"dataframe\">\n",
       "  <thead>\n",
       "    <tr style=\"text-align: right;\">\n",
       "      <th></th>\n",
       "      <th>TotalCoinsMined</th>\n",
       "      <th>TotalCoinSupply</th>\n",
       "      <th>Algorithm_1GB AES Pattern Search</th>\n",
       "      <th>Algorithm_536</th>\n",
       "      <th>Algorithm_Argon2d</th>\n",
       "      <th>Algorithm_BLAKE256</th>\n",
       "      <th>Algorithm_Blake</th>\n",
       "      <th>Algorithm_Blake2S</th>\n",
       "      <th>Algorithm_Blake2b</th>\n",
       "      <th>Algorithm_C11</th>\n",
       "      <th>...</th>\n",
       "      <th>ProofType_PoW/PoS</th>\n",
       "      <th>ProofType_PoW/PoS</th>\n",
       "      <th>ProofType_PoW/PoW</th>\n",
       "      <th>ProofType_PoW/nPoS</th>\n",
       "      <th>ProofType_Pos</th>\n",
       "      <th>ProofType_Proof of Authority</th>\n",
       "      <th>ProofType_Proof of Trust</th>\n",
       "      <th>ProofType_TPoS</th>\n",
       "      <th>ProofType_Zero-Knowledge Proof</th>\n",
       "      <th>ProofType_dPoW/PoW</th>\n",
       "    </tr>\n",
       "    <tr>\n",
       "      <th>Unnamed: 0</th>\n",
       "      <th></th>\n",
       "      <th></th>\n",
       "      <th></th>\n",
       "      <th></th>\n",
       "      <th></th>\n",
       "      <th></th>\n",
       "      <th></th>\n",
       "      <th></th>\n",
       "      <th></th>\n",
       "      <th></th>\n",
       "      <th></th>\n",
       "      <th></th>\n",
       "      <th></th>\n",
       "      <th></th>\n",
       "      <th></th>\n",
       "      <th></th>\n",
       "      <th></th>\n",
       "      <th></th>\n",
       "      <th></th>\n",
       "      <th></th>\n",
       "      <th></th>\n",
       "    </tr>\n",
       "  </thead>\n",
       "  <tbody>\n",
       "    <tr>\n",
       "      <th>42</th>\n",
       "      <td>4.199995e+01</td>\n",
       "      <td>4.200000e+01</td>\n",
       "      <td>0</td>\n",
       "      <td>0</td>\n",
       "      <td>0</td>\n",
       "      <td>0</td>\n",
       "      <td>0</td>\n",
       "      <td>0</td>\n",
       "      <td>0</td>\n",
       "      <td>0</td>\n",
       "      <td>...</td>\n",
       "      <td>1</td>\n",
       "      <td>0</td>\n",
       "      <td>0</td>\n",
       "      <td>0</td>\n",
       "      <td>0</td>\n",
       "      <td>0</td>\n",
       "      <td>0</td>\n",
       "      <td>0</td>\n",
       "      <td>0</td>\n",
       "      <td>0</td>\n",
       "    </tr>\n",
       "    <tr>\n",
       "      <th>404</th>\n",
       "      <td>1.055185e+09</td>\n",
       "      <td>5.320000e+08</td>\n",
       "      <td>0</td>\n",
       "      <td>0</td>\n",
       "      <td>0</td>\n",
       "      <td>0</td>\n",
       "      <td>0</td>\n",
       "      <td>0</td>\n",
       "      <td>0</td>\n",
       "      <td>0</td>\n",
       "      <td>...</td>\n",
       "      <td>1</td>\n",
       "      <td>0</td>\n",
       "      <td>0</td>\n",
       "      <td>0</td>\n",
       "      <td>0</td>\n",
       "      <td>0</td>\n",
       "      <td>0</td>\n",
       "      <td>0</td>\n",
       "      <td>0</td>\n",
       "      <td>0</td>\n",
       "    </tr>\n",
       "    <tr>\n",
       "      <th>1337</th>\n",
       "      <td>2.927942e+10</td>\n",
       "      <td>3.141593e+11</td>\n",
       "      <td>0</td>\n",
       "      <td>0</td>\n",
       "      <td>0</td>\n",
       "      <td>0</td>\n",
       "      <td>0</td>\n",
       "      <td>0</td>\n",
       "      <td>0</td>\n",
       "      <td>0</td>\n",
       "      <td>...</td>\n",
       "      <td>1</td>\n",
       "      <td>0</td>\n",
       "      <td>0</td>\n",
       "      <td>0</td>\n",
       "      <td>0</td>\n",
       "      <td>0</td>\n",
       "      <td>0</td>\n",
       "      <td>0</td>\n",
       "      <td>0</td>\n",
       "      <td>0</td>\n",
       "    </tr>\n",
       "    <tr>\n",
       "      <th>BTC</th>\n",
       "      <td>1.792718e+07</td>\n",
       "      <td>2.100000e+07</td>\n",
       "      <td>0</td>\n",
       "      <td>0</td>\n",
       "      <td>0</td>\n",
       "      <td>0</td>\n",
       "      <td>0</td>\n",
       "      <td>0</td>\n",
       "      <td>0</td>\n",
       "      <td>0</td>\n",
       "      <td>...</td>\n",
       "      <td>0</td>\n",
       "      <td>0</td>\n",
       "      <td>0</td>\n",
       "      <td>0</td>\n",
       "      <td>0</td>\n",
       "      <td>0</td>\n",
       "      <td>0</td>\n",
       "      <td>0</td>\n",
       "      <td>0</td>\n",
       "      <td>0</td>\n",
       "    </tr>\n",
       "    <tr>\n",
       "      <th>ETH</th>\n",
       "      <td>1.076842e+08</td>\n",
       "      <td>0.000000e+00</td>\n",
       "      <td>0</td>\n",
       "      <td>0</td>\n",
       "      <td>0</td>\n",
       "      <td>0</td>\n",
       "      <td>0</td>\n",
       "      <td>0</td>\n",
       "      <td>0</td>\n",
       "      <td>0</td>\n",
       "      <td>...</td>\n",
       "      <td>0</td>\n",
       "      <td>0</td>\n",
       "      <td>0</td>\n",
       "      <td>0</td>\n",
       "      <td>0</td>\n",
       "      <td>0</td>\n",
       "      <td>0</td>\n",
       "      <td>0</td>\n",
       "      <td>0</td>\n",
       "      <td>0</td>\n",
       "    </tr>\n",
       "  </tbody>\n",
       "</table>\n",
       "<p>5 rows × 98 columns</p>\n",
       "</div>"
      ],
      "text/plain": [
       "            TotalCoinsMined  TotalCoinSupply  \\\n",
       "Unnamed: 0                                     \n",
       "42             4.199995e+01     4.200000e+01   \n",
       "404            1.055185e+09     5.320000e+08   \n",
       "1337           2.927942e+10     3.141593e+11   \n",
       "BTC            1.792718e+07     2.100000e+07   \n",
       "ETH            1.076842e+08     0.000000e+00   \n",
       "\n",
       "            Algorithm_1GB AES Pattern Search  Algorithm_536  \\\n",
       "Unnamed: 0                                                    \n",
       "42                                         0              0   \n",
       "404                                        0              0   \n",
       "1337                                       0              0   \n",
       "BTC                                        0              0   \n",
       "ETH                                        0              0   \n",
       "\n",
       "            Algorithm_Argon2d  Algorithm_BLAKE256  Algorithm_Blake  \\\n",
       "Unnamed: 0                                                           \n",
       "42                          0                   0                0   \n",
       "404                         0                   0                0   \n",
       "1337                        0                   0                0   \n",
       "BTC                         0                   0                0   \n",
       "ETH                         0                   0                0   \n",
       "\n",
       "            Algorithm_Blake2S  Algorithm_Blake2b  Algorithm_C11  ...  \\\n",
       "Unnamed: 0                                                       ...   \n",
       "42                          0                  0              0  ...   \n",
       "404                         0                  0              0  ...   \n",
       "1337                        0                  0              0  ...   \n",
       "BTC                         0                  0              0  ...   \n",
       "ETH                         0                  0              0  ...   \n",
       "\n",
       "            ProofType_PoW/PoS  ProofType_PoW/PoS   ProofType_PoW/PoW  \\\n",
       "Unnamed: 0                                                             \n",
       "42                          1                   0                  0   \n",
       "404                         1                   0                  0   \n",
       "1337                        1                   0                  0   \n",
       "BTC                         0                   0                  0   \n",
       "ETH                         0                   0                  0   \n",
       "\n",
       "            ProofType_PoW/nPoS  ProofType_Pos  ProofType_Proof of Authority  \\\n",
       "Unnamed: 0                                                                    \n",
       "42                           0              0                             0   \n",
       "404                          0              0                             0   \n",
       "1337                         0              0                             0   \n",
       "BTC                          0              0                             0   \n",
       "ETH                          0              0                             0   \n",
       "\n",
       "            ProofType_Proof of Trust  ProofType_TPoS  \\\n",
       "Unnamed: 0                                             \n",
       "42                                 0               0   \n",
       "404                                0               0   \n",
       "1337                               0               0   \n",
       "BTC                                0               0   \n",
       "ETH                                0               0   \n",
       "\n",
       "            ProofType_Zero-Knowledge Proof  ProofType_dPoW/PoW  \n",
       "Unnamed: 0                                                      \n",
       "42                                       0                   0  \n",
       "404                                      0                   0  \n",
       "1337                                     0                   0  \n",
       "BTC                                      0                   0  \n",
       "ETH                                      0                   0  \n",
       "\n",
       "[5 rows x 98 columns]"
      ]
     },
     "execution_count": 15,
     "metadata": {},
     "output_type": "execute_result"
    }
   ],
   "source": [
    "# Create dummy variables for text features\n",
    "X = pd.get_dummies(crypto_df, columns=['Algorithm', 'ProofType'])\n",
    "print(X.shape)\n",
    "X.head()"
   ]
  },
  {
   "cell_type": "code",
   "execution_count": 16,
   "metadata": {},
   "outputs": [
    {
     "name": "stdout",
     "output_type": "stream",
     "text": [
      "[[-0.11721907 -0.15301697 -0.04343722 -0.04343722 -0.04343722 -0.06148755\n",
      "  -0.07537784 -0.04343722 -0.06148755 -0.06148755 -0.04343722 -0.04343722\n",
      "  -0.19263794 -0.06148755 -0.0974972  -0.04343722 -0.11558018 -0.07537784\n",
      "  -0.04343722 -0.04343722 -0.15205718 -0.04343722 -0.13130643 -0.04343722\n",
      "  -0.04343722 -0.08712137 -0.04343722 -0.04343722 -0.04343722 -0.04343722\n",
      "  -0.06148755 -0.04343722 -0.08712137 -0.08712137 -0.08712137 -0.04343722\n",
      "  -0.13130643 -0.1385419  -0.1385419  -0.04343722 -0.06148755 -0.04343722\n",
      "  -0.07537784 -0.17626106 -0.04343722 -0.04343722 -0.04343722 -0.07537784\n",
      "  -0.15841883 -0.31524416 -0.04343722 -0.08712137 -0.07537784 -0.06148755\n",
      "   1.384768   -0.04343722 -0.04343722 -0.06148755 -0.04343722 -0.04343722\n",
      "  -0.04343722 -0.04343722 -0.04343722 -0.04343722 -0.04343722 -0.04343722\n",
      "  -0.39923508 -0.04343722 -0.18186239 -0.04343722 -0.08712137 -0.08712137\n",
      "  -0.1069045  -0.04343722 -0.13130643 -0.04343722 -0.04343722 -0.04343722\n",
      "  -0.04343722 -0.07537784 -0.43655808 -0.04343722 -0.06148755 -0.04343722\n",
      "  -0.04343722 -0.89784322 -0.04343722 -0.04343722  1.42022725 -0.04343722\n",
      "  -0.04343722 -0.04343722 -0.04343722 -0.04343722 -0.04343722 -0.04343722\n",
      "  -0.04343722 -0.04343722]\n",
      " [-0.09410191 -0.14516289 -0.04343722 -0.04343722 -0.04343722 -0.06148755\n",
      "  -0.07537784 -0.04343722 -0.06148755 -0.06148755 -0.04343722 -0.04343722\n",
      "  -0.19263794 -0.06148755 -0.0974972  -0.04343722 -0.11558018 -0.07537784\n",
      "  -0.04343722 -0.04343722 -0.15205718 -0.04343722 -0.13130643 -0.04343722\n",
      "  -0.04343722 -0.08712137 -0.04343722 -0.04343722 -0.04343722 -0.04343722\n",
      "  -0.06148755 -0.04343722 -0.08712137 -0.08712137 -0.08712137 -0.04343722\n",
      "  -0.13130643 -0.1385419  -0.1385419  -0.04343722 -0.06148755 -0.04343722\n",
      "  -0.07537784 -0.17626106 -0.04343722 -0.04343722 -0.04343722 -0.07537784\n",
      "  -0.15841883 -0.31524416 -0.04343722 -0.08712137 -0.07537784 -0.06148755\n",
      "   1.384768   -0.04343722 -0.04343722 -0.06148755 -0.04343722 -0.04343722\n",
      "  -0.04343722 -0.04343722 -0.04343722 -0.04343722 -0.04343722 -0.04343722\n",
      "  -0.39923508 -0.04343722 -0.18186239 -0.04343722 -0.08712137 -0.08712137\n",
      "  -0.1069045  -0.04343722 -0.13130643 -0.04343722 -0.04343722 -0.04343722\n",
      "  -0.04343722 -0.07537784 -0.43655808 -0.04343722 -0.06148755 -0.04343722\n",
      "  -0.04343722 -0.89784322 -0.04343722 -0.04343722  1.42022725 -0.04343722\n",
      "  -0.04343722 -0.04343722 -0.04343722 -0.04343722 -0.04343722 -0.04343722\n",
      "  -0.04343722 -0.04343722]]\n"
     ]
    }
   ],
   "source": [
    "# Standardize data\n",
    "X_scaled = StandardScaler().fit_transform(X)\n",
    "print(X_scaled[:2])"
   ]
  },
  {
   "cell_type": "markdown",
   "metadata": {},
   "source": [
    "### Reducing Dimensions Using PCA"
   ]
  },
  {
   "cell_type": "code",
   "execution_count": 17,
   "metadata": {},
   "outputs": [
    {
     "data": {
      "text/plain": [
       "array([[-0.31868547,  0.98791455, -0.59289473],\n",
       "       [-0.30204476,  0.98803145, -0.59336839],\n",
       "       [ 2.30938419,  1.65630413, -0.67234936],\n",
       "       ...,\n",
       "       [ 0.31937283, -2.26781621,  0.39178841],\n",
       "       [-0.15439922, -2.11486217,  0.54082328],\n",
       "       [-0.27864726,  0.78522299, -0.27566957]])"
      ]
     },
     "execution_count": 17,
     "metadata": {},
     "output_type": "execute_result"
    }
   ],
   "source": [
    "# Use PCA to reduce dimensions to 3 principal components\n",
    "pca = PCA(n_components=3)\n",
    "\n",
    "crypto_pca = pca.fit_transform(X_scaled)\n",
    "crypto_pca"
   ]
  },
  {
   "cell_type": "code",
   "execution_count": 18,
   "metadata": {},
   "outputs": [
    {
     "data": {
      "text/html": [
       "<div>\n",
       "<style scoped>\n",
       "    .dataframe tbody tr th:only-of-type {\n",
       "        vertical-align: middle;\n",
       "    }\n",
       "\n",
       "    .dataframe tbody tr th {\n",
       "        vertical-align: top;\n",
       "    }\n",
       "\n",
       "    .dataframe thead th {\n",
       "        text-align: right;\n",
       "    }\n",
       "</style>\n",
       "<table border=\"1\" class=\"dataframe\">\n",
       "  <thead>\n",
       "    <tr style=\"text-align: right;\">\n",
       "      <th></th>\n",
       "      <th>PC 1</th>\n",
       "      <th>PC 2</th>\n",
       "      <th>PC 3</th>\n",
       "    </tr>\n",
       "    <tr>\n",
       "      <th>Unnamed: 0</th>\n",
       "      <th></th>\n",
       "      <th></th>\n",
       "      <th></th>\n",
       "    </tr>\n",
       "  </thead>\n",
       "  <tbody>\n",
       "    <tr>\n",
       "      <th>42</th>\n",
       "      <td>-0.318685</td>\n",
       "      <td>0.987915</td>\n",
       "      <td>-0.592895</td>\n",
       "    </tr>\n",
       "    <tr>\n",
       "      <th>404</th>\n",
       "      <td>-0.302045</td>\n",
       "      <td>0.988031</td>\n",
       "      <td>-0.593368</td>\n",
       "    </tr>\n",
       "    <tr>\n",
       "      <th>1337</th>\n",
       "      <td>2.309384</td>\n",
       "      <td>1.656304</td>\n",
       "      <td>-0.672349</td>\n",
       "    </tr>\n",
       "    <tr>\n",
       "      <th>BTC</th>\n",
       "      <td>-0.164868</td>\n",
       "      <td>-1.256827</td>\n",
       "      <td>0.218463</td>\n",
       "    </tr>\n",
       "    <tr>\n",
       "      <th>ETH</th>\n",
       "      <td>-0.161932</td>\n",
       "      <td>-2.014174</td>\n",
       "      <td>0.380914</td>\n",
       "    </tr>\n",
       "  </tbody>\n",
       "</table>\n",
       "</div>"
      ],
      "text/plain": [
       "                PC 1      PC 2      PC 3\n",
       "Unnamed: 0                              \n",
       "42         -0.318685  0.987915 -0.592895\n",
       "404        -0.302045  0.988031 -0.593368\n",
       "1337        2.309384  1.656304 -0.672349\n",
       "BTC        -0.164868 -1.256827  0.218463\n",
       "ETH        -0.161932 -2.014174  0.380914"
      ]
     },
     "execution_count": 18,
     "metadata": {},
     "output_type": "execute_result"
    }
   ],
   "source": [
    "# Create a DataFrame with the principal components data\n",
    "pcs_df = pd.DataFrame(crypto_pca, index=crypto_df.index, columns=['PC 1',\n",
    "                                                                  'PC 2',\n",
    "                                                                  'PC 3'])\n",
    "\n",
    "pcs_df.head()"
   ]
  },
  {
   "cell_type": "markdown",
   "metadata": {},
   "source": [
    "### Clustering Crytocurrencies Using K-Means\n",
    "\n",
    "#### Find the Best Value for `k` Using the Elbow Curve"
   ]
  },
  {
   "cell_type": "code",
   "execution_count": 24,
   "metadata": {},
   "outputs": [
    {
     "data": {
      "application/vnd.holoviews_exec.v0+json": "",
      "text/html": [
       "<div id='1102'>\n",
       "\n",
       "\n",
       "\n",
       "\n",
       "\n",
       "  <div class=\"bk-root\" id=\"ba2c9bb3-8329-495b-a888-b74ba8d6994a\" data-root-id=\"1102\"></div>\n",
       "</div>\n",
       "<script type=\"application/javascript\">(function(root) {\n",
       "  function embed_document(root) {\n",
       "  var docs_json = {\"b7a0bee9-14e7-4afd-91e4-fcb0b2d60002\":{\"roots\":{\"references\":[{\"attributes\":{\"axis_label\":\"inertia\",\"bounds\":\"auto\",\"formatter\":{\"id\":\"1150\"},\"major_label_orientation\":\"horizontal\",\"ticker\":{\"id\":\"1121\"}},\"id\":\"1120\",\"type\":\"LinearAxis\"},{\"attributes\":{\"line_alpha\":0.1,\"line_color\":\"#1f77b3\",\"line_width\":2,\"x\":{\"field\":\"k\"},\"y\":{\"field\":\"inertia\"}},\"id\":\"1141\",\"type\":\"Line\"},{\"attributes\":{\"margin\":[5,5,5,5],\"name\":\"HSpacer01704\",\"sizing_mode\":\"stretch_width\"},\"id\":\"1166\",\"type\":\"Spacer\"},{\"attributes\":{\"bottom_units\":\"screen\",\"fill_alpha\":0.5,\"fill_color\":\"lightgrey\",\"left_units\":\"screen\",\"level\":\"overlay\",\"line_alpha\":1.0,\"line_color\":\"black\",\"line_dash\":[4,4],\"line_width\":2,\"right_units\":\"screen\",\"top_units\":\"screen\"},\"id\":\"1129\",\"type\":\"BoxAnnotation\"},{\"attributes\":{\"line_alpha\":0.2,\"line_color\":\"#1f77b3\",\"line_width\":2,\"x\":{\"field\":\"k\"},\"y\":{\"field\":\"inertia\"}},\"id\":\"1142\",\"type\":\"Line\"},{\"attributes\":{\"text\":\"Elbow Curve - Crypto\",\"text_color\":{\"value\":\"black\"},\"text_font_size\":{\"value\":\"12pt\"}},\"id\":\"1108\",\"type\":\"Title\"},{\"attributes\":{},\"id\":\"1121\",\"type\":\"BasicTicker\"},{\"attributes\":{\"data_source\":{\"id\":\"1137\"},\"glyph\":{\"id\":\"1140\"},\"hover_glyph\":null,\"muted_glyph\":{\"id\":\"1142\"},\"nonselection_glyph\":{\"id\":\"1141\"},\"selection_glyph\":null,\"view\":{\"id\":\"1144\"}},\"id\":\"1143\",\"type\":\"GlyphRenderer\"},{\"attributes\":{\"active_drag\":\"auto\",\"active_inspect\":\"auto\",\"active_multi\":null,\"active_scroll\":\"auto\",\"active_tap\":\"auto\",\"tools\":[{\"id\":\"1106\"},{\"id\":\"1124\"},{\"id\":\"1125\"},{\"id\":\"1126\"},{\"id\":\"1127\"},{\"id\":\"1128\"}]},\"id\":\"1130\",\"type\":\"Toolbar\"},{\"attributes\":{\"end\":5386.7547859073675,\"reset_end\":5386.7547859073675,\"reset_start\":-371.6727355715275,\"start\":-371.6727355715275,\"tags\":[[[\"inertia\",\"inertia\",null]]]},\"id\":\"1105\",\"type\":\"Range1d\"},{\"attributes\":{},\"id\":\"1124\",\"type\":\"SaveTool\"},{\"attributes\":{},\"id\":\"1157\",\"type\":\"UnionRenderers\"},{\"attributes\":{},\"id\":\"1146\",\"type\":\"BasicTickFormatter\"},{\"attributes\":{\"line_color\":\"#1f77b3\",\"line_width\":2,\"x\":{\"field\":\"k\"},\"y\":{\"field\":\"inertia\"}},\"id\":\"1140\",\"type\":\"Line\"},{\"attributes\":{},\"id\":\"1125\",\"type\":\"PanTool\"},{\"attributes\":{},\"id\":\"1126\",\"type\":\"WheelZoomTool\"},{\"attributes\":{\"ticks\":[1,2,3,4,5,6,7,8,9,10]},\"id\":\"1145\",\"type\":\"FixedTicker\"},{\"attributes\":{\"overlay\":{\"id\":\"1129\"}},\"id\":\"1127\",\"type\":\"BoxZoomTool\"},{\"attributes\":{},\"id\":\"1138\",\"type\":\"Selection\"},{\"attributes\":{\"data\":{\"inertia\":{\"__ndarray__\":\"x4R6xeIqs0Az3Z6NhGSpQGANJLhAlaBAImIrdEUGkkCZOkUHSeh/QFqQWJNJS29A+CbmDd5gaUD0TnaIQCVkQEXPuowUGWBAHhJs8Y4MW0A=\",\"dtype\":\"float64\",\"order\":\"little\",\"shape\":[10]},\"k\":[1,2,3,4,5,6,7,8,9,10]},\"selected\":{\"id\":\"1138\"},\"selection_policy\":{\"id\":\"1157\"}},\"id\":\"1137\",\"type\":\"ColumnDataSource\"},{\"attributes\":{\"children\":[{\"id\":\"1103\"},{\"id\":\"1107\"},{\"id\":\"1166\"}],\"margin\":[0,0,0,0],\"name\":\"Row01699\",\"tags\":[\"embedded\"]},\"id\":\"1102\",\"type\":\"Row\"},{\"attributes\":{\"end\":10.0,\"reset_end\":10.0,\"reset_start\":1.0,\"start\":1.0,\"tags\":[[[\"k\",\"k\",null]]]},\"id\":\"1104\",\"type\":\"Range1d\"},{\"attributes\":{\"callback\":null,\"renderers\":[{\"id\":\"1143\"}],\"tags\":[\"hv_created\"],\"tooltips\":[[\"k\",\"@{k}\"],[\"inertia\",\"@{inertia}\"]]},\"id\":\"1106\",\"type\":\"HoverTool\"},{\"attributes\":{},\"id\":\"1128\",\"type\":\"ResetTool\"},{\"attributes\":{\"margin\":[5,5,5,5],\"name\":\"HSpacer01703\",\"sizing_mode\":\"stretch_width\"},\"id\":\"1103\",\"type\":\"Spacer\"},{\"attributes\":{},\"id\":\"1150\",\"type\":\"BasicTickFormatter\"},{\"attributes\":{},\"id\":\"1114\",\"type\":\"LinearScale\"},{\"attributes\":{\"axis\":{\"id\":\"1120\"},\"dimension\":1,\"grid_line_color\":null,\"ticker\":null},\"id\":\"1123\",\"type\":\"Grid\"},{\"attributes\":{\"source\":{\"id\":\"1137\"}},\"id\":\"1144\",\"type\":\"CDSView\"},{\"attributes\":{\"axis_label\":\"k\",\"bounds\":\"auto\",\"formatter\":{\"id\":\"1146\"},\"major_label_orientation\":\"horizontal\",\"ticker\":{\"id\":\"1145\"}},\"id\":\"1116\",\"type\":\"LinearAxis\"},{\"attributes\":{\"align\":null,\"below\":[{\"id\":\"1116\"}],\"center\":[{\"id\":\"1119\"},{\"id\":\"1123\"}],\"left\":[{\"id\":\"1120\"}],\"margin\":null,\"min_border_bottom\":10,\"min_border_left\":10,\"min_border_right\":10,\"min_border_top\":10,\"plot_height\":300,\"plot_width\":700,\"renderers\":[{\"id\":\"1143\"}],\"sizing_mode\":\"fixed\",\"title\":{\"id\":\"1108\"},\"toolbar\":{\"id\":\"1130\"},\"x_range\":{\"id\":\"1104\"},\"x_scale\":{\"id\":\"1112\"},\"y_range\":{\"id\":\"1105\"},\"y_scale\":{\"id\":\"1114\"}},\"id\":\"1107\",\"subtype\":\"Figure\",\"type\":\"Plot\"},{\"attributes\":{\"axis\":{\"id\":\"1116\"},\"grid_line_color\":null,\"ticker\":null},\"id\":\"1119\",\"type\":\"Grid\"},{\"attributes\":{},\"id\":\"1112\",\"type\":\"LinearScale\"}],\"root_ids\":[\"1102\"]},\"title\":\"Bokeh Application\",\"version\":\"2.1.1\"}};\n",
       "  var render_items = [{\"docid\":\"b7a0bee9-14e7-4afd-91e4-fcb0b2d60002\",\"root_ids\":[\"1102\"],\"roots\":{\"1102\":\"ba2c9bb3-8329-495b-a888-b74ba8d6994a\"}}];\n",
       "  root.Bokeh.embed.embed_items_notebook(docs_json, render_items);\n",
       "  }\n",
       "if (root.Bokeh !== undefined) {\n",
       "    embed_document(root);\n",
       "  } else {\n",
       "    var attempts = 0;\n",
       "    var timer = setInterval(function(root) {\n",
       "      if (root.Bokeh !== undefined) {\n",
       "        clearInterval(timer);\n",
       "        embed_document(root);\n",
       "      } else if (document.readyState == \"complete\") {\n",
       "        attempts++;\n",
       "        if (attempts > 100) {\n",
       "          clearInterval(timer);\n",
       "          console.log(\"Bokeh: ERROR: Unable to run BokehJS code because BokehJS library is missing\");\n",
       "        }\n",
       "      }\n",
       "    }, 10, root)\n",
       "  }\n",
       "})(window);</script>"
      ],
      "text/plain": [
       ":Curve   [k]   (inertia)"
      ]
     },
     "execution_count": 24,
     "metadata": {
      "application/vnd.holoviews_exec.v0+json": {
       "id": "1102"
      }
     },
     "output_type": "execute_result"
    }
   ],
   "source": [
    "inertia = []\n",
    "k = list(range(1, 11))\n",
    "\n",
    "# Calculate the inertia for the range of k values\n",
    "for i in k:\n",
    "    km = KMeans(n_clusters=i, random_state=0)\n",
    "    km.fit(pcs_df)\n",
    "    inertia.append(km.inertia_)\n",
    "\n",
    "# Create the Elbow Curve using hvPlot\n",
    "elbow_curve = {'k': k, 'inertia': inertia}\n",
    "df_elbow_curve = pd.DataFrame(elbow_curve)\n",
    "df_elbow_curve.hvplot.line(x='k', y='inertia', xticks=k, title='Elbow Curve - Crypto')\n",
    "\n",
    "# Best value of K is 6--hardly any inertia decrease at higher K levels"
   ]
  },
  {
   "cell_type": "markdown",
   "metadata": {},
   "source": [
    "Running K-Means with `k=<your best value for k here>`"
   ]
  },
  {
   "cell_type": "code",
   "execution_count": 33,
   "metadata": {},
   "outputs": [
    {
     "data": {
      "text/html": [
       "<div>\n",
       "<style scoped>\n",
       "    .dataframe tbody tr th:only-of-type {\n",
       "        vertical-align: middle;\n",
       "    }\n",
       "\n",
       "    .dataframe tbody tr th {\n",
       "        vertical-align: top;\n",
       "    }\n",
       "\n",
       "    .dataframe thead th {\n",
       "        text-align: right;\n",
       "    }\n",
       "</style>\n",
       "<table border=\"1\" class=\"dataframe\">\n",
       "  <thead>\n",
       "    <tr style=\"text-align: right;\">\n",
       "      <th></th>\n",
       "      <th>CoinName</th>\n",
       "      <th>Algorithm</th>\n",
       "      <th>ProofType</th>\n",
       "      <th>TotalCoinsMined</th>\n",
       "      <th>TotalCoinSupply</th>\n",
       "      <th>PC 1</th>\n",
       "      <th>PC 2</th>\n",
       "      <th>PC 3</th>\n",
       "      <th>Class</th>\n",
       "    </tr>\n",
       "  </thead>\n",
       "  <tbody>\n",
       "    <tr>\n",
       "      <th>1337</th>\n",
       "      <td>EliteCoin</td>\n",
       "      <td>X13</td>\n",
       "      <td>PoW/PoS</td>\n",
       "      <td>2.927942e+10</td>\n",
       "      <td>3.141593e+11</td>\n",
       "      <td>2.309384</td>\n",
       "      <td>1.656304</td>\n",
       "      <td>-0.672349</td>\n",
       "      <td>5.0</td>\n",
       "    </tr>\n",
       "    <tr>\n",
       "      <th>1CR</th>\n",
       "      <td>1Credit</td>\n",
       "      <td>Scrypt</td>\n",
       "      <td>PoW</td>\n",
       "      <td>8.821300e+04</td>\n",
       "      <td>9.200000e+10</td>\n",
       "      <td>0.494981</td>\n",
       "      <td>-1.209124</td>\n",
       "      <td>-0.052681</td>\n",
       "      <td>1.0</td>\n",
       "    </tr>\n",
       "    <tr>\n",
       "      <th>404</th>\n",
       "      <td>404Coin</td>\n",
       "      <td>Scrypt</td>\n",
       "      <td>PoW/PoS</td>\n",
       "      <td>1.055185e+09</td>\n",
       "      <td>5.320000e+08</td>\n",
       "      <td>-0.302045</td>\n",
       "      <td>0.988031</td>\n",
       "      <td>-0.593368</td>\n",
       "      <td>0.0</td>\n",
       "    </tr>\n",
       "    <tr>\n",
       "      <th>42</th>\n",
       "      <td>42 Coin</td>\n",
       "      <td>Scrypt</td>\n",
       "      <td>PoW/PoS</td>\n",
       "      <td>4.199995e+01</td>\n",
       "      <td>4.200000e+01</td>\n",
       "      <td>-0.318685</td>\n",
       "      <td>0.987915</td>\n",
       "      <td>-0.592895</td>\n",
       "      <td>0.0</td>\n",
       "    </tr>\n",
       "    <tr>\n",
       "      <th>8BIT</th>\n",
       "      <td>8BIT Coin</td>\n",
       "      <td>Scrypt</td>\n",
       "      <td>PoW/PoS</td>\n",
       "      <td>1.467841e+06</td>\n",
       "      <td>0.000000e+00</td>\n",
       "      <td>-0.318668</td>\n",
       "      <td>0.987915</td>\n",
       "      <td>-0.592895</td>\n",
       "      <td>0.0</td>\n",
       "    </tr>\n",
       "  </tbody>\n",
       "</table>\n",
       "</div>"
      ],
      "text/plain": [
       "       CoinName Algorithm ProofType  TotalCoinsMined  TotalCoinSupply  \\\n",
       "1337  EliteCoin       X13   PoW/PoS     2.927942e+10     3.141593e+11   \n",
       "1CR     1Credit    Scrypt       PoW     8.821300e+04     9.200000e+10   \n",
       "404     404Coin    Scrypt   PoW/PoS     1.055185e+09     5.320000e+08   \n",
       "42      42 Coin    Scrypt   PoW/PoS     4.199995e+01     4.200000e+01   \n",
       "8BIT  8BIT Coin    Scrypt   PoW/PoS     1.467841e+06     0.000000e+00   \n",
       "\n",
       "          PC 1      PC 2      PC 3  Class  \n",
       "1337  2.309384  1.656304 -0.672349    5.0  \n",
       "1CR   0.494981 -1.209124 -0.052681    1.0  \n",
       "404  -0.302045  0.988031 -0.593368    0.0  \n",
       "42   -0.318685  0.987915 -0.592895    0.0  \n",
       "8BIT -0.318668  0.987915 -0.592895    0.0  "
      ]
     },
     "execution_count": 33,
     "metadata": {},
     "output_type": "execute_result"
    }
   ],
   "source": [
    "# Initialize the K-Means model\n",
    "km = KMeans(n_clusters=6, random_state=0)\n",
    "\n",
    "# Fit the model\n",
    "km.fit(pcs_df)\n",
    "\n",
    "# Predict clusters\n",
    "predictions = km.predict(pcs_df)\n",
    "\n",
    "# Create a new DataFrame including predicted clusters and cryptocurrencies features\n",
    "pcs_df['Class'] = km.labels_\n",
    "pcs_df.head()\n",
    "\n",
    "clustered_df = pd.concat([coins_name, crypto_df, pcs_df], axis=1, sort=True)\n",
    "clustered_df.head()"
   ]
  },
  {
   "cell_type": "markdown",
   "metadata": {},
   "source": [
    "### Visualizing Results\n",
    "\n",
    "#### 3D-Scatter with Clusters"
   ]
  },
  {
   "cell_type": "code",
   "execution_count": 47,
   "metadata": {},
   "outputs": [
    {
     "data": {
      "application/vnd.plotly.v1+json": {
       "config": {
        "plotlyServerURL": "https://plot.ly"
       },
       "data": [
        {
         "customdata": [
          [
           "X13"
          ],
          [
           "Scrypt"
          ],
          [
           "Scrypt"
          ],
          [
           "Scrypt"
          ],
          [
           "Scrypt"
          ],
          [
           "ECC 256K1"
          ],
          [
           "Scrypt"
          ],
          [
           "Lyra2REv2"
          ],
          [
           "Scrypt"
          ],
          [
           "X11"
          ],
          [
           "Scrypt"
          ],
          [
           "Lyra2Z"
          ],
          [
           "SHA-256"
          ],
          [
           "Ouroboros"
          ],
          [
           "Scrypt"
          ],
          [
           "IMesh"
          ],
          [
           "X11"
          ],
          [
           "Lyra2Z"
          ],
          [
           "DPoS"
          ],
          [
           "X11"
          ],
          [
           "Scrypt"
          ],
          [
           "X11"
          ],
          [
           "Scrypt"
          ],
          [
           "Scrypt"
          ],
          [
           "DPoS"
          ],
          [
           "Quark"
          ],
          [
           "PoS"
          ],
          [
           "X11"
          ],
          [
           "Scrypt"
          ],
          [
           "X11"
          ],
          [
           "X11"
          ],
          [
           "X11"
          ],
          [
           "Proof-of-BibleHash"
          ],
          [
           "Scrypt"
          ],
          [
           "X13"
          ],
          [
           "Scrypt"
          ],
          [
           "SHA-256"
          ],
          [
           "CryptoNight"
          ],
          [
           "CryptoNight"
          ],
          [
           "Equihash"
          ],
          [
           "XEVAN"
          ],
          [
           "Scrypt"
          ],
          [
           "CryptoNight"
          ],
          [
           "Green Protocol"
          ],
          [
           "XEVAN"
          ],
          [
           "Scrypt"
          ],
          [
           "SHA-256"
          ],
          [
           "Blake"
          ],
          [
           "Scrypt"
          ],
          [
           "Scrypt"
          ],
          [
           "Scrypt"
          ],
          [
           "Scrypt"
          ],
          [
           "X11"
          ],
          [
           "Scrypt"
          ],
          [
           "X13"
          ],
          [
           "X11"
          ],
          [
           "X11"
          ],
          [
           "SHA-256"
          ],
          [
           "NIST5"
          ],
          [
           "Scrypt"
          ],
          [
           "Scrypt"
          ],
          [
           "SHA-256"
          ],
          [
           "SHA-256"
          ],
          [
           "Scrypt"
          ],
          [
           "Equihash"
          ],
          [
           "Quark"
          ],
          [
           "Equihash"
          ],
          [
           "Equihash"
          ],
          [
           "Equihash"
          ],
          [
           "Skein"
          ],
          [
           "SHA-512"
          ],
          [
           "TRC10"
          ],
          [
           "Time Travel"
          ],
          [
           "XEVAN"
          ],
          [
           "Shabal256"
          ],
          [
           "SHA-256D"
          ],
          [
           "Scrypt"
          ],
          [
           "NIST5"
          ],
          [
           "SHA-256"
          ],
          [
           "SHA-256"
          ],
          [
           "Quark"
          ],
          [
           "Scrypt"
          ],
          [
           "Scrypt"
          ],
          [
           "Scrypt"
          ],
          [
           "Scrypt"
          ],
          [
           "Scrypt"
          ],
          [
           "PoS"
          ],
          [
           "Cloverhash"
          ],
          [
           "Scrypt"
          ],
          [
           "X11"
          ],
          [
           "SHA-256"
          ],
          [
           "Ethash"
          ],
          [
           "Scrypt"
          ],
          [
           "Scrypt"
          ],
          [
           "CryptoNight"
          ],
          [
           "X13"
          ],
          [
           "Multiple"
          ],
          [
           "X11"
          ],
          [
           "X11"
          ],
          [
           "Scrypt"
          ],
          [
           "Skein"
          ],
          [
           "SHA-256"
          ],
          [
           "Equihash"
          ],
          [
           "X11"
          ],
          [
           "Scrypt"
          ],
          [
           "Quark"
          ],
          [
           "Scrypt"
          ],
          [
           "CryptoNight-V7"
          ],
          [
           "Lyra2RE"
          ],
          [
           "NIST5"
          ],
          [
           "QuBit"
          ],
          [
           "X11"
          ],
          [
           "X11"
          ],
          [
           "X11"
          ],
          [
           "Ethash"
          ],
          [
           "SHA-256"
          ],
          [
           "Dagger-Hashimoto"
          ],
          [
           "BLAKE256"
          ],
          [
           "CryptoNight"
          ],
          [
           "Scrypt"
          ],
          [
           "Scrypt"
          ],
          [
           "PoS"
          ],
          [
           "Scrypt"
          ],
          [
           "Multiple"
          ],
          [
           "Scrypt"
          ],
          [
           "SHA-256"
          ],
          [
           "Scrypt"
          ],
          [
           "X15"
          ],
          [
           "SHA-256"
          ],
          [
           "Groestl"
          ],
          [
           "NIST5"
          ],
          [
           "Scrypt"
          ],
          [
           "X11"
          ],
          [
           "QUAIT"
          ],
          [
           "Quark"
          ],
          [
           "SHA-256"
          ],
          [
           "Argon2d"
          ],
          [
           "Scrypt"
          ],
          [
           "Scrypt"
          ],
          [
           "Scrypt"
          ],
          [
           "NIST5"
          ],
          [
           "SHA-256"
          ],
          [
           "Scrypt"
          ],
          [
           "X15"
          ],
          [
           "Ethash"
          ],
          [
           "Ethash"
          ],
          [
           "X11"
          ],
          [
           "XEVAN"
          ],
          [
           "Scrypt"
          ],
          [
           "X13"
          ],
          [
           "SHA-256"
          ],
          [
           "Scrypt"
          ],
          [
           "Scrypt"
          ],
          [
           "Scrypt"
          ],
          [
           "X11"
          ],
          [
           "DPoS"
          ],
          [
           "Scrypt"
          ],
          [
           "X11"
          ],
          [
           "536"
          ],
          [
           "Ethash"
          ],
          [
           "Ethash"
          ],
          [
           "Scrypt"
          ],
          [
           "SHA-256"
          ],
          [
           "X11"
          ],
          [
           "PoS"
          ],
          [
           "Exosis"
          ],
          [
           "Ethash"
          ],
          [
           "Groestl"
          ],
          [
           "X13"
          ],
          [
           "Stanford Folding"
          ],
          [
           "Scrypt"
          ],
          [
           "Scrypt"
          ],
          [
           "Scrypt"
          ],
          [
           "Scrypt"
          ],
          [
           "PoS"
          ],
          [
           "CryptoNight"
          ],
          [
           "Scrypt"
          ],
          [
           "Scrypt"
          ],
          [
           "Scrypt"
          ],
          [
           "Scrypt"
          ],
          [
           "NeoScrypt"
          ],
          [
           "NeoScrypt"
          ],
          [
           "X11"
          ],
          [
           "Scrypt"
          ],
          [
           "Quark"
          ],
          [
           "Scrypt"
          ],
          [
           "Scrypt"
          ],
          [
           "X11"
          ],
          [
           "NeoScrypt"
          ],
          [
           "Scrypt"
          ],
          [
           "Scrypt"
          ],
          [
           "Scrypt"
          ],
          [
           "Scrypt"
          ],
          [
           "Quark"
          ],
          [
           "Lyra2Z"
          ],
          [
           "Scrypt"
          ],
          [
           "Scrypt"
          ],
          [
           "SHA-256"
          ],
          [
           "X14"
          ],
          [
           "Scrypt"
          ],
          [
           "Scrypt"
          ],
          [
           "Groestl"
          ],
          [
           "Scrypt"
          ],
          [
           "NeoScrypt"
          ],
          [
           "X11"
          ],
          [
           "Scrypt"
          ],
          [
           "Quark"
          ],
          [
           "Scrypt"
          ],
          [
           "1GB AES Pattern Search"
          ],
          [
           "X11"
          ],
          [
           "X11"
          ],
          [
           "X15"
          ],
          [
           "Scrypt"
          ],
          [
           "Lyra2RE"
          ],
          [
           "X11"
          ],
          [
           "Scrypt"
          ],
          [
           "SHA-256"
          ],
          [
           "Scrypt"
          ],
          [
           "Scrypt"
          ],
          [
           "Scrypt"
          ],
          [
           "SHA-256"
          ],
          [
           "Scrypt"
          ],
          [
           "Scrypt"
          ],
          [
           "X11"
          ],
          [
           "Lyra2RE"
          ],
          [
           "NeoScrypt"
          ],
          [
           "X11"
          ],
          [
           "X11"
          ],
          [
           "X11"
          ],
          [
           "SHA-256"
          ],
          [
           "Scrypt"
          ],
          [
           "X11"
          ],
          [
           "C11"
          ],
          [
           "SHA-256"
          ],
          [
           "Multiple"
          ],
          [
           "X11"
          ],
          [
           "NIST5"
          ],
          [
           "SHA-512"
          ],
          [
           "Tribus"
          ],
          [
           "Scrypt"
          ],
          [
           "POS 2.0"
          ],
          [
           "PoS"
          ],
          [
           "Scrypt"
          ],
          [
           "Scrypt"
          ],
          [
           "Quark"
          ],
          [
           "Equihash"
          ],
          [
           "X15"
          ],
          [
           "X13"
          ],
          [
           "CryptoNight"
          ],
          [
           "Lyra2REv2"
          ],
          [
           "Scrypt"
          ],
          [
           "X11"
          ],
          [
           "X11"
          ],
          [
           "SHA-256D"
          ],
          [
           "X11"
          ],
          [
           "SHA-256 + Hive"
          ],
          [
           "Scrypt"
          ],
          [
           "Scrypt"
          ],
          [
           "Scrypt"
          ],
          [
           "Scrypt"
          ],
          [
           "POS 3.0"
          ],
          [
           "Blake"
          ],
          [
           "Scrypt"
          ],
          [
           "Scrypt"
          ],
          [
           "CryptoNight Heavy"
          ],
          [
           "Scrypt"
          ],
          [
           "DPoS"
          ],
          [
           "Scrypt"
          ],
          [
           "Scrypt"
          ],
          [
           "QuBit"
          ],
          [
           "Scrypt"
          ],
          [
           "CryptoNight-V7"
          ],
          [
           "PHI1612"
          ],
          [
           "Scrypt"
          ],
          [
           "X11"
          ],
          [
           "X11"
          ],
          [
           "SHA3"
          ],
          [
           "SHA-256"
          ],
          [
           "Scrypt"
          ],
          [
           "PoS"
          ],
          [
           "Ethash"
          ],
          [
           "Scrypt"
          ],
          [
           "HybridScryptHash256"
          ],
          [
           "Scrypt"
          ],
          [
           "Jump Consistent Hash"
          ],
          [
           "Scrypt"
          ],
          [
           "Scrypt"
          ],
          [
           "Scrypt"
          ],
          [
           "Scrypt"
          ],
          [
           "X11"
          ],
          [
           "Scrypt"
          ],
          [
           "Scrypt"
          ],
          [
           "X11"
          ],
          [
           "Scrypt"
          ],
          [
           "Scrypt"
          ],
          [
           "X11"
          ],
          [
           "X13"
          ],
          [
           "SkunkHash"
          ],
          [
           "DPoS"
          ],
          [
           "SHA-256"
          ],
          [
           "NIST5"
          ],
          [
           "Blake2b"
          ],
          [
           "Scrypt"
          ],
          [
           "X13"
          ],
          [
           "CryptoNight"
          ],
          [
           "CryptoNight"
          ],
          [
           "PoS"
          ],
          [
           "SHA-256"
          ],
          [
           "SHA-256"
          ],
          [
           "Scrypt"
          ],
          [
           "SHA-256"
          ],
          [
           "Scrypt"
          ],
          [
           "Scrypt"
          ],
          [
           "Scrypt"
          ],
          [
           "SHA-256"
          ],
          [
           "SHA3"
          ],
          [
           "PoS"
          ],
          [
           "Scrypt"
          ],
          [
           "Scrypt"
          ],
          [
           "PoS"
          ],
          [
           "Scrypt"
          ],
          [
           "SHA-512"
          ],
          [
           "SHA-256"
          ],
          [
           "Scrypt"
          ],
          [
           "Scrypt"
          ],
          [
           "X13"
          ],
          [
           "VBFT"
          ],
          [
           "X11"
          ],
          [
           "X13"
          ],
          [
           "NeoScrypt"
          ],
          [
           "Scrypt"
          ],
          [
           "Scrypt"
          ],
          [
           "DPoS"
          ],
          [
           "X11"
          ],
          [
           "Scrypt"
          ],
          [
           "PoS"
          ],
          [
           "X11"
          ],
          [
           "X11"
          ],
          [
           "BLAKE256"
          ],
          [
           "PoS"
          ],
          [
           "X11"
          ],
          [
           "X11"
          ],
          [
           "Equihash"
          ],
          [
           "Dagger"
          ],
          [
           "X11"
          ],
          [
           "Scrypt"
          ],
          [
           "CryptoNight"
          ],
          [
           "CryptoNight"
          ],
          [
           "HMQ1725"
          ],
          [
           "Scrypt"
          ],
          [
           "X11"
          ],
          [
           "Scrypt"
          ],
          [
           "Proof-of-Authority"
          ],
          [
           "Scrypt"
          ],
          [
           "Quark"
          ],
          [
           "Scrypt"
          ],
          [
           "SHA-256"
          ],
          [
           "Scrypt"
          ],
          [
           "SHA-256"
          ],
          [
           "X16R"
          ],
          [
           "Scrypt"
          ],
          [
           "Scrypt"
          ],
          [
           "Scrypt"
          ],
          [
           "Scrypt"
          ],
          [
           "X11"
          ],
          [
           "X11"
          ],
          [
           "Scrypt"
          ],
          [
           "NIST5"
          ],
          [
           "Scrypt"
          ],
          [
           "Quark"
          ],
          [
           "CryptoNight-V7"
          ],
          [
           "Scrypt"
          ],
          [
           "POS 3.0"
          ],
          [
           "CryptoNight Heavy"
          ],
          [
           "PoS"
          ],
          [
           "X11"
          ],
          [
           "Scrypt"
          ],
          [
           "Scrypt"
          ],
          [
           "Ethash"
          ],
          [
           "Scrypt"
          ],
          [
           "X11"
          ],
          [
           "SHA-256"
          ],
          [
           "Groestl"
          ],
          [
           "Scrypt"
          ],
          [
           "Scrypt"
          ],
          [
           "X13"
          ],
          [
           "Scrypt"
          ],
          [
           "Lyra2REv2"
          ],
          [
           "Scrypt"
          ],
          [
           "Cryptonight-GPU"
          ],
          [
           "Scrypt"
          ],
          [
           "Scrypt"
          ],
          [
           "Blake2b"
          ],
          [
           "Scrypt"
          ],
          [
           "Semux BFT consensus"
          ],
          [
           "Scrypt"
          ],
          [
           "X11GOST"
          ],
          [
           "Scrypt"
          ],
          [
           "SkunkHash v2 Raptor"
          ],
          [
           "Counterparty"
          ],
          [
           "QuBit"
          ],
          [
           "Scrypt"
          ],
          [
           "Keccak"
          ],
          [
           "Scrypt"
          ],
          [
           "Scrypt"
          ],
          [
           "Scrypt"
          ],
          [
           "Dagger"
          ],
          [
           "Scrypt"
          ],
          [
           "Scrypt"
          ],
          [
           "SHA-256"
          ],
          [
           "C11"
          ],
          [
           "NeoScrypt"
          ],
          [
           "X11"
          ],
          [
           "X11"
          ],
          [
           "Scrypt"
          ],
          [
           "PoS"
          ],
          [
           "X13"
          ],
          [
           "X11"
          ],
          [
           "CryptoNight"
          ],
          [
           "X11"
          ],
          [
           "SHA-256"
          ],
          [
           "Scrypt"
          ],
          [
           "X11"
          ],
          [
           "SHA-256"
          ],
          [
           "Blake2S"
          ],
          [
           "DPoS"
          ],
          [
           "SHA-256"
          ],
          [
           "PoS"
          ],
          [
           "Scrypt"
          ],
          [
           "Multiple"
          ],
          [
           "SHA-256"
          ],
          [
           "PHI1612"
          ],
          [
           "X13"
          ],
          [
           "X11"
          ],
          [
           "POS 3.0"
          ],
          [
           "Scrypt"
          ],
          [
           "SHA-256"
          ],
          [
           "Dagger"
          ],
          [
           "X13"
          ],
          [
           "X11"
          ],
          [
           "Scrypt"
          ],
          [
           "CryptoNight"
          ],
          [
           "X16R"
          ],
          [
           "Scrypt"
          ],
          [
           "SHA-256D"
          ],
          [
           "CryptoNight"
          ],
          [
           "NeoScrypt"
          ],
          [
           "X11"
          ],
          [
           "SHA-256"
          ],
          [
           "NeoScrypt"
          ],
          [
           "Multiple"
          ],
          [
           "Blake"
          ],
          [
           "SHA-256"
          ],
          [
           "Scrypt"
          ],
          [
           "Scrypt"
          ],
          [
           "SHA-256"
          ],
          [
           "XEVAN"
          ],
          [
           "X11"
          ],
          [
           "SHA-256"
          ],
          [
           "Scrypt"
          ],
          [
           "Scrypt"
          ],
          [
           "Scrypt"
          ],
          [
           "VeChainThor Authority"
          ],
          [
           "Scrypt"
          ],
          [
           "SHA-256D"
          ],
          [
           "NIST5"
          ],
          [
           "Quark"
          ],
          [
           "NeoScrypt"
          ],
          [
           "X11"
          ],
          [
           "Scrypt"
          ],
          [
           "Equihash+Scrypt"
          ],
          [
           "Scrypt"
          ],
          [
           "Lyra2REv2"
          ],
          [
           "Scrypt"
          ],
          [
           "NIST5"
          ],
          [
           "Quark"
          ],
          [
           "Leased POS"
          ],
          [
           "Scrypt"
          ],
          [
           "Scrypt"
          ],
          [
           "CryptoNight-V7"
          ],
          [
           "Scrypt"
          ],
          [
           "Scrypt"
          ],
          [
           "XEVAN"
          ],
          [
           "X11"
          ],
          [
           "X16R"
          ],
          [
           "CryptoNight"
          ],
          [
           "M7 POW"
          ],
          [
           "Multiple"
          ],
          [
           null
          ],
          [
           "Scrypt"
          ],
          [
           "CryptoNight"
          ],
          [
           "Keccak"
          ],
          [
           "X11"
          ],
          [
           "X11"
          ],
          [
           "Scrypt"
          ],
          [
           "SHA-256"
          ],
          [
           "Scrypt"
          ],
          [
           "SHA-256"
          ],
          [
           "CryptoNight"
          ],
          [
           "CryptoNight"
          ],
          [
           "X11"
          ],
          [
           "X16R"
          ],
          [
           "CryptoNight-V7"
          ],
          [
           "Multiple"
          ],
          [
           "X11"
          ],
          [
           "PoS"
          ],
          [
           "SHA-256"
          ],
          [
           "X11"
          ],
          [
           "X13"
          ],
          [
           "Multiple"
          ],
          [
           "X11"
          ],
          [
           "X13"
          ],
          [
           "Scrypt"
          ],
          [
           "CryptoNight"
          ],
          [
           "Multiple"
          ],
          [
           "X11"
          ],
          [
           "Scrypt"
          ],
          [
           "Lyra2Z"
          ],
          [
           "Scrypt"
          ],
          [
           "Scrypt"
          ],
          [
           "Scrypt"
          ],
          [
           "Equihash"
          ],
          [
           "Equihash"
          ],
          [
           "Scrypt"
          ],
          [
           "Equihash"
          ],
          [
           "SHA-256"
          ],
          [
           "Equihash"
          ],
          [
           "SHA-256"
          ],
          [
           "Scrypt"
          ],
          [
           "Scrypt"
          ],
          [
           "Lyra2RE"
          ],
          [
           "SHA-256"
          ]
         ],
         "hovertemplate": "<b>%{hovertext}</b><br><br>PC 1=%{x}<br>PC 2=%{y}<br>PC 3=%{z}<br>Algorithm=%{customdata[0]}<br>Class=%{marker.color}<extra></extra>",
         "hovertext": [
          "EliteCoin",
          "1Credit",
          "404Coin",
          "42 Coin",
          "8BIT Coin",
          "Acute Angle Cloud",
          "Abjcoin",
          "Absolute Coin",
          "ArtByte",
          "AC3",
          "AdCoin",
          "Actinium",
          "Anarchists Prime",
          "Cardano",
          "AudioCoin",
          "Aidos Kuneen",
          "Adzcoin",
          "Alpenschillling",
          "ALAX",
          "ArcticCoin",
          "AquariusCoin",
          "ARENON",
          "Argentum",
          "ArgusCoin",
          "ARK",
          "Allsafe",
          "Atmos",
          "ArtexCoin",
          "Aurora Coin",
          "Award",
          "Axe",
          "Azart",
          "BiblePay",
          "BitConnect Coin",
          "Bitcoin Diamond",
          "BitcoinFast",
          "Bitcoin Cash",
          "ByteCoin",
          "Beldex",
          "Beam",
          "Beetle Coin",
          "BenjiRolls",
          "Bikercoins",
          "Bitcoin Green",
          "BitMoney",
          "BitstarCoin",
          "BLAST",
          "BlakeCoin",
          "BlackholeCoin",
          "BillaryCoin",
          "Block-Logic",
          "BlueCoin",
          "BolivarCoin",
          "Briacoin",
          "BritCoin",
          "BowsCoin",
          "BitSend",
          "Bitcoin SV",
          "Bitspace",
          "Bata",
          "BitBar",
          "Bitcoin",
          "BitcoinDark",
          "BitCurrency",
          "BitcoinZ",
          "Bitcloud 2.0",
          "Bitcoin Gold",
          "Bithereum",
          "Bitrolium",
          "Bitcoin Planet",
          "Bitshares",
          "BitTorrent",
          "Bitcore",
          "Bettex coin",
          "BurstCoin",
          "BuzzCoin",
          "BeaverCoin",
          "Bulwark",
          "BitcoinWSpectrum",
          "BitTokens",
          "Carebit",
          "Catcoin",
          "CryptoBullion",
          "CannaCoin",
          "Canada eCoin",
          "Crypto Escudo",
          "CoffeeCoin",
          "ChanCoin",
          "OpenChat",
          "Crypto Improvement Fund",
          "Clockcoin",
          "Callisto Network",
          " ClubCoin",
          "Cash & Back Coin",
          "BitCoal",
          "Paycon",
          "Circuits of Value",
          "CapriCoin",
          "Creditbit ",
          "Credit",
          "Cream",
          "Crown Coin",
          "CrypticCoin",
          "CryptCoin",
          "CasinoCoin",
          "Crypto Sports",
          "CarterCoin",
          "Citadel",
          "Crypto",
          "Coinonat",
          "CypherPunkCoin",
          "DAS",
          "Dash",
          "Dash Platinum",
          "DaxxCoin",
          "DubaiCoin",
          "DubaiCoin",
          "Decred",
          "Dinastycoin",
          "Degas Coin",
          "iDealCash",
          "Deviant Coin",
          "Draftcoin",
          "DigiByte",
          "Digitalcoin ",
          "CarpeDiemCoin",
          "Diggits",
          "Dekado",
          "DollarCoin",
          "Diamond",
          "Denarius",
          "DopeCoin",
          "DigitalPrice",
          "Droidz",
          "Dystem",
          "DevCoin",
          "Dynamic",
          "EarthCoin",
          "EB3coin",
          "eBoost",
          "Electra",
          "EDRCoin",
          "E-Gulden",
          "EverGreenCoin",
          "Elementrem",
          "Ellaism",
          "Elements",
          "Ellerium",
          "EmaratCoin",
          "EmberCoin",
          "Emercoin",
          "Einsteinium",
          "Emerald",
          "EnergyCoin",
          "Eternity",
          "EOS",
          "EquiTrader",
          "EuropeCoin",
          "Espers",
          "Ethereum Classic",
          "Ethereum",
          "Ethereum Dark",
          "Eurocoin",
          "EUNO",
          "Exclusive Coin",
          "Exosis",
          "Expanse",
          "FairCoin",
          "FindCoin",
          "Folding Coin",
          "BitFlip",
          "Flo",
          "FlutterCoin",
          "FrazCoin",
          "FreeCoin",
          "FREDEnergy",
          "Franko",
          "Francs",
          "FirstCoin",
          "Frankywillcoin",
          "FriendshipCoin",
          "FeatherCoin",
          "FuturoCoin",
          "GAKHcoin",
          "Galilel",
          "Gamecredits",
          "Gapcoin",
          "GoldBlocks",
          "GoByte",
          "gCn Coin",
          "GrandCoin",
          "Genstake",
          "GermanCoin",
          "Giant",
          "GINcoin",
          "GlobalCoin",
          "GoldCoin",
          "GlobalToken",
          "GanjaCoin V2",
          "GPU Coin",
          "GreenCoin",
          "Groestlcoin",
          "GrowthCoin",
          "GunCoin",
          "Halloween Coin",
          "HoboNickels",
          "HerbCoin",
          "HexCoin",
          "HOdlcoin",
          "HappyCoin",
          "Hitcoin",
          "HTML5 Coin",
          "HollyWoodCoin",
          "HexxCoin",
          "HyperStake",
          "HyperCoin",
          "I0coin",
          "iBankCoin",
          "Ignition",
          "Infinite Coin",
          "ILCoin",
          "Impeach",
          "Independent Money System",
          "Impact",
          "Infinex",
          "Innova",
          "InsaneCoin",
          "Insane Coin",
          "IOCoin",
          "Internet of People",
          "IrishCoin",
          "IslaCoin",
          "Interzone",
          "IXcoin",
          "JoinCoin",
          "Junson Ming Chan Coin",
          "Jumpcoin",
          "Kcash",
          "KEYCO",
          "Klingon Empire Darsek",
          "KekCoin",
          "Ketan",
          "KrugerCoin",
          "KiloCoin",
          "Kalkulus",
          "Komodo",
          "KoboCoin",
          "Kore",
          "Karbo",
          "KREDS",
          "Kronecoin",
          "Kurrent",
          "KushCoin",
          "LanaCoin",
          "Lutetium Coin",
          "LitecoinCash",
          "Litecoin Plus",
          "LiteDoge",
          "Linda",
          "Linx",
          "Let it Ride",
          "Lithium",
          "LuckyCoin",
          "LomoCoin",
          "Loki",
          "LottoCoin",
          "Lisk",
          "Litebar ",
          "Litecoin",
          "LiteCreed",
          "LiteCoin Ultra",
          "Lethean",
          "LUXCoin",
          "Lynx",
          "Magnet",
          "MarsCoin ",
          "MaxCoin",
          "Theresa May Coin",
          "My Big Coin",
          "MacronCoin",
          "1717 Masonic Commemorative Token",
          "MegaCoin",
          "MediterraneanCoin",
          "MedicCoin",
          "MassGrid",
          "XiaoMiCoin",
          "MinCoin",
          "MintCoin",
          "MMOCoin",
          "MindCoin",
          "MonaCoin",
          "MoneyCoin",
          "Monkey Project",
          "MoonCoin",
          "MasterCoin",
          "MustangCoin",
          "MudraCoin",
          "MUNcoin",
          "Muse",
          "MazaCoin",
          "NamoCoin",
          "Nano",
          "Nautilus Coin",
          "NavCoin",
          "Niobio Cash",
          "Newton Coin",
          "Nebuchadnezzar",
          "NeosCoin",
          "IncaKoin",
          "Gulden",
          "Namecoin",
          "NobleCoin",
          "Dnotes",
          "Nasdacoin",
          "Neutron",
          "Nexus",
          "Nxt",
          "NyanCoin",
          "NewYorkCoin",
          "Zealium",
          "OrangeCoin",
          "Obsidian",
          "OKCash",
          "OmniCron",
          "Omni",
          "DeepOnion",
          "Ontology",
          "Onix",
          "OpalCoin",
          "Orbitcoin",
          "OsmiumCoin",
          "Oduwa",
          "Oxycoin",
          "PacCoin",
          "Pakcoin",
          "Particl",
          "PAXEX",
          "Pioneer Coin",
          "Photon",
          "Phreak",
          "Piggy Coin",
          "PinkCoin",
          "PirateCash",
          "Pirl",
          "PizzaCoin",
          "PLNCoin",
          "PlatinCoin",
          "PluraCoin",
          "PlusOneCoin",
          "PandaCoin",
          "PhantomX",
          "Peony Coin",
          "Poa Network",
          "PopularCoin",
          "Poseidon Quark",
          "PotCoin",
          "Project Pai",
          "ProsperCoin",
          "ProCurrency",
          "Proton",
          "Printerium",
          "PesoBit",
          "Poseidon",
          "PesetaCoin",
          "Pura",
          "Pushi",
          "PutinCoin",
          "PWR Coin",
          "PhoenixCoin",
          "QuarkCoin",
          "Quantum Resistant Ledger",
          "Quatloo",
          "QTUM",
          "Qwertycoin",
          "Radium",
          "Condensate",
          "RubyCoin",
          "Russiacoin",
          "Reality Clash",
          "Reddcoin",
          "Regalcoin",
          "Revenu",
          "Riecoin",
          "RenosCoin",
          "RootCoin",
          "RoyalCoin",
          "RonPaulCoin",
          "Rupee",
          "Revolution VR",
          "Ryo",
          "SafeExchangeCoin",
          "StableCoin",
          "Siacoin",
          "Swiscoin",
          "Semux",
          "Shilling",
          "SibCoin",
          "Swisscoin",
          "Signatum",
          "StorjCoin",
          "SLICE",
          "SolarCoin",
          "SmartCash",
          "SmartCoin",
          "SmileyCoin",
          "SocialCoin",
          "SoilCoin",
          "Sojourn Coin",
          "Song Coin",
          "SoonCoin",
          "Stipend",
          "SparksPay",
          "Spreadcoin",
          "Squall Coin",
          "ShareChain",
          "Stakecoin",
          "Sativa Coin",
          "Sucre",
          "Sumokoin",
          "SuperCoin",
          "SwingCoin",
          "SexCoin",
          "SyncCoin",
          "SysCoin",
          "TajCoin",
          "Lamden Tau",
          "TigerCash",
          "TeamUP",
          "TerraNovaCoin",
          "TeslaCoin",
          "TigerCoin",
          "TittieCoin",
          "Tokyo Coin",
          "TorCoin",
          "TokenPay",
          "TPCash",
          "TerraCoin",
          "Travelflex",
          "Triangles Coin",
          "TruckCoin",
          "Trollcoin",
          "TurtleCoin",
          "Trivechain",
          "ThunderStake",
          "Titan Coin",
          "BitTube",
          "TrezarCoin",
          "Ucoin",
          "UnitedBitcoin",
          "UFO Coin",
          "Unitus",
          "Universal Molecule",
          "UnbreakableCoin",
          "Unify",
          "GameUnits",
          "Unobtanium",
          "Urals Coin",
          "UroCoin",
          "Ultimate Secure Cash",
          "UnitaryStatus Dollar",
          "Unified Society USDEX",
          "UltraCoin",
          "Vechain",
          "ViaCoin",
          "TheVig",
          "VIP Tokens",
          "Vitae",
          "VIVO Coin",
          "VaultCoin",
          "Velox",
          "Vollar",
          "VeriCoin",
          "Vertcoin",
          "Vtorrent",
          "Virta Unique Coin",
          "Digiwage",
          "Waves",
          "Wild Beast Coin",
          "WorldCoin",
          "Webchain",
          "WomenCoin",
          "BitcoinPlus",
          "Bitcoin Incognito",
          "X11 Coin",
          "Xchange",
          "Cannabis Industry Coin",
          "Cryptonite",
          "Crypti",
          "Creatio",
          "CoinonatX",
          "DigitalNote ",
          "XDNA",
          "XenixCoin",
          "GoldReserve",
          "HiCoin",
          "Infinity Economics",
          "Xios",
          "JouleCoin",
          "LeviarCoin",
          "Monero Classic",
          "Monoeci",
          "Motion",
          "Monero",
          "MyriadCoin",
          "Enigma",
          "Opair",
          "PayCoin",
          "Ratecoin",
          "Bitcoin Rhodium",
          "SHIELD",
          "Stakenet",
          "StealthCoin",
          "Xt3ch",
          "UltraNote",
          "Verge",
          "VirtacoinPlus",
          "WhiteCoin",
          "ZCoin",
          "YoCoin",
          "Zilbercoin",
          "ZCC Coin",
          "ZClassic",
          "ZCash",
          "ZeitCoin",
          "Horizen",
          "ZEPHYR",
          "Zero",
          "ZetaCoin",
          "ZoneCoin",
          "BitZeny",
          "Zoin",
          "ZayedCoin"
         ],
         "legendgroup": "",
         "marker": {
          "color": [
           5,
           1,
           0,
           0,
           0,
           3,
           0,
           0,
           1,
           1,
           1,
           4,
           1,
           0,
           0,
           4,
           1,
           4,
           5,
           1,
           0,
           0,
           1,
           0,
           5,
           0,
           0,
           1,
           0,
           0,
           1,
           1,
           3,
           0,
           0,
           0,
           1,
           5,
           4,
           4,
           0,
           1,
           4,
           0,
           0,
           0,
           1,
           4,
           0,
           0,
           1,
           0,
           1,
           0,
           0,
           1,
           0,
           1,
           0,
           1,
           0,
           1,
           0,
           0,
           4,
           0,
           4,
           4,
           4,
           0,
           0,
           2,
           4,
           0,
           0,
           0,
           1,
           0,
           0,
           0,
           0,
           1,
           0,
           1,
           1,
           1,
           0,
           4,
           0,
           1,
           0,
           4,
           0,
           0,
           4,
           0,
           4,
           0,
           0,
           0,
           0,
           1,
           4,
           1,
           0,
           0,
           0,
           4,
           4,
           1,
           1,
           1,
           0,
           0,
           4,
           0,
           4,
           0,
           4,
           0,
           0,
           0,
           0,
           4,
           1,
           1,
           0,
           0,
           1,
           0,
           0,
           1,
           1,
           0,
           0,
           1,
           4,
           1,
           1,
           1,
           0,
           0,
           1,
           0,
           4,
           4,
           1,
           0,
           0,
           0,
           0,
           1,
           1,
           0,
           0,
           5,
           1,
           0,
           0,
           4,
           4,
           0,
           0,
           0,
           0,
           4,
           4,
           0,
           0,
           4,
           1,
           1,
           0,
           1,
           0,
           4,
           1,
           1,
           0,
           0,
           0,
           1,
           1,
           0,
           0,
           1,
           0,
           0,
           1,
           5,
           1,
           0,
           0,
           0,
           4,
           1,
           1,
           1,
           0,
           0,
           1,
           1,
           0,
           1,
           0,
           0,
           0,
           1,
           4,
           0,
           0,
           0,
           0,
           4,
           0,
           0,
           1,
           0,
           0,
           1,
           1,
           0,
           0,
           0,
           4,
           1,
           0,
           0,
           0,
           0,
           1,
           0,
           1,
           1,
           4,
           0,
           1,
           0,
           4,
           0,
           0,
           0,
           1,
           1,
           0,
           4,
           0,
           0,
           4,
           1,
           1,
           1,
           0,
           0,
           0,
           3,
           0,
           0,
           0,
           1,
           0,
           4,
           1,
           0,
           4,
           1,
           5,
           1,
           1,
           0,
           0,
           4,
           0,
           5,
           0,
           1,
           0,
           0,
           0,
           0,
           1,
           1,
           4,
           0,
           4,
           0,
           1,
           0,
           0,
           1,
           1,
           0,
           0,
           5,
           1,
           0,
           0,
           4,
           0,
           0,
           0,
           4,
           0,
           0,
           4,
           4,
           0,
           0,
           0,
           1,
           1,
           1,
           0,
           0,
           0,
           0,
           0,
           1,
           1,
           0,
           0,
           0,
           0,
           1,
           1,
           0,
           0,
           1,
           0,
           0,
           1,
           0,
           5,
           1,
           1,
           0,
           0,
           1,
           1,
           0,
           0,
           0,
           1,
           4,
           1,
           0,
           4,
           4,
           4,
           0,
           0,
           0,
           3,
           1,
           0,
           0,
           1,
           1,
           0,
           0,
           0,
           0,
           1,
           1,
           1,
           0,
           0,
           0,
           0,
           1,
           4,
           1,
           0,
           5,
           0,
           0,
           0,
           0,
           4,
           0,
           0,
           0,
           1,
           0,
           0,
           0,
           1,
           0,
           1,
           4,
           0,
           1,
           4,
           0,
           5,
           1,
           4,
           0,
           0,
           0,
           1,
           1,
           1,
           1,
           1,
           1,
           4,
           1,
           1,
           1,
           0,
           1,
           1,
           0,
           1,
           0,
           0,
           1,
           4,
           0,
           0,
           1,
           0,
           1,
           0,
           5,
           0,
           0,
           0,
           0,
           1,
           0,
           0,
           0,
           0,
           0,
           1,
           4,
           0,
           0,
           0,
           5,
           0,
           0,
           0,
           4,
           0,
           0,
           1,
           1,
           4,
           4,
           1,
           1,
           0,
           1,
           1,
           1,
           0,
           0,
           0,
           0,
           3,
           1,
           0,
           0,
           0,
           1,
           1,
           0,
           4,
           0,
           1,
           0,
           0,
           0,
           3,
           1,
           1,
           4,
           0,
           0,
           0,
           0,
           1,
           4,
           4,
           0,
           null,
           0,
           4,
           0,
           0,
           0,
           0,
           0,
           0,
           1,
           4,
           4,
           0,
           1,
           4,
           4,
           0,
           0,
           0,
           0,
           1,
           4,
           0,
           0,
           0,
           4,
           4,
           0,
           0,
           4,
           1,
           0,
           0,
           4,
           4,
           0,
           4,
           5,
           4,
           1,
           0,
           1,
           4,
           1
          ],
          "coloraxis": "coloraxis",
          "symbol": "circle"
         },
         "mode": "markers",
         "name": "",
         "scene": "scene",
         "showlegend": false,
         "type": "scatter3d",
         "x": [
          2.309384190257204,
          0.49498131391519923,
          -0.3020447641823656,
          -0.31868546804005454,
          -0.3186675603023451,
          -0.25317402052622123,
          -0.318352506594208,
          -0.34648436036133967,
          -0.13967326224481083,
          -0.24161991358622248,
          -0.1553168105518232,
          -0.15976127121303876,
          -0.16467530484489154,
          0.633843990098622,
          -0.23237498527634923,
          -0.15759798230302366,
          -0.2453489464980597,
          -0.15806467206974772,
          3.7532615990395857,
          -0.24575151845533283,
          -0.31835820270917137,
          -0.36810229667856775,
          -0.15582109930772253,
          -0.3184689571095246,
          3.736185712544316,
          -0.3511148070145398,
          -0.3532652985466442,
          -0.2329005453391008,
          -0.3183454801810762,
          -0.4055944462781106,
          -0.24628447145071067,
          -0.246255870771468,
          -0.17785583437745672,
          -0.31835202412819563,
          -0.268512182520764,
          -0.31820482395451355,
          -0.16486762878356917,
          3.8493423774741373,
          0.31937282966043634,
          -0.1523407725351997,
          -0.2929258325277388,
          -0.15592428572857198,
          0.29779045867610715,
          -0.3748418408850927,
          0.5815445621334254,
          -0.3180502638004508,
          -0.16414470914962354,
          -0.09646302475339902,
          -0.318381127938616,
          -0.31827829892707704,
          -0.1551430160906644,
          -0.3109329131514376,
          -0.24615047949587884,
          -0.3186539101419586,
          -0.27176640991628453,
          -0.24615184103623575,
          -0.4074746500543862,
          -0.1648676663004279,
          -0.3598021050196297,
          -0.15632612099008997,
          -0.3186814091186098,
          -0.16486846348361853,
          -0.3273266817526711,
          -0.2765867048927116,
          0.05763707804936414,
          -0.38958810175425923,
          -0.15427836072864587,
          -0.1541113875773723,
          -0.15327071686056123,
          -0.41487535749124643,
          -0.3300327002134363,
          34.024822259731316,
          -0.15023682659693646,
          -0.25842684169225294,
          -0.155107369400293,
          0.044613389416001445,
          -0.1563613691695684,
          -0.31993692364901366,
          -0.2860533858352595,
          -0.3273422225262527,
          -0.38825789368507924,
          -0.1561863898422789,
          -0.31866571052676823,
          -0.15627274001254576,
          -0.15449697046845245,
          -0.13982365360630108,
          -0.3533044751806873,
          -0.15155893096092454,
          -0.29940439254631634,
          -0.24037588453248573,
          -0.32357763285792007,
          -0.11420191080814253,
          -0.31628834383305093,
          -0.31584458356328776,
          0.2976426933689095,
          -0.27160315036125526,
          -0.10987205654419192,
          -0.4048268759610873,
          -0.4312596530429821,
          0.5870261178737723,
          -0.4143808982182857,
          -0.16465804151739802,
          -0.04915442368471134,
          -0.2463056646065058,
          0.6241829711530475,
          -0.3512310668390772,
          -0.3175215811943466,
          -0.15262593659776055,
          -0.146534485222947,
          -0.19759689142183332,
          -0.18816703700269138,
          -0.24632825763956032,
          -0.40849042298514576,
          -0.3685786055249834,
          -0.08608608653273465,
          -0.3273612550025269,
          -0.16812737685042078,
          -0.07196286614679105,
          0.33373682132435745,
          -0.31768142947893624,
          -0.2652880670122437,
          -0.35451213928370806,
          -0.2783049651000577,
          0.15728344917656295,
          -0.15567410490673494,
          0.25312918933988615,
          -0.27672780290116916,
          -0.20600650185038763,
          -0.16504944417862374,
          -0.37586727788099694,
          -0.3602026506707645,
          -0.15358149081096228,
          -0.24535731543487477,
          -0.3979715668622121,
          -0.3511142379024748,
          0.2125064423915516,
          -0.1727456958302065,
          0.09214676686914779,
          -0.12731926981993064,
          -0.15449518194306888,
          0.19857660514783454,
          -0.32729763418933355,
          -0.15601935719590543,
          -0.2466915049181913,
          -0.16274072809645185,
          -0.16110783160183692,
          -0.2007727570619661,
          -0.2984632903257758,
          -0.31782718421801825,
          0.8585882618384988,
          -0.31989234970494873,
          -0.15163012609504892,
          -0.1559587199091861,
          -0.3171840282837249,
          -0.4082575009573685,
          3.746431782844198,
          -0.155746549792123,
          -0.4059105044631066,
          0.5840703578262596,
          -0.16037604311291256,
          -0.16193218648080662,
          -0.3186044883293909,
          -0.3272050781270916,
          -0.40802693068743845,
          -0.3553328325515141,
          -0.14845226601487443,
          -0.16299824509028019,
          -0.37528961020130647,
          -0.2319286945612109,
          -0.12956215938814847,
          -0.15598809876995953,
          -0.15343249793817215,
          -0.22831060632234576,
          -0.1561631629711115,
          -0.35443807457075993,
          0.37748869496682413,
          -0.15632967070553686,
          -0.15620139032416203,
          -0.24302765784682462,
          -0.31675736121951076,
          -0.3426747286385664,
          -0.17592718800212825,
          -0.2453980351209477,
          -0.31862153686915023,
          -0.39102126756271477,
          -0.15497636531828365,
          -0.3167331831118058,
          -0.4082124683666432,
          -0.18055579892967816,
          3.249041949158591,
          -0.13557771203532612,
          -0.3178472255024811,
          0.09526139328419787,
          -0.39127020273154456,
          -0.16036280100270292,
          -0.15512628767047926,
          -0.15540337325579534,
          -0.16301402553244695,
          -0.4107175216911068,
          -0.27659690922410607,
          -0.029369506820030453,
          -0.21203857389597405,
          -0.2608941358379791,
          -0.17365416344758164,
          -0.39490643573005424,
          -0.3167467016808514,
          -0.39056572010576956,
          -0.15624936774859285,
          -0.15897205451098695,
          -0.40778576029759117,
          -0.08660812626376856,
          0.8862642962004827,
          -0.27799957179078016,
          -0.14707427796954187,
          -0.34824786251201795,
          -0.3185679623878186,
          -0.16483100394484523,
          -0.31831634404693243,
          -0.31863564350356444,
          1.5903905297759504,
          -0.13145738018491876,
          -0.3185264105340665,
          -0.318469772785028,
          -0.406627771109288,
          -0.1469197031063133,
          -0.18045571235733687,
          -0.4083201730546771,
          -0.4082538853729863,
          -0.40838525841541773,
          -0.3273186674355627,
          -0.1554150966938602,
          -0.4087379125116829,
          -0.2064898693589308,
          -0.1648298830492734,
          -0.13050873821667258,
          -0.15875534928593957,
          -0.19765629883791921,
          -0.46720511593089165,
          -0.17903174547630224,
          -0.3148528409261301,
          -0.3617048387668148,
          -0.35380143266493447,
          -0.15269611021829965,
          -0.08322349571399634,
          -0.351000857259358,
          -0.25350918639026876,
          -0.24425298862961778,
          -0.272128666693518,
          0.29766552787709183,
          -0.16911323158896224,
          -0.15561546166106863,
          -0.2441310439676508,
          -0.4086211054785019,
          -0.26950782635308923,
          -0.3560591551657546,
          -0.3051978462159405,
          -0.3186265907167225,
          0.11603072678501158,
          0.1456917461942427,
          -0.15530375840689328,
          -0.34974057582628126,
          -0.14593932290031766,
          -0.15604576537322018,
          -0.31159889675142877,
          0.5520737541633198,
          0.1507060698855956,
          3.736577041113149,
          -0.1564001352814924,
          -0.1550592910787741,
          -0.34958001135877476,
          -0.31752067628253144,
          -0.1416093359260079,
          -0.3832111743357987,
          2.288392425974843,
          -0.40727074672856833,
          -0.24586730109099272,
          -0.44271884705751746,
          -0.3256670544427086,
          -0.24687628140439363,
          -0.3476723559130703,
          -0.285447544621676,
          -0.15566031030707939,
          -0.16016760087415274,
          -0.2718544813990057,
          -0.15828394700648205,
          -0.31092037471745,
          -0.15628154805932062,
          -0.018857147761678433,
          -0.2755002035318689,
          -0.24618719633138475,
          -0.15484685213277355,
          -0.31394532775595385,
          -0.36852436125085053,
          2.5624780032224823,
          -0.15641122338301355,
          -0.4087271156391785,
          -0.23073165194917314,
          -0.1560458734464245,
          1.023454055518165,
          -0.2906793236625768,
          -0.3449885724667418,
          -0.04021357855342897,
          -0.2783439427169328,
          -0.27143200512541776,
          0.3015123803446993,
          2.1041242022978475,
          -0.3550165068598662,
          -0.28726634059589273,
          -0.10727739713742943,
          -0.13946432855385668,
          -0.1649073928674657,
          -0.021348651408007544,
          -0.27298488646856744,
          -0.31784002915434556,
          -0.3265393966294211,
          -0.488293454760821,
          -0.3432632926143341,
          -0.14995339372960087,
          1.5883446518482314,
          -0.3547005658472353,
          -0.31722621912239607,
          -0.38802315743495663,
          -0.325843634354507,
          -0.15627558225711952,
          -0.15641128180467484,
          -0.2718370986956338,
          -0.333955612982186,
          -0.23721128354968007,
          -0.27205339084232033,
          -0.34304843002244545,
          -0.15639304150248498,
          -0.31835648390640076,
          3.747674265081508,
          0.4681046061794974,
          -0.15428432923757576,
          -0.3552277347112763,
          -0.36796381579868087,
          -0.24622779050192922,
          1.094378929128451,
          -0.35505074658969,
          -0.395645873921673,
          -0.3998923667196744,
          -0.2759618088776377,
          -0.14449976946961693,
          -0.24630025613599665,
          -0.31820408401605177,
          0.30174860000752857,
          0.31141314374277795,
          -0.1421882165258839,
          0.3641058364408924,
          -0.40785120430545796,
          -0.15912483343012615,
          -0.3188729378157005,
          -0.0726551569866787,
          -0.34671389053502316,
          -0.31299487392807207,
          -0.12474561552599377,
          -0.1562041008088943,
          0.24479348487402736,
          -0.3301178389442638,
          -0.31839962718602044,
          -0.31827646850959135,
          -0.15622481862918555,
          -0.1535672776910348,
          -0.24187817482352061,
          -0.4085529200195361,
          -0.29460430720656783,
          -0.23747098352515839,
          -0.31708923475448847,
          -0.22420096348121174,
          -0.1524839255203133,
          -0.15562535086167203,
          -0.3485204829946451,
          3.0715207587869466,
          -0.355291782631754,
          -0.40373175265971945,
          -0.278324243315519,
          -0.3175636657961294,
          -0.1627738451755363,
          0.03898217208931092,
          -0.4084766021819354,
          -0.32590659281920503,
          -0.21247702350921552,
          -0.27797231896871805,
          -0.3186618010313886,
          -0.23216054424933427,
          -0.15626100628986406,
          -0.30652644697956266,
          -0.15237414156185458,
          -0.16718430241814622,
          -0.10565425198712036,
          -0.1543576097812534,
          0.3595705778013673,
          -0.21149923145031663,
          3.963515098444197,
          -0.15607509247007614,
          -0.14233348531399198,
          -0.12201849055366137,
          -0.34522687307144384,
          -0.32865067804011916,
          -0.1873789476910423,
          0.538849043141404,
          -0.1125598939729286,
          -0.15574838836497956,
          0.5585429757026728,
          -0.15582908222192823,
          -0.14573917399708744,
          -0.08207229382155865,
          -0.15453725284920672,
          -0.16493513435798246,
          -0.3687861973463795,
          -0.18060768245933317,
          -0.24621643642047136,
          -0.3910194373891217,
          0.03638759544989466,
          -0.3549171691530793,
          -0.27208091726643796,
          -0.24630228915906366,
          0.29823781459056975,
          -0.36810815817068965,
          -0.3271615551142518,
          -0.15307989208636613,
          -0.4087563591749448,
          -0.1520753704634884,
          -0.4034166230585493,
          3.7410356377104232,
          -0.2681875424058226,
          -0.35305350768134347,
          -0.31856015177373165,
          -0.25111469679769804,
          -0.16437183357162446,
          -0.30762933078181876,
          -0.22373458579160344,
          -0.40866810644980145,
          -0.35002212695970125,
          -0.3115390673965939,
          -0.16465867025219233,
          -0.14400367627943214,
          -0.2722357404189803,
          -0.405796829893964,
          -0.30510220943009597,
          8.0263091939644,
          -0.36948479450541954,
          -0.17830489598721558,
          -0.28951837889663007,
          0.30555640374906756,
          -0.3380539292618783,
          -0.3685523955288518,
          -0.16484705357871055,
          -0.10586675922094792,
          -0.12977480556110751,
          -0.14554773909434088,
          -0.16464164321259475,
          -0.1560654428062294,
          -0.3185510502244715,
          -0.16523165440018972,
          -0.13496412172324027,
          -0.2464793494394344,
          -0.2859257359433221,
          -0.2939488280213152,
          -0.31417753298431145,
          -0.3173645217267606,
          4.2898549605211365,
          -0.15597786185495394,
          -0.33474331287031506,
          -0.3586689609461176,
          -0.3498353928602652,
          -0.18061011554107428,
          -0.239042885598796,
          -0.2774659624112914,
          -0.15466014694191715,
          -0.2456613813588244,
          -0.18353733986858847,
          -0.31840227479040223,
          -0.3587067607912675,
          -0.35016660806257205,
          -0.4437551509151976,
          -0.1564023405809762,
          -0.15308458611360273,
          -0.1414887427038353,
          0.4495611841015717,
          -0.27864726439279797,
          -0.2808785702098574,
          -0.4086326336794364,
          -0.20743039738135807,
          0.29765990861918984,
          -0.1213168428787081,
          -0.25158190970216565,
          null,
          -0.31810542713933143,
          0.4525685466427645,
          -0.3349177603742919,
          -0.40868208432791686,
          -0.40826366050305396,
          -0.08577960181575897,
          -0.11393893209943308,
          -0.3185105514490438,
          -0.16443904281828894,
          0.2980544127856822,
          0.2978249808553361,
          -0.40853571205020384,
          -0.20800199941466505,
          -0.15385979185248275,
          -0.09581056120248142,
          -0.40871103877787274,
          -0.3539749162761396,
          -0.2872337624750576,
          -0.40658369360931673,
          -0.1099468591183,
          -0.12001871169971358,
          -0.4628081785185419,
          -0.27183454419385683,
          -0.278251279159913,
          1.1345892646744462,
          0.1809978870607366,
          -0.4078877399400842,
          -0.3134867070886416,
          -0.16027852455352068,
          -0.155223395726123,
          -0.2782308269256287,
          -0.3097994266891577,
          -0.15441975122945353,
          -0.15439816218352354,
          0.8733822264462036,
          -0.15439921776457524,
          2.4619700179939024,
          -0.15443211345830227,
          -0.16195704644668102,
          -0.31850527734732614,
          -0.15373050702703187,
          -0.1467930134409127,
          -0.16509076166759287
         ],
         "y": [
          1.6563041337154574,
          -1.2091235190426646,
          0.988031452401529,
          0.9879145494567003,
          0.9879150714770719,
          1.6197217358562925,
          0.9879034942934736,
          0.8312336111391636,
          -1.1646490141422337,
          -0.8502203192568025,
          -1.1644821869433726,
          -2.1884436014707815,
          -1.2568437981748,
          1.522655551363235,
          0.9831641760967326,
          -2.081091642776277,
          -0.8500065342975793,
          -2.1885436241852574,
          1.7495341677948373,
          -0.8500016603089636,
          0.9878950239936419,
          1.0996670238472739,
          -1.1644719736258886,
          0.9879010687169597,
          1.7496419433248407,
          1.4880657838752949,
          1.6377887021976458,
          -0.849931557944821,
          0.987912855537051,
          1.3021795172219737,
          -0.8499902064571953,
          -0.8499921408662088,
          3.017649682026466,
          0.9879048924008733,
          1.798421029516936,
          0.987905723017612,
          -1.256826733569589,
          -2.291607942665145,
          -2.2678162147564143,
          -2.1149695026821855,
          1.3487413054447865,
          -1.1644552728888968,
          -2.2674936333453073,
          1.6227901207411384,
          0.7809436920930448,
          0.9878955185776077,
          -1.2568354181861239,
          -2.2957856598725663,
          0.9879131868599825,
          0.9878973531029939,
          -1.1644909614619976,
          0.988140528126819,
          -0.8499890688238204,
          0.9879133932985225,
          1.7984507362496895,
          -0.8499863404231904,
          1.3023191694898761,
          -1.256826734663165,
          1.5950141080730091,
          -1.1644458651660323,
          0.9879143217879566,
          -1.2568267579002037,
          0.8955266226297502,
          0.7852837459077042,
          -2.1231994730332175,
          1.6906742418869412,
          -2.1148586503714224,
          -2.1148606246132178,
          -2.1148631877147106,
          1.8818899726037523,
          1.6356267937919204,
          1.5159327286278788,
          -2.2720885695999895,
          1.1462003865811872,
          1.2693697549875507,
          1.956374830089117,
          -1.1644457576964644,
          1.392333618922133,
          0.692817598400349,
          0.8955268616549232,
          1.6907130160221913,
          -1.164452864505555,
          0.9879144333740246,
          -1.1644499422271393,
          -1.1644582894862658,
          -1.164653397888751,
          1.637836202559799,
          -2.1707757410385837,
          0.9877845500923812,
          -0.8501494560463609,
          0.8952878163002838,
          -2.017280494958647,
          0.9878736995567903,
          0.9878520335907648,
          -2.2674892902699537,
          1.7984416546498763,
          -1.8145856989092917,
          1.3023485997391817,
          1.0188080796597405,
          0.9625518217100356,
          1.8819043855600182,
          -1.2568351567884417,
          -2.1170392354809384,
          -0.8499887481488531,
          0.5420787876938622,
          1.4880635230222758,
          0.9878861935546205,
          -2.2234568973488877,
          -2.1859096589525833,
          -0.5573461296386585,
          -1.561187184198763,
          -0.8499900295312947,
          1.3023705273768793,
          1.0996775683336297,
          -2.018883025964811,
          0.8955335731098782,
          -2.08084317817129,
          0.8371470414834327,
          -2.267812578999789,
          0.9878711538187059,
          0.9859265233096746,
          1.637767783322027,
          0.7852216152098462,
          -1.8205004390444417,
          -1.1644567314205012,
          -1.2595939051085725,
          0.7852104308507395,
          1.7330282260070637,
          -1.2568248627669865,
          0.9504154783470322,
          1.595030113478542,
          -1.1645008064400841,
          -0.8500178505953627,
          1.9435600055449722,
          1.4880616483321982,
          -1.2603446149640987,
          -2.269326060513208,
          -1.1665419847110603,
          -1.166364974594468,
          -1.1644582373526735,
          1.590564187811815,
          0.8955274693349953,
          -1.1644479956834726,
          1.935744322358188,
          -2.014215341003215,
          -2.0143433751805526,
          -0.8498946960758101,
          1.3488843841901823,
          0.987881437687104,
          1.8308319017525638,
          0.8950665278844671,
          -1.1645129848343856,
          -1.1644538404139366,
          0.9879583148406259,
          1.3023510199669561,
          1.7500271080117373,
          -1.1644753367637846,
          1.3021952172582538,
          1.8167884393712856,
          -2.014273602791581,
          -2.014173638074341,
          0.98791400346481,
          0.8955315512887464,
          1.302364661062633,
          1.6378047589330038,
          -2.1259542133473506,
          -2.0142164121357533,
          0.9504353477953401,
          1.5957647347025843,
          -2.0029186884041583,
          -1.1644602329522815,
          -1.1644687825773288,
          0.14872925688698932,
          -1.1644514954452125,
          1.6377962390654337,
          -2.270744752779381,
          -1.1644502839563111,
          -1.1644526097314594,
          0.22967910866689992,
          0.9879015495251853,
          0.5510996042659762,
          -1.601320320866622,
          -0.8500190375304384,
          0.987914118411683,
          1.6907576977172427,
          -1.16446119097852,
          0.9877984509884861,
          1.3023592528387358,
          -1.6012447268018628,
          -1.2035839899589988,
          -1.1648207043697627,
          0.9879286030243777,
          0.9653795546537075,
          1.6907600502496893,
          -2.1884102717992606,
          -1.164455872745683,
          -1.1644655035664735,
          -1.256874430263928,
          2.014117262239478,
          0.7851304751741578,
          -1.1676619764003564,
          -1.2019682772749254,
          0.7843571233922618,
          -1.6013675562551302,
          1.3017436774615585,
          0.9878880197989383,
          1.6907467805774081,
          -1.1644554651101537,
          -2.259881878754771,
          1.3023370898193904,
          1.2933950902381506,
          1.9065049833063006,
          0.7852245697840081,
          -2.185886786044674,
          1.1002838204707592,
          0.987917974649213,
          -1.2568256659949115,
          0.9878946294108394,
          0.9879125417073611,
          -1.1762246871352335,
          -1.2575683833188658,
          0.9879040074917398,
          0.9879061575158221,
          1.3023639237392284,
          -2.1858935464727054,
          -1.6012509440764962,
          1.3023699538032008,
          1.302371886017864,
          1.3023735928110383,
          0.8955275482604955,
          -1.1644601390861449,
          1.3023785378076065,
          -1.2747478320624543,
          -1.2568256333220102,
          -1.8143587472369973,
          1.1058073235279235,
          -0.5573290023169678,
          1.88670917878422,
          -2.1654622383133613,
          0.9876802554375953,
          1.5239886629088237,
          1.6377040729698846,
          -1.1645202711815554,
          -1.1692317622838837,
          1.4880656452780783,
          -1.8245075920923561,
          1.9355913935756672,
          1.7984526332503632,
          -2.267486894613544,
          -1.3214106591657127,
          -1.1644798199498874,
          -0.8500706849185019,
          1.3023754694331098,
          1.955864657408153,
          1.0996014712218403,
          2.415599308003806,
          0.9879134976083831,
          0.9763652886530821,
          0.9668495452286926,
          -1.164481806487379,
          1.5234707519266089,
          -2.2924011455429936,
          -1.1644480734314353,
          0.987429093403825,
          -2.090059481510368,
          -1.16823078206522,
          1.7496291858303474,
          -1.1644454967226991,
          -1.1644636081752922,
          0.5911428003955199,
          0.9878446986108081,
          -2.223699414423587,
          1.7731689954392937,
          0.08643596453301625,
          1.3023216529425437,
          -0.8499863506538688,
          1.9924522439753078,
          0.8955210212644209,
          0.23919052115018297,
          1.637751244785253,
          -0.06454347999533205,
          -1.1644520623149934,
          -2.1861715245793705,
          0.7850756741269416,
          -2.25215531931267,
          0.9878640848018979,
          -1.1644480260231003,
          0.7927962854402638,
          0.7851354905299747,
          -0.8499839108819522,
          -1.1644720313133872,
          0.9876024485494237,
          1.0996782498672866,
          -1.35092864205552,
          -1.1644453143916313,
          1.3023767764587824,
          1.5956712743215347,
          -2.0706242665876466,
          1.633804140487188,
          0.8949359385432635,
          1.5946500813029323,
          -2.0965949660208825,
          0.7852213273979146,
          1.7984812444503706,
          -2.267600362176995,
          -2.3421556970916524,
          1.6378001390465284,
          0.6928370932639702,
          0.9018245630257002,
          -1.1651134989212928,
          -1.256827892649888,
          -1.1708882871723836,
          0.7850427240343427,
          0.9878810632710182,
          0.8955177381319844,
          2.1474909080276348,
          1.9500171295515354,
          -1.1644898583266725,
          -1.1135871275388818,
          1.637767827066392,
          0.9878186806196373,
          1.6363648652016674,
          0.8955124140397295,
          -1.1644432649456407,
          -1.1644453139977327,
          1.7984563584463567,
          1.691417063166442,
          -0.85047242453983,
          1.7984631317247088,
          0.5511277400304199,
          -1.164446234062617,
          0.9879096065572517,
          1.7500633250332933,
          -0.8983542020443945,
          -1.1645088370283667,
          1.63780184740709,
          1.099639919425292,
          -0.8499899383125039,
          -1.3482123530340373,
          1.6377922207750424,
          1.3020681346416554,
          1.3022903649500404,
          -0.16523210422040727,
          -2.265450792129999,
          -0.8499934346518708,
          0.9879019107840487,
          -2.267776170798709,
          -2.2677712681864817,
          -2.3198715608810905,
          0.7814582063729554,
          1.3023697832977625,
          0.7770263015433255,
          2.1124794196518026,
          -1.1654635964852802,
          1.4877546318789288,
          0.9877897749396438,
          -1.2570959337873742,
          -1.164453380761193,
          0.6564589464037783,
          0.7291906754090245,
          0.9879090409990464,
          0.9879264713824092,
          -1.1644539846633826,
          -1.1644771305148376,
          -0.8500894428908439,
          1.302366629589462,
          0.9872324454029878,
          1.5986145298601613,
          0.9878932598124365,
          -0.461626980830278,
          -2.2233973961172833,
          -1.1644911805617257,
          1.5234602968569277,
          -2.144173807887072,
          1.6377997272958846,
          1.3021784509772063,
          0.7852330985305235,
          0.9878475976448021,
          -2.0142151177169145,
          0.9983401767048578,
          1.302367470128353,
          0.8954291105762143,
          -1.201966525147464,
          0.7852195329042343,
          0.9879152393536293,
          1.5957662979095797,
          -1.1644550394947901,
          0.6285601267193194,
          -1.164472533727536,
          -2.202531113451116,
          0.5469995919246736,
          -1.1645580305745937,
          -2.0847062047388825,
          0.21567848298542203,
          1.7153368383738963,
          -1.1644558485049525,
          -2.28244643365241,
          0.9865885558903884,
          1.467773494781282,
          1.3776789562869067,
          -1.5612334144442188,
          -1.2120661561968753,
          -1.1907228914416137,
          -1.164460996298254,
          -1.1782058402167095,
          -1.1644798185614424,
          -2.2653995123996933,
          -1.169544216994746,
          -1.1645357521815136,
          -1.2568287012845152,
          0.8776134918067092,
          -1.6012387653131943,
          -0.8499875312871843,
          0.7806486974652734,
          -1.1657452275576996,
          1.6377742465422078,
          1.7984554091388663,
          -0.8499898953978194,
          -2.267524805918443,
          1.0997049142020132,
          0.8955189794974442,
          -1.1645207864773268,
          1.3023779994151805,
          -1.2570538360798873,
          1.8983398895609507,
          1.749523805173423,
          0.6927157301669851,
          1.6376629001755965,
          0.9879073145073808,
          0.1352900718860042,
          -1.256830282526699,
          1.5699640583429193,
          1.5954600180680318,
          1.3023736523590994,
          1.5234684272008796,
          0.987430837365202,
          -1.256835175115385,
          -2.2653973660480635,
          1.7984577333879317,
          1.3024642672042661,
          0.9876876670570381,
          -2.7342203367577294,
          0.931875125192598,
          0.9795500959471015,
          1.957015578487299,
          -2.267941985861336,
          0.5509991244747413,
          1.0996781247202363,
          -1.256825556678123,
          -1.601813703352438,
          -1.8143354162274135,
          -2.292445017766358,
          -1.2568609756321298,
          -1.1644481465371324,
          0.9879094713343735,
          -1.2568229850681352,
          -0.8035431490811252,
          -0.8499813544787174,
          0.6927522402391562,
          0.9875283607233947,
          0.9878854018386986,
          0.9878838514490929,
          4.432924320044078,
          -1.164448170182925,
          1.9590882281617275,
          1.5950194571239489,
          1.4880442555510855,
          -1.6012429883670136,
          -0.8504566115689016,
          0.7851723057661287,
          -2.1438437146280234,
          0.10296658923028894,
          -1.321128012046975,
          0.9879089638242248,
          1.5949975946385881,
          1.4880207605436533,
          3.890415277785384,
          -1.1644464454089465,
          -1.1645315948362938,
          -2.2242152745758785,
          0.99300756311034,
          0.7852229907913497,
          0.827177633891854,
          1.302377800451299,
          -1.2205027964736221,
          -2.2674946706510584,
          -2.1693077494883877,
          0.13534565533378812,
          null,
          0.9878980656081201,
          -2.269884938086048,
          0.9630920007857743,
          1.30237749855218,
          1.3023646808631606,
          0.783919233222064,
          0.6916757352051742,
          0.9879051156540052,
          -1.2568308492778364,
          -2.2675060080052565,
          -2.267488059715582,
          1.3023778524928404,
          -1.2204655327271663,
          -2.223364838830032,
          -1.814729439049695,
          1.3023758610379732,
          1.6377931311034235,
          0.692843925068316,
          1.3023894293215637,
          -0.3539026453582187,
          -1.8145077711103081,
          1.0660469544635809,
          1.7984695108692519,
          0.7852047763884759,
          -2.3019064185975298,
          -1.8167331508075162,
          1.3023341172224399,
          0.9878584811737685,
          -2.1884153582713486,
          -1.1645267646061135,
          0.785197760306933,
          0.9874815460217202,
          -2.114862771752527,
          -2.114862142455046,
          0.7502939243648716,
          -2.1148621732240986,
          0.8084434470825121,
          -2.11486036401014,
          -1.256844863046254,
          0.9879052693884007,
          -1.1645397512034397,
          -2.1858861997289005,
          -1.2568254427172925
         ],
         "z": [
          -0.6723493637413795,
          -0.05268136733534236,
          -0.5933683901308214,
          -0.5928947276581082,
          -0.5928953181379137,
          11.842399770316419,
          -0.5929014752350988,
          -0.3792932064586508,
          -0.044589483862058056,
          0.07637223240182146,
          -0.04420060349766791,
          0.42528039494213576,
          0.21846138011038063,
          0.12573056846056613,
          -0.594259731415781,
          0.4259494110870566,
          0.07642946551649868,
          0.4252549174588503,
          -0.27038635726663635,
          0.07643935460387255,
          -0.5928995949345442,
          -0.1550486546572633,
          -0.04418905297256557,
          -0.5928978329551629,
          -0.2699467222474061,
          -0.1900007026700056,
          -0.11900290829406553,
          0.07607767566758841,
          -0.5929035730788349,
          -0.4723061453769281,
          0.07645142715774489,
          0.07645104826491239,
          14.957293892964051,
          -0.5929017732238231,
          -0.6316275460594627,
          -0.5929059216711896,
          0.21846310115400458,
          0.30121415160968207,
          0.3917884116765283,
          0.5407895093897805,
          -0.4793960836878423,
          -0.04418966736221482,
          0.39230608804785116,
          -0.050724872124430075,
          -0.20829826943786484,
          -0.5929080200344264,
          0.21844532896907026,
          0.4130266026868446,
          -0.5929026769642047,
          -0.5929022296110885,
          -0.04420351323913574,
          -0.5931503535429009,
          0.07644757318633051,
          -0.592895345105737,
          -0.6315456312759843,
          0.07644705391992165,
          -0.47228378148739897,
          0.21846310239105227,
          -0.5472436104756673,
          -0.044180722204245175,
          -0.592894790979232,
          0.21846312867667225,
          -0.33024677045015516,
          -0.27573765168173425,
          0.5367906636897121,
          -0.5072512292073301,
          0.5408192941964802,
          0.540815182894678,
          0.5407929800077667,
          -0.6976887258409649,
          -0.09782668500404494,
          -1.2702848040733539,
          0.40311622251739987,
          -0.1620518876154628,
          0.06934114932584752,
          -0.7237349110962671,
          -0.04417979126785255,
          -0.23001602926786058,
          -0.013051438128679626,
          -0.3302463990626095,
          -0.5072950903101086,
          -0.04418307293282148,
          -0.5928952380906168,
          -0.044181334274430134,
          -0.044227636178487933,
          -0.044584524990497774,
          -0.11901153024980404,
          0.4346546534745718,
          -0.5933894446124414,
          0.07632416088163964,
          -0.3302994450682542,
          0.38025716141026494,
          -0.5929512018892356,
          -0.5929587820394208,
          0.39230919732823893,
          -0.6315481936487878,
          0.35662156246534615,
          -0.4723613550744083,
          -0.05525938645223692,
          -0.612209055486955,
          -0.6977050297031143,
          0.21845915225244286,
          0.5384219739618281,
          0.07645170284161831,
          -0.2638747653961791,
          -0.18999709911697454,
          -0.5929204110238055,
          0.3524576480836584,
          0.33220163638151695,
          0.001474525505071401,
          0.1761587135052554,
          0.07645257474042363,
          -0.47226678998896143,
          -0.15503792798880545,
          0.37982373567672967,
          -0.3302472524242593,
          0.3527566103442823,
          -0.351088447318567,
          0.3913993788350943,
          -0.5929130247256583,
          -0.5939330054613857,
          -0.11896493986123197,
          -0.2756785403617726,
          0.35060520856730554,
          -0.044196133065631416,
          0.20772765639063512,
          -0.2757188952250977,
          -0.3674818315997499,
          0.2184676347577224,
          -0.44553501884071783,
          -0.5472360448444565,
          -0.04424371837805283,
          0.07643199810894835,
          -0.7374585752552566,
          -0.18999987519444989,
          0.2089787842405103,
          0.375208267312354,
          -0.050470310207686525,
          -0.04457371299091937,
          -0.04422769515174019,
          -0.5614309427854454,
          -0.330247728238783,
          -0.044188580519370906,
          -0.6846945081950051,
          0.3809445723851443,
          0.3809265259133556,
          0.0752016746371179,
          -0.47927555412846695,
          -0.5929111805813116,
          -0.668701292197112,
          -0.33035396625570107,
          -0.04429398620586255,
          -0.0441890284778144,
          -0.59294423480881,
          -0.4722691106275903,
          -0.2703021971149094,
          -0.04419038278099881,
          -0.47230080139996483,
          -0.6102997094546583,
          0.3808925237567218,
          0.38091421621661986,
          -0.5928968054486239,
          -0.33025106218072453,
          -0.4722781236490539,
          -0.11895029058222702,
          0.3574338627265186,
          0.3809517519699662,
          -0.445554684099073,
          -0.3143161841236789,
          0.2591562446917295,
          -0.04418693144400894,
          -0.044254272743433125,
          -0.5266036327472123,
          -0.0441839798352593,
          -0.11897274153151018,
          0.39081426746717884,
          -0.04417972565901668,
          -0.04418271936037577,
          -0.49263147923985,
          -0.5929441993348399,
          -0.3550662444193784,
          0.19354126679928568,
          0.07643334076381374,
          -0.5928963680144325,
          -0.50722949645866,
          -0.04421408567982341,
          -0.5929238405385461,
          -0.4722720058939406,
          0.19365098210042084,
          -0.12825898645750505,
          -0.04466520406074722,
          -0.5929202515286971,
          -0.5994918369238755,
          -0.507223246633334,
          0.4252898628010131,
          -0.04421111683518206,
          -0.04420166372660762,
          0.2184227149853683,
          -0.7896683408119339,
          -0.2757061379148518,
          -0.046957180775006095,
          0.10314402360479688,
          -0.27597300423828214,
          0.193489448686747,
          -0.4725062389995466,
          -0.5929417300098528,
          -0.5072395859488011,
          -0.04418084046864582,
          0.20654897892302343,
          -0.47227902377996217,
          -0.47913873843715116,
          -0.7093616841738957,
          -0.27568739801581327,
          0.3322115665258194,
          -0.15571107439417997,
          -0.5928986021913387,
          0.21846189351900913,
          -0.5929006460513444,
          -0.5928956653333762,
          -0.08899787689545702,
          0.21771109975979946,
          -0.592896878804597,
          -0.592898848047428,
          -0.47231579588830086,
          0.3322087658451022,
          0.1936495436645205,
          -0.47227127533811974,
          -0.47227346104942824,
          -0.47227025759234686,
          -0.33024717574730855,
          -0.04420244014318021,
          -0.47226173237199476,
          0.07288010346363641,
          0.21846185655959133,
          0.3571331648520119,
          -0.161959232701827,
          0.001472640726190751,
          -0.08592226191988965,
          0.4691512578054505,
          -0.5929505812367837,
          -0.04583578967879156,
          -0.11897116717248163,
          -0.044263685173567095,
          -0.045181447040838416,
          -0.19000375474751982,
          1.159439015214918,
          -0.6847292586899906,
          -0.6315362252647001,
          0.39230809180299253,
          0.16907284817119692,
          -0.04419301268303016,
          0.07640961725994455,
          -0.4722642645740127,
          -0.7151395120707165,
          -0.15536084836400188,
          13.681817818921777,
          -0.592896104872111,
          -0.6022922689128378,
          -0.6011546827172425,
          -0.04420103386753524,
          0.041119686802474,
          0.413674267486508,
          -0.044187850799679344,
          -0.5929873538308076,
          0.35923514360143205,
          -0.051709111587142025,
          -0.26995470067237753,
          -0.044178796519130266,
          -0.04421135135923903,
          -0.3725746726796739,
          -0.5929119784520449,
          0.3522092710521969,
          -0.483813972495005,
          -0.38878050730439273,
          -0.47228979961428463,
          0.07643936423367348,
          -0.5847873467720508,
          -0.33029049239885205,
          -0.5335491397733243,
          -0.11914646429094823,
          0.1494655401906984,
          -0.044197457570161705,
          0.3222820522371479,
          -0.27582316774878984,
          0.3380525670156638,
          -0.5930943509106413,
          -0.044181486711795,
          -0.28423579784117303,
          -0.2757368065740901,
          0.07644751449331817,
          -0.04421537736474783,
          -0.5929592556855655,
          -0.15503953323925335,
          -0.07966944575786518,
          -0.04417853394282947,
          -0.47226166525803054,
          -0.3143294949022304,
          0.29237943231713315,
          -0.1591594046232965,
          -0.33111704651077634,
          -0.547569862596008,
          0.2505833581135136,
          -0.27567742804824363,
          -0.6315608888481549,
          0.3922272281884131,
          0.35869350215531914,
          -0.11895790002225783,
          -0.013022622386623755,
          -0.33747878592841657,
          -0.044500465748630355,
          0.21846441229969005,
          -0.04651645256424813,
          -0.27578589477316623,
          -0.5929107570437572,
          -0.3302662418452529,
          -0.3584370955505611,
          -0.2554861938901962,
          -0.04434402553625955,
          -0.10170865630623213,
          -0.11895985517187414,
          -0.5929146356137234,
          -0.09640949455023926,
          -0.3302839648084343,
          -0.044182618330554424,
          -0.044178532443837064,
          -0.631544866248159,
          -0.136597127768588,
          0.076304438226768,
          -0.6315403998258539,
          -0.35506187672423456,
          -0.044178838004002526,
          -0.5929026134521571,
          -0.2703431656238018,
          0.06699684843451112,
          -0.04422308232909716,
          -0.11895253822485653,
          -0.15504687399601047,
          0.0764498402906563,
          0.17721107730574379,
          -0.1189553606301441,
          -0.4725523774988441,
          -0.4724828774855629,
          0.3093218335586177,
          0.3381232243787218,
          0.07645251178861254,
          -0.5929051647067857,
          0.3922566739654121,
          0.39199441985007843,
          0.2966205433005685,
          -0.2922773710730611,
          -0.4722839178951417,
          -0.2772299775228446,
          8.046396973627106,
          -0.04623511887582464,
          -0.19005625409157234,
          -0.5930231274077704,
          0.21743337591271264,
          -0.0441824889470938,
          -0.019991241795812634,
          -0.0604541444445543,
          -0.5929013319240235,
          -0.5929082136523189,
          -0.04418180581603629,
          -0.044248927952776,
          0.07635254004739332,
          -0.4722643061466253,
          -0.5934066782165597,
          -0.5512843005415738,
          -0.5929335385111376,
          0.041368864232884876,
          0.35244168232346706,
          -0.04419042996274881,
          0.041088835712568966,
          0.30215765146196927,
          -0.1189503747644978,
          -0.47235628097391635,
          -0.27568035962862675,
          -0.5929114071948489,
          0.38094542210850874,
          -0.6046881436623962,
          -0.4722665405030944,
          -0.3302652849190963,
          0.10315551881069963,
          -0.27568710816219427,
          -0.5928955080390137,
          -0.3143102352868724,
          -0.044180612596162676,
          -0.06206955963674542,
          -0.04428211804132095,
          0.5142613820676943,
          -0.24514848409185708,
          -0.04421107531055946,
          0.23735323593045346,
          -0.3871424867978669,
          -0.40212027943647966,
          -0.044185473392374025,
          0.28542474803173795,
          -0.5979408407834801,
          -0.1320619646164381,
          -0.062816028714723,
          0.1761468317621314,
          -0.05326747801949518,
          0.14958641551392823,
          -0.04419325579282663,
          -0.060700879943060095,
          -0.0441872383092771,
          0.3381462770843103,
          -0.04514888567313435,
          -0.04421075967584683,
          0.21846532702302904,
          -0.4758357908533131,
          0.19365116962826345,
          0.07644904279075404,
          -0.14939874100348435,
          -0.049125397227676386,
          -0.11895530823015737,
          -0.6315380817923367,
          0.07645184541488947,
          0.39230034822902926,
          -0.1550562185943416,
          -0.33024967646683023,
          -0.044253205642223785,
          -0.4722611239870174,
          0.2181635823751705,
          -0.7000546191056877,
          -0.2700537493250014,
          -0.013513631465702444,
          -0.11898299393405201,
          -0.5928966406998271,
          0.12560203775750575,
          0.21845042197387995,
          -0.16744500799637527,
          -0.3144755858695637,
          -0.472262623693669,
          0.04112777157884391,
          -0.5929893265909663,
          0.21845917298378711,
          0.3380989251307151,
          -0.6315343702675913,
          -0.4723587090254706,
          -0.5932156738606392,
          0.27850938869923847,
          -0.3776960010574349,
          -0.5949847894627887,
          -0.7148331484711175,
          0.3921875348076268,
          -0.3551706766268699,
          -0.15503874990195743,
          0.21846230509792963,
          0.19174792741091462,
          0.3571085698941881,
          0.4136726236166244,
          0.2184639710752936,
          -0.04418730397367317,
          -0.5928973263159718,
          0.2184721776289959,
          0.06942131868793414,
          0.07645489104861926,
          -0.013041568233147153,
          -0.5934847074701687,
          -0.5930106470053026,
          -0.5929241793620036,
          9.628081263460997,
          -0.04418966666967588,
          -0.7140330383291924,
          -0.5472753321584335,
          -0.19003090052572982,
          0.19365209609549805,
          0.07635072783471339,
          -0.27569117084335076,
          0.474287409515827,
          -0.28668830192218636,
          0.16940515914170873,
          -0.5929012446242616,
          -0.5472698545750563,
          -0.19001715852581483,
          16.778313703105724,
          -0.04417854355421522,
          -0.04425087591344765,
          0.3523111479641779,
          -0.6147002084090922,
          -0.27566956757754835,
          -0.15641365300701784,
          -0.4722644280220966,
          0.17102981598571912,
          0.39230982852917173,
          0.43447002923446687,
          0.12560333920616323,
          null,
          -0.5929070479492423,
          0.3886094480369509,
          -0.39780212680086346,
          -0.472263029727262,
          -0.4722717283313596,
          -0.28061750834456395,
          -0.017471367262582967,
          -0.5928975333654554,
          0.21845235430377002,
          0.39230147482341415,
          0.39230401887904004,
          -0.4722670586439229,
          0.17103767302928974,
          0.35247223970470803,
          0.3562707432984241,
          -0.47226191328189937,
          -0.11898462833911488,
          -0.013024895430076308,
          -0.4723221856663019,
          -0.08281846727387596,
          0.3568799676003952,
          0.04728937415430581,
          -0.6315476158814193,
          -0.2756765597170905,
          0.3766991128121726,
          0.34919634618974005,
          -0.4722756611935486,
          -0.5930238349557673,
          0.42528862128174694,
          -0.04419404339719895,
          -0.27567568264920483,
          -0.5930466879629458,
          0.5408239562816317,
          0.5408232444235498,
          -0.2996927330465446,
          0.5408232792293464,
          -0.12474957499480914,
          0.5408237997421823,
          0.21838811634312094,
          -0.5928977072690146,
          -0.044231752841385474,
          0.33220384380023976,
          0.2184688698637581
         ]
        }
       ],
       "layout": {
        "autosize": true,
        "coloraxis": {
         "colorbar": {
          "title": {
           "text": "Class"
          }
         },
         "colorscale": [
          [
           0,
           "#0d0887"
          ],
          [
           0.1111111111111111,
           "#46039f"
          ],
          [
           0.2222222222222222,
           "#7201a8"
          ],
          [
           0.3333333333333333,
           "#9c179e"
          ],
          [
           0.4444444444444444,
           "#bd3786"
          ],
          [
           0.5555555555555556,
           "#d8576b"
          ],
          [
           0.6666666666666666,
           "#ed7953"
          ],
          [
           0.7777777777777778,
           "#fb9f3a"
          ],
          [
           0.8888888888888888,
           "#fdca26"
          ],
          [
           1,
           "#f0f921"
          ]
         ]
        },
        "legend": {
         "tracegroupgap": 0,
         "x": 0,
         "y": 1
        },
        "margin": {
         "t": 60
        },
        "scene": {
         "aspectmode": "auto",
         "aspectratio": {
          "x": 1,
          "y": 1,
          "z": 1
         },
         "camera": {
          "center": {
           "x": 0,
           "y": 0,
           "z": 0
          },
          "eye": {
           "x": 1.3685985885382583,
           "y": 0.2140031125369553,
           "z": 1.8073415107559465
          },
          "projection": {
           "type": "perspective"
          },
          "up": {
           "x": 0,
           "y": 0,
           "z": 1
          }
         },
         "domain": {
          "x": [
           0,
           1
          ],
          "y": [
           0,
           1
          ]
         },
         "xaxis": {
          "title": {
           "text": "PC 1"
          },
          "type": "linear"
         },
         "yaxis": {
          "title": {
           "text": "PC 2"
          },
          "type": "linear"
         },
         "zaxis": {
          "title": {
           "text": "PC 3"
          },
          "type": "linear"
         }
        },
        "template": {
         "data": {
          "bar": [
           {
            "error_x": {
             "color": "#2a3f5f"
            },
            "error_y": {
             "color": "#2a3f5f"
            },
            "marker": {
             "line": {
              "color": "#E5ECF6",
              "width": 0.5
             }
            },
            "type": "bar"
           }
          ],
          "barpolar": [
           {
            "marker": {
             "line": {
              "color": "#E5ECF6",
              "width": 0.5
             }
            },
            "type": "barpolar"
           }
          ],
          "carpet": [
           {
            "aaxis": {
             "endlinecolor": "#2a3f5f",
             "gridcolor": "white",
             "linecolor": "white",
             "minorgridcolor": "white",
             "startlinecolor": "#2a3f5f"
            },
            "baxis": {
             "endlinecolor": "#2a3f5f",
             "gridcolor": "white",
             "linecolor": "white",
             "minorgridcolor": "white",
             "startlinecolor": "#2a3f5f"
            },
            "type": "carpet"
           }
          ],
          "choropleth": [
           {
            "colorbar": {
             "outlinewidth": 0,
             "ticks": ""
            },
            "type": "choropleth"
           }
          ],
          "contour": [
           {
            "colorbar": {
             "outlinewidth": 0,
             "ticks": ""
            },
            "colorscale": [
             [
              0,
              "#0d0887"
             ],
             [
              0.1111111111111111,
              "#46039f"
             ],
             [
              0.2222222222222222,
              "#7201a8"
             ],
             [
              0.3333333333333333,
              "#9c179e"
             ],
             [
              0.4444444444444444,
              "#bd3786"
             ],
             [
              0.5555555555555556,
              "#d8576b"
             ],
             [
              0.6666666666666666,
              "#ed7953"
             ],
             [
              0.7777777777777778,
              "#fb9f3a"
             ],
             [
              0.8888888888888888,
              "#fdca26"
             ],
             [
              1,
              "#f0f921"
             ]
            ],
            "type": "contour"
           }
          ],
          "contourcarpet": [
           {
            "colorbar": {
             "outlinewidth": 0,
             "ticks": ""
            },
            "type": "contourcarpet"
           }
          ],
          "heatmap": [
           {
            "colorbar": {
             "outlinewidth": 0,
             "ticks": ""
            },
            "colorscale": [
             [
              0,
              "#0d0887"
             ],
             [
              0.1111111111111111,
              "#46039f"
             ],
             [
              0.2222222222222222,
              "#7201a8"
             ],
             [
              0.3333333333333333,
              "#9c179e"
             ],
             [
              0.4444444444444444,
              "#bd3786"
             ],
             [
              0.5555555555555556,
              "#d8576b"
             ],
             [
              0.6666666666666666,
              "#ed7953"
             ],
             [
              0.7777777777777778,
              "#fb9f3a"
             ],
             [
              0.8888888888888888,
              "#fdca26"
             ],
             [
              1,
              "#f0f921"
             ]
            ],
            "type": "heatmap"
           }
          ],
          "heatmapgl": [
           {
            "colorbar": {
             "outlinewidth": 0,
             "ticks": ""
            },
            "colorscale": [
             [
              0,
              "#0d0887"
             ],
             [
              0.1111111111111111,
              "#46039f"
             ],
             [
              0.2222222222222222,
              "#7201a8"
             ],
             [
              0.3333333333333333,
              "#9c179e"
             ],
             [
              0.4444444444444444,
              "#bd3786"
             ],
             [
              0.5555555555555556,
              "#d8576b"
             ],
             [
              0.6666666666666666,
              "#ed7953"
             ],
             [
              0.7777777777777778,
              "#fb9f3a"
             ],
             [
              0.8888888888888888,
              "#fdca26"
             ],
             [
              1,
              "#f0f921"
             ]
            ],
            "type": "heatmapgl"
           }
          ],
          "histogram": [
           {
            "marker": {
             "colorbar": {
              "outlinewidth": 0,
              "ticks": ""
             }
            },
            "type": "histogram"
           }
          ],
          "histogram2d": [
           {
            "colorbar": {
             "outlinewidth": 0,
             "ticks": ""
            },
            "colorscale": [
             [
              0,
              "#0d0887"
             ],
             [
              0.1111111111111111,
              "#46039f"
             ],
             [
              0.2222222222222222,
              "#7201a8"
             ],
             [
              0.3333333333333333,
              "#9c179e"
             ],
             [
              0.4444444444444444,
              "#bd3786"
             ],
             [
              0.5555555555555556,
              "#d8576b"
             ],
             [
              0.6666666666666666,
              "#ed7953"
             ],
             [
              0.7777777777777778,
              "#fb9f3a"
             ],
             [
              0.8888888888888888,
              "#fdca26"
             ],
             [
              1,
              "#f0f921"
             ]
            ],
            "type": "histogram2d"
           }
          ],
          "histogram2dcontour": [
           {
            "colorbar": {
             "outlinewidth": 0,
             "ticks": ""
            },
            "colorscale": [
             [
              0,
              "#0d0887"
             ],
             [
              0.1111111111111111,
              "#46039f"
             ],
             [
              0.2222222222222222,
              "#7201a8"
             ],
             [
              0.3333333333333333,
              "#9c179e"
             ],
             [
              0.4444444444444444,
              "#bd3786"
             ],
             [
              0.5555555555555556,
              "#d8576b"
             ],
             [
              0.6666666666666666,
              "#ed7953"
             ],
             [
              0.7777777777777778,
              "#fb9f3a"
             ],
             [
              0.8888888888888888,
              "#fdca26"
             ],
             [
              1,
              "#f0f921"
             ]
            ],
            "type": "histogram2dcontour"
           }
          ],
          "mesh3d": [
           {
            "colorbar": {
             "outlinewidth": 0,
             "ticks": ""
            },
            "type": "mesh3d"
           }
          ],
          "parcoords": [
           {
            "line": {
             "colorbar": {
              "outlinewidth": 0,
              "ticks": ""
             }
            },
            "type": "parcoords"
           }
          ],
          "pie": [
           {
            "automargin": true,
            "type": "pie"
           }
          ],
          "scatter": [
           {
            "marker": {
             "colorbar": {
              "outlinewidth": 0,
              "ticks": ""
             }
            },
            "type": "scatter"
           }
          ],
          "scatter3d": [
           {
            "line": {
             "colorbar": {
              "outlinewidth": 0,
              "ticks": ""
             }
            },
            "marker": {
             "colorbar": {
              "outlinewidth": 0,
              "ticks": ""
             }
            },
            "type": "scatter3d"
           }
          ],
          "scattercarpet": [
           {
            "marker": {
             "colorbar": {
              "outlinewidth": 0,
              "ticks": ""
             }
            },
            "type": "scattercarpet"
           }
          ],
          "scattergeo": [
           {
            "marker": {
             "colorbar": {
              "outlinewidth": 0,
              "ticks": ""
             }
            },
            "type": "scattergeo"
           }
          ],
          "scattergl": [
           {
            "marker": {
             "colorbar": {
              "outlinewidth": 0,
              "ticks": ""
             }
            },
            "type": "scattergl"
           }
          ],
          "scattermapbox": [
           {
            "marker": {
             "colorbar": {
              "outlinewidth": 0,
              "ticks": ""
             }
            },
            "type": "scattermapbox"
           }
          ],
          "scatterpolar": [
           {
            "marker": {
             "colorbar": {
              "outlinewidth": 0,
              "ticks": ""
             }
            },
            "type": "scatterpolar"
           }
          ],
          "scatterpolargl": [
           {
            "marker": {
             "colorbar": {
              "outlinewidth": 0,
              "ticks": ""
             }
            },
            "type": "scatterpolargl"
           }
          ],
          "scatterternary": [
           {
            "marker": {
             "colorbar": {
              "outlinewidth": 0,
              "ticks": ""
             }
            },
            "type": "scatterternary"
           }
          ],
          "surface": [
           {
            "colorbar": {
             "outlinewidth": 0,
             "ticks": ""
            },
            "colorscale": [
             [
              0,
              "#0d0887"
             ],
             [
              0.1111111111111111,
              "#46039f"
             ],
             [
              0.2222222222222222,
              "#7201a8"
             ],
             [
              0.3333333333333333,
              "#9c179e"
             ],
             [
              0.4444444444444444,
              "#bd3786"
             ],
             [
              0.5555555555555556,
              "#d8576b"
             ],
             [
              0.6666666666666666,
              "#ed7953"
             ],
             [
              0.7777777777777778,
              "#fb9f3a"
             ],
             [
              0.8888888888888888,
              "#fdca26"
             ],
             [
              1,
              "#f0f921"
             ]
            ],
            "type": "surface"
           }
          ],
          "table": [
           {
            "cells": {
             "fill": {
              "color": "#EBF0F8"
             },
             "line": {
              "color": "white"
             }
            },
            "header": {
             "fill": {
              "color": "#C8D4E3"
             },
             "line": {
              "color": "white"
             }
            },
            "type": "table"
           }
          ]
         },
         "layout": {
          "annotationdefaults": {
           "arrowcolor": "#2a3f5f",
           "arrowhead": 0,
           "arrowwidth": 1
          },
          "coloraxis": {
           "colorbar": {
            "outlinewidth": 0,
            "ticks": ""
           }
          },
          "colorscale": {
           "diverging": [
            [
             0,
             "#8e0152"
            ],
            [
             0.1,
             "#c51b7d"
            ],
            [
             0.2,
             "#de77ae"
            ],
            [
             0.3,
             "#f1b6da"
            ],
            [
             0.4,
             "#fde0ef"
            ],
            [
             0.5,
             "#f7f7f7"
            ],
            [
             0.6,
             "#e6f5d0"
            ],
            [
             0.7,
             "#b8e186"
            ],
            [
             0.8,
             "#7fbc41"
            ],
            [
             0.9,
             "#4d9221"
            ],
            [
             1,
             "#276419"
            ]
           ],
           "sequential": [
            [
             0,
             "#0d0887"
            ],
            [
             0.1111111111111111,
             "#46039f"
            ],
            [
             0.2222222222222222,
             "#7201a8"
            ],
            [
             0.3333333333333333,
             "#9c179e"
            ],
            [
             0.4444444444444444,
             "#bd3786"
            ],
            [
             0.5555555555555556,
             "#d8576b"
            ],
            [
             0.6666666666666666,
             "#ed7953"
            ],
            [
             0.7777777777777778,
             "#fb9f3a"
            ],
            [
             0.8888888888888888,
             "#fdca26"
            ],
            [
             1,
             "#f0f921"
            ]
           ],
           "sequentialminus": [
            [
             0,
             "#0d0887"
            ],
            [
             0.1111111111111111,
             "#46039f"
            ],
            [
             0.2222222222222222,
             "#7201a8"
            ],
            [
             0.3333333333333333,
             "#9c179e"
            ],
            [
             0.4444444444444444,
             "#bd3786"
            ],
            [
             0.5555555555555556,
             "#d8576b"
            ],
            [
             0.6666666666666666,
             "#ed7953"
            ],
            [
             0.7777777777777778,
             "#fb9f3a"
            ],
            [
             0.8888888888888888,
             "#fdca26"
            ],
            [
             1,
             "#f0f921"
            ]
           ]
          },
          "colorway": [
           "#636efa",
           "#EF553B",
           "#00cc96",
           "#ab63fa",
           "#FFA15A",
           "#19d3f3",
           "#FF6692",
           "#B6E880",
           "#FF97FF",
           "#FECB52"
          ],
          "font": {
           "color": "#2a3f5f"
          },
          "geo": {
           "bgcolor": "white",
           "lakecolor": "white",
           "landcolor": "#E5ECF6",
           "showlakes": true,
           "showland": true,
           "subunitcolor": "white"
          },
          "hoverlabel": {
           "align": "left"
          },
          "hovermode": "closest",
          "mapbox": {
           "style": "light"
          },
          "paper_bgcolor": "white",
          "plot_bgcolor": "#E5ECF6",
          "polar": {
           "angularaxis": {
            "gridcolor": "white",
            "linecolor": "white",
            "ticks": ""
           },
           "bgcolor": "#E5ECF6",
           "radialaxis": {
            "gridcolor": "white",
            "linecolor": "white",
            "ticks": ""
           }
          },
          "scene": {
           "xaxis": {
            "backgroundcolor": "#E5ECF6",
            "gridcolor": "white",
            "gridwidth": 2,
            "linecolor": "white",
            "showbackground": true,
            "ticks": "",
            "zerolinecolor": "white"
           },
           "yaxis": {
            "backgroundcolor": "#E5ECF6",
            "gridcolor": "white",
            "gridwidth": 2,
            "linecolor": "white",
            "showbackground": true,
            "ticks": "",
            "zerolinecolor": "white"
           },
           "zaxis": {
            "backgroundcolor": "#E5ECF6",
            "gridcolor": "white",
            "gridwidth": 2,
            "linecolor": "white",
            "showbackground": true,
            "ticks": "",
            "zerolinecolor": "white"
           }
          },
          "shapedefaults": {
           "line": {
            "color": "#2a3f5f"
           }
          },
          "ternary": {
           "aaxis": {
            "gridcolor": "white",
            "linecolor": "white",
            "ticks": ""
           },
           "baxis": {
            "gridcolor": "white",
            "linecolor": "white",
            "ticks": ""
           },
           "bgcolor": "#E5ECF6",
           "caxis": {
            "gridcolor": "white",
            "linecolor": "white",
            "ticks": ""
           }
          },
          "title": {
           "x": 0.05
          },
          "xaxis": {
           "automargin": true,
           "gridcolor": "white",
           "linecolor": "white",
           "ticks": "",
           "title": {
            "standoff": 15
           },
           "zerolinecolor": "white",
           "zerolinewidth": 2
          },
          "yaxis": {
           "automargin": true,
           "gridcolor": "white",
           "linecolor": "white",
           "ticks": "",
           "title": {
            "standoff": 15
           },
           "zerolinecolor": "white",
           "zerolinewidth": 2
          }
         }
        }
       }
      },
      "image/png": "[encoded data removed]",
      "text/html": [
       "<div>\n",
       "        \n",
       "        \n",
       "            <div id=\"70d1a44e-fecc-495f-8fc3-9b1f0932d66a\" class=\"plotly-graph-div\" style=\"height:525px; width:1000px;\"></div>\n",
       "            <script type=\"text/javascript\">\n",
       "                require([\"plotly\"], function(Plotly) {\n",
       "                    window.PLOTLYENV=window.PLOTLYENV || {};\n",
       "                    \n",
       "                if (document.getElementById(\"70d1a44e-fecc-495f-8fc3-9b1f0932d66a\")) {\n",
       "                    Plotly.newPlot(\n",
       "                        '70d1a44e-fecc-495f-8fc3-9b1f0932d66a',\n",
       "                        [{\"customdata\": [[\"X13\"], [\"Scrypt\"], [\"Scrypt\"], [\"Scrypt\"], [\"Scrypt\"], [\"ECC 256K1\"], [\"Scrypt\"], [\"Lyra2REv2\"], [\"Scrypt\"], [\"X11\"], [\"Scrypt\"], [\"Lyra2Z\"], [\"SHA-256\"], [\"Ouroboros\"], [\"Scrypt\"], [\"IMesh\"], [\"X11\"], [\"Lyra2Z\"], [\"DPoS\"], [\"X11\"], [\"Scrypt\"], [\"X11\"], [\"Scrypt\"], [\"Scrypt\"], [\"DPoS\"], [\"Quark\"], [\"PoS\"], [\"X11\"], [\"Scrypt\"], [\"X11\"], [\"X11\"], [\"X11\"], [\"Proof-of-BibleHash\"], [\"Scrypt\"], [\"X13\"], [\"Scrypt\"], [\"SHA-256\"], [\"CryptoNight\"], [\"CryptoNight\"], [\"Equihash\"], [\"XEVAN\"], [\"Scrypt\"], [\"CryptoNight\"], [\"Green Protocol\"], [\"XEVAN\"], [\"Scrypt\"], [\"SHA-256\"], [\"Blake\"], [\"Scrypt\"], [\"Scrypt\"], [\"Scrypt\"], [\"Scrypt\"], [\"X11\"], [\"Scrypt\"], [\"X13\"], [\"X11\"], [\"X11\"], [\"SHA-256\"], [\"NIST5\"], [\"Scrypt\"], [\"Scrypt\"], [\"SHA-256\"], [\"SHA-256\"], [\"Scrypt\"], [\"Equihash\"], [\"Quark\"], [\"Equihash\"], [\"Equihash\"], [\"Equihash\"], [\"Skein\"], [\"SHA-512\"], [\"TRC10\"], [\"Time Travel\"], [\"XEVAN\"], [\"Shabal256\"], [\"SHA-256D\"], [\"Scrypt\"], [\"NIST5\"], [\"SHA-256\"], [\"SHA-256\"], [\"Quark\"], [\"Scrypt\"], [\"Scrypt\"], [\"Scrypt\"], [\"Scrypt\"], [\"Scrypt\"], [\"PoS\"], [\"Cloverhash\"], [\"Scrypt\"], [\"X11\"], [\"SHA-256\"], [\"Ethash\"], [\"Scrypt\"], [\"Scrypt\"], [\"CryptoNight\"], [\"X13\"], [\"Multiple\"], [\"X11\"], [\"X11\"], [\"Scrypt\"], [\"Skein\"], [\"SHA-256\"], [\"Equihash\"], [\"X11\"], [\"Scrypt\"], [\"Quark\"], [\"Scrypt\"], [\"CryptoNight-V7\"], [\"Lyra2RE\"], [\"NIST5\"], [\"QuBit\"], [\"X11\"], [\"X11\"], [\"X11\"], [\"Ethash\"], [\"SHA-256\"], [\"Dagger-Hashimoto\"], [\"BLAKE256\"], [\"CryptoNight\"], [\"Scrypt\"], [\"Scrypt\"], [\"PoS\"], [\"Scrypt\"], [\"Multiple\"], [\"Scrypt\"], [\"SHA-256\"], [\"Scrypt\"], [\"X15\"], [\"SHA-256\"], [\"Groestl\"], [\"NIST5\"], [\"Scrypt\"], [\"X11\"], [\"QUAIT\"], [\"Quark\"], [\"SHA-256\"], [\"Argon2d\"], [\"Scrypt\"], [\"Scrypt\"], [\"Scrypt\"], [\"NIST5\"], [\"SHA-256\"], [\"Scrypt\"], [\"X15\"], [\"Ethash\"], [\"Ethash\"], [\"X11\"], [\"XEVAN\"], [\"Scrypt\"], [\"X13\"], [\"SHA-256\"], [\"Scrypt\"], [\"Scrypt\"], [\"Scrypt\"], [\"X11\"], [\"DPoS\"], [\"Scrypt\"], [\"X11\"], [\"536\"], [\"Ethash\"], [\"Ethash\"], [\"Scrypt\"], [\"SHA-256\"], [\"X11\"], [\"PoS\"], [\"Exosis\"], [\"Ethash\"], [\"Groestl\"], [\"X13\"], [\"Stanford Folding\"], [\"Scrypt\"], [\"Scrypt\"], [\"Scrypt\"], [\"Scrypt\"], [\"PoS\"], [\"CryptoNight\"], [\"Scrypt\"], [\"Scrypt\"], [\"Scrypt\"], [\"Scrypt\"], [\"NeoScrypt\"], [\"NeoScrypt\"], [\"X11\"], [\"Scrypt\"], [\"Quark\"], [\"Scrypt\"], [\"Scrypt\"], [\"X11\"], [\"NeoScrypt\"], [\"Scrypt\"], [\"Scrypt\"], [\"Scrypt\"], [\"Scrypt\"], [\"Quark\"], [\"Lyra2Z\"], [\"Scrypt\"], [\"Scrypt\"], [\"SHA-256\"], [\"X14\"], [\"Scrypt\"], [\"Scrypt\"], [\"Groestl\"], [\"Scrypt\"], [\"NeoScrypt\"], [\"X11\"], [\"Scrypt\"], [\"Quark\"], [\"Scrypt\"], [\"1GB AES Pattern Search\"], [\"X11\"], [\"X11\"], [\"X15\"], [\"Scrypt\"], [\"Lyra2RE\"], [\"X11\"], [\"Scrypt\"], [\"SHA-256\"], [\"Scrypt\"], [\"Scrypt\"], [\"Scrypt\"], [\"SHA-256\"], [\"Scrypt\"], [\"Scrypt\"], [\"X11\"], [\"Lyra2RE\"], [\"NeoScrypt\"], [\"X11\"], [\"X11\"], [\"X11\"], [\"SHA-256\"], [\"Scrypt\"], [\"X11\"], [\"C11\"], [\"SHA-256\"], [\"Multiple\"], [\"X11\"], [\"NIST5\"], [\"SHA-512\"], [\"Tribus\"], [\"Scrypt\"], [\"POS 2.0\"], [\"PoS\"], [\"Scrypt\"], [\"Scrypt\"], [\"Quark\"], [\"Equihash\"], [\"X15\"], [\"X13\"], [\"CryptoNight\"], [\"Lyra2REv2\"], [\"Scrypt\"], [\"X11\"], [\"X11\"], [\"SHA-256D\"], [\"X11\"], [\"SHA-256 + Hive\"], [\"Scrypt\"], [\"Scrypt\"], [\"Scrypt\"], [\"Scrypt\"], [\"POS 3.0\"], [\"Blake\"], [\"Scrypt\"], [\"Scrypt\"], [\"CryptoNight Heavy\"], [\"Scrypt\"], [\"DPoS\"], [\"Scrypt\"], [\"Scrypt\"], [\"QuBit\"], [\"Scrypt\"], [\"CryptoNight-V7\"], [\"PHI1612\"], [\"Scrypt\"], [\"X11\"], [\"X11\"], [\"SHA3\"], [\"SHA-256\"], [\"Scrypt\"], [\"PoS\"], [\"Ethash\"], [\"Scrypt\"], [\"HybridScryptHash256\"], [\"Scrypt\"], [\"Jump Consistent Hash\"], [\"Scrypt\"], [\"Scrypt\"], [\"Scrypt\"], [\"Scrypt\"], [\"X11\"], [\"Scrypt\"], [\"Scrypt\"], [\"X11\"], [\"Scrypt\"], [\"Scrypt\"], [\"X11\"], [\"X13\"], [\"SkunkHash\"], [\"DPoS\"], [\"SHA-256\"], [\"NIST5\"], [\"Blake2b\"], [\"Scrypt\"], [\"X13\"], [\"CryptoNight\"], [\"CryptoNight\"], [\"PoS\"], [\"SHA-256\"], [\"SHA-256\"], [\"Scrypt\"], [\"SHA-256\"], [\"Scrypt\"], [\"Scrypt\"], [\"Scrypt\"], [\"SHA-256\"], [\"SHA3\"], [\"PoS\"], [\"Scrypt\"], [\"Scrypt\"], [\"PoS\"], [\"Scrypt\"], [\"SHA-512\"], [\"SHA-256\"], [\"Scrypt\"], [\"Scrypt\"], [\"X13\"], [\"VBFT\"], [\"X11\"], [\"X13\"], [\"NeoScrypt\"], [\"Scrypt\"], [\"Scrypt\"], [\"DPoS\"], [\"X11\"], [\"Scrypt\"], [\"PoS\"], [\"X11\"], [\"X11\"], [\"BLAKE256\"], [\"PoS\"], [\"X11\"], [\"X11\"], [\"Equihash\"], [\"Dagger\"], [\"X11\"], [\"Scrypt\"], [\"CryptoNight\"], [\"CryptoNight\"], [\"HMQ1725\"], [\"Scrypt\"], [\"X11\"], [\"Scrypt\"], [\"Proof-of-Authority\"], [\"Scrypt\"], [\"Quark\"], [\"Scrypt\"], [\"SHA-256\"], [\"Scrypt\"], [\"SHA-256\"], [\"X16R\"], [\"Scrypt\"], [\"Scrypt\"], [\"Scrypt\"], [\"Scrypt\"], [\"X11\"], [\"X11\"], [\"Scrypt\"], [\"NIST5\"], [\"Scrypt\"], [\"Quark\"], [\"CryptoNight-V7\"], [\"Scrypt\"], [\"POS 3.0\"], [\"CryptoNight Heavy\"], [\"PoS\"], [\"X11\"], [\"Scrypt\"], [\"Scrypt\"], [\"Ethash\"], [\"Scrypt\"], [\"X11\"], [\"SHA-256\"], [\"Groestl\"], [\"Scrypt\"], [\"Scrypt\"], [\"X13\"], [\"Scrypt\"], [\"Lyra2REv2\"], [\"Scrypt\"], [\"Cryptonight-GPU\"], [\"Scrypt\"], [\"Scrypt\"], [\"Blake2b\"], [\"Scrypt\"], [\"Semux BFT consensus\"], [\"Scrypt\"], [\"X11GOST\"], [\"Scrypt\"], [\"SkunkHash v2 Raptor\"], [\"Counterparty\"], [\"QuBit\"], [\"Scrypt\"], [\"Keccak\"], [\"Scrypt\"], [\"Scrypt\"], [\"Scrypt\"], [\"Dagger\"], [\"Scrypt\"], [\"Scrypt\"], [\"SHA-256\"], [\"C11\"], [\"NeoScrypt\"], [\"X11\"], [\"X11\"], [\"Scrypt\"], [\"PoS\"], [\"X13\"], [\"X11\"], [\"CryptoNight\"], [\"X11\"], [\"SHA-256\"], [\"Scrypt\"], [\"X11\"], [\"SHA-256\"], [\"Blake2S\"], [\"DPoS\"], [\"SHA-256\"], [\"PoS\"], [\"Scrypt\"], [\"Multiple\"], [\"SHA-256\"], [\"PHI1612\"], [\"X13\"], [\"X11\"], [\"POS 3.0\"], [\"Scrypt\"], [\"SHA-256\"], [\"Dagger\"], [\"X13\"], [\"X11\"], [\"Scrypt\"], [\"CryptoNight\"], [\"X16R\"], [\"Scrypt\"], [\"SHA-256D\"], [\"CryptoNight\"], [\"NeoScrypt\"], [\"X11\"], [\"SHA-256\"], [\"NeoScrypt\"], [\"Multiple\"], [\"Blake\"], [\"SHA-256\"], [\"Scrypt\"], [\"Scrypt\"], [\"SHA-256\"], [\"XEVAN\"], [\"X11\"], [\"SHA-256\"], [\"Scrypt\"], [\"Scrypt\"], [\"Scrypt\"], [\"VeChainThor Authority\"], [\"Scrypt\"], [\"SHA-256D\"], [\"NIST5\"], [\"Quark\"], [\"NeoScrypt\"], [\"X11\"], [\"Scrypt\"], [\"Equihash+Scrypt\"], [\"Scrypt\"], [\"Lyra2REv2\"], [\"Scrypt\"], [\"NIST5\"], [\"Quark\"], [\"Leased POS\"], [\"Scrypt\"], [\"Scrypt\"], [\"CryptoNight-V7\"], [\"Scrypt\"], [\"Scrypt\"], [\"XEVAN\"], [\"X11\"], [\"X16R\"], [\"CryptoNight\"], [\"M7 POW\"], [\"Multiple\"], [null], [\"Scrypt\"], [\"CryptoNight\"], [\"Keccak\"], [\"X11\"], [\"X11\"], [\"Scrypt\"], [\"SHA-256\"], [\"Scrypt\"], [\"SHA-256\"], [\"CryptoNight\"], [\"CryptoNight\"], [\"X11\"], [\"X16R\"], [\"CryptoNight-V7\"], [\"Multiple\"], [\"X11\"], [\"PoS\"], [\"SHA-256\"], [\"X11\"], [\"X13\"], [\"Multiple\"], [\"X11\"], [\"X13\"], [\"Scrypt\"], [\"CryptoNight\"], [\"Multiple\"], [\"X11\"], [\"Scrypt\"], [\"Lyra2Z\"], [\"Scrypt\"], [\"Scrypt\"], [\"Scrypt\"], [\"Equihash\"], [\"Equihash\"], [\"Scrypt\"], [\"Equihash\"], [\"SHA-256\"], [\"Equihash\"], [\"SHA-256\"], [\"Scrypt\"], [\"Scrypt\"], [\"Lyra2RE\"], [\"SHA-256\"]], \"hovertemplate\": \"<b>%{hovertext}</b><br><br>PC 1=%{x}<br>PC 2=%{y}<br>PC 3=%{z}<br>Algorithm=%{customdata[0]}<br>Class=%{marker.color}<extra></extra>\", \"hovertext\": [\"EliteCoin\", \"1Credit\", \"404Coin\", \"42 Coin\", \"8BIT Coin\", \"Acute Angle Cloud\", \"Abjcoin\", \"Absolute Coin\", \"ArtByte\", \"AC3\", \"AdCoin\", \"Actinium\", \"Anarchists Prime\", \"Cardano\", \"AudioCoin\", \"Aidos Kuneen\", \"Adzcoin\", \"Alpenschillling\", \"ALAX\", \"ArcticCoin\", \"AquariusCoin\", \"ARENON\", \"Argentum\", \"ArgusCoin\", \"ARK\", \"Allsafe\", \"Atmos\", \"ArtexCoin\", \"Aurora Coin\", \"Award\", \"Axe\", \"Azart\", \"BiblePay\", \"BitConnect Coin\", \"Bitcoin Diamond\", \"BitcoinFast\", \"Bitcoin Cash\", \"ByteCoin\", \"Beldex\", \"Beam\", \"Beetle Coin\", \"BenjiRolls\", \"Bikercoins\", \"Bitcoin Green\", \"BitMoney\", \"BitstarCoin\", \"BLAST\", \"BlakeCoin\", \"BlackholeCoin\", \"BillaryCoin\", \"Block-Logic\", \"BlueCoin\", \"BolivarCoin\", \"Briacoin\", \"BritCoin\", \"BowsCoin\", \"BitSend\", \"Bitcoin SV\", \"Bitspace\", \"Bata\", \"BitBar\", \"Bitcoin\", \"BitcoinDark\", \"BitCurrency\", \"BitcoinZ\", \"Bitcloud 2.0\", \"Bitcoin Gold\", \"Bithereum\", \"Bitrolium\", \"Bitcoin Planet\", \"Bitshares\", \"BitTorrent\", \"Bitcore\", \"Bettex coin\", \"BurstCoin\", \"BuzzCoin\", \"BeaverCoin\", \"Bulwark\", \"BitcoinWSpectrum\", \"BitTokens\", \"Carebit\", \"Catcoin\", \"CryptoBullion\", \"CannaCoin\", \"Canada eCoin\", \"Crypto Escudo\", \"CoffeeCoin\", \"ChanCoin\", \"OpenChat\", \"Crypto Improvement Fund\", \"Clockcoin\", \"Callisto Network\", \" ClubCoin\", \"Cash & Back Coin\", \"BitCoal\", \"Paycon\", \"Circuits of Value\", \"CapriCoin\", \"Creditbit \", \"Credit\", \"Cream\", \"Crown Coin\", \"CrypticCoin\", \"CryptCoin\", \"CasinoCoin\", \"Crypto Sports\", \"CarterCoin\", \"Citadel\", \"Crypto\", \"Coinonat\", \"CypherPunkCoin\", \"DAS\", \"Dash\", \"Dash Platinum\", \"DaxxCoin\", \"DubaiCoin\", \"DubaiCoin\", \"Decred\", \"Dinastycoin\", \"Degas Coin\", \"iDealCash\", \"Deviant Coin\", \"Draftcoin\", \"DigiByte\", \"Digitalcoin \", \"CarpeDiemCoin\", \"Diggits\", \"Dekado\", \"DollarCoin\", \"Diamond\", \"Denarius\", \"DopeCoin\", \"DigitalPrice\", \"Droidz\", \"Dystem\", \"DevCoin\", \"Dynamic\", \"EarthCoin\", \"EB3coin\", \"eBoost\", \"Electra\", \"EDRCoin\", \"E-Gulden\", \"EverGreenCoin\", \"Elementrem\", \"Ellaism\", \"Elements\", \"Ellerium\", \"EmaratCoin\", \"EmberCoin\", \"Emercoin\", \"Einsteinium\", \"Emerald\", \"EnergyCoin\", \"Eternity\", \"EOS\", \"EquiTrader\", \"EuropeCoin\", \"Espers\", \"Ethereum Classic\", \"Ethereum\", \"Ethereum Dark\", \"Eurocoin\", \"EUNO\", \"Exclusive Coin\", \"Exosis\", \"Expanse\", \"FairCoin\", \"FindCoin\", \"Folding Coin\", \"BitFlip\", \"Flo\", \"FlutterCoin\", \"FrazCoin\", \"FreeCoin\", \"FREDEnergy\", \"Franko\", \"Francs\", \"FirstCoin\", \"Frankywillcoin\", \"FriendshipCoin\", \"FeatherCoin\", \"FuturoCoin\", \"GAKHcoin\", \"Galilel\", \"Gamecredits\", \"Gapcoin\", \"GoldBlocks\", \"GoByte\", \"gCn Coin\", \"GrandCoin\", \"Genstake\", \"GermanCoin\", \"Giant\", \"GINcoin\", \"GlobalCoin\", \"GoldCoin\", \"GlobalToken\", \"GanjaCoin V2\", \"GPU Coin\", \"GreenCoin\", \"Groestlcoin\", \"GrowthCoin\", \"GunCoin\", \"Halloween Coin\", \"HoboNickels\", \"HerbCoin\", \"HexCoin\", \"HOdlcoin\", \"HappyCoin\", \"Hitcoin\", \"HTML5 Coin\", \"HollyWoodCoin\", \"HexxCoin\", \"HyperStake\", \"HyperCoin\", \"I0coin\", \"iBankCoin\", \"Ignition\", \"Infinite Coin\", \"ILCoin\", \"Impeach\", \"Independent Money System\", \"Impact\", \"Infinex\", \"Innova\", \"InsaneCoin\", \"Insane Coin\", \"IOCoin\", \"Internet of People\", \"IrishCoin\", \"IslaCoin\", \"Interzone\", \"IXcoin\", \"JoinCoin\", \"Junson Ming Chan Coin\", \"Jumpcoin\", \"Kcash\", \"KEYCO\", \"Klingon Empire Darsek\", \"KekCoin\", \"Ketan\", \"KrugerCoin\", \"KiloCoin\", \"Kalkulus\", \"Komodo\", \"KoboCoin\", \"Kore\", \"Karbo\", \"KREDS\", \"Kronecoin\", \"Kurrent\", \"KushCoin\", \"LanaCoin\", \"Lutetium Coin\", \"LitecoinCash\", \"Litecoin Plus\", \"LiteDoge\", \"Linda\", \"Linx\", \"Let it Ride\", \"Lithium\", \"LuckyCoin\", \"LomoCoin\", \"Loki\", \"LottoCoin\", \"Lisk\", \"Litebar \", \"Litecoin\", \"LiteCreed\", \"LiteCoin Ultra\", \"Lethean\", \"LUXCoin\", \"Lynx\", \"Magnet\", \"MarsCoin \", \"MaxCoin\", \"Theresa May Coin\", \"My Big Coin\", \"MacronCoin\", \"1717 Masonic Commemorative Token\", \"MegaCoin\", \"MediterraneanCoin\", \"MedicCoin\", \"MassGrid\", \"XiaoMiCoin\", \"MinCoin\", \"MintCoin\", \"MMOCoin\", \"MindCoin\", \"MonaCoin\", \"MoneyCoin\", \"Monkey Project\", \"MoonCoin\", \"MasterCoin\", \"MustangCoin\", \"MudraCoin\", \"MUNcoin\", \"Muse\", \"MazaCoin\", \"NamoCoin\", \"Nano\", \"Nautilus Coin\", \"NavCoin\", \"Niobio Cash\", \"Newton Coin\", \"Nebuchadnezzar\", \"NeosCoin\", \"IncaKoin\", \"Gulden\", \"Namecoin\", \"NobleCoin\", \"Dnotes\", \"Nasdacoin\", \"Neutron\", \"Nexus\", \"Nxt\", \"NyanCoin\", \"NewYorkCoin\", \"Zealium\", \"OrangeCoin\", \"Obsidian\", \"OKCash\", \"OmniCron\", \"Omni\", \"DeepOnion\", \"Ontology\", \"Onix\", \"OpalCoin\", \"Orbitcoin\", \"OsmiumCoin\", \"Oduwa\", \"Oxycoin\", \"PacCoin\", \"Pakcoin\", \"Particl\", \"PAXEX\", \"Pioneer Coin\", \"Photon\", \"Phreak\", \"Piggy Coin\", \"PinkCoin\", \"PirateCash\", \"Pirl\", \"PizzaCoin\", \"PLNCoin\", \"PlatinCoin\", \"PluraCoin\", \"PlusOneCoin\", \"PandaCoin\", \"PhantomX\", \"Peony Coin\", \"Poa Network\", \"PopularCoin\", \"Poseidon Quark\", \"PotCoin\", \"Project Pai\", \"ProsperCoin\", \"ProCurrency\", \"Proton\", \"Printerium\", \"PesoBit\", \"Poseidon\", \"PesetaCoin\", \"Pura\", \"Pushi\", \"PutinCoin\", \"PWR Coin\", \"PhoenixCoin\", \"QuarkCoin\", \"Quantum Resistant Ledger\", \"Quatloo\", \"QTUM\", \"Qwertycoin\", \"Radium\", \"Condensate\", \"RubyCoin\", \"Russiacoin\", \"Reality Clash\", \"Reddcoin\", \"Regalcoin\", \"Revenu\", \"Riecoin\", \"RenosCoin\", \"RootCoin\", \"RoyalCoin\", \"RonPaulCoin\", \"Rupee\", \"Revolution VR\", \"Ryo\", \"SafeExchangeCoin\", \"StableCoin\", \"Siacoin\", \"Swiscoin\", \"Semux\", \"Shilling\", \"SibCoin\", \"Swisscoin\", \"Signatum\", \"StorjCoin\", \"SLICE\", \"SolarCoin\", \"SmartCash\", \"SmartCoin\", \"SmileyCoin\", \"SocialCoin\", \"SoilCoin\", \"Sojourn Coin\", \"Song Coin\", \"SoonCoin\", \"Stipend\", \"SparksPay\", \"Spreadcoin\", \"Squall Coin\", \"ShareChain\", \"Stakecoin\", \"Sativa Coin\", \"Sucre\", \"Sumokoin\", \"SuperCoin\", \"SwingCoin\", \"SexCoin\", \"SyncCoin\", \"SysCoin\", \"TajCoin\", \"Lamden Tau\", \"TigerCash\", \"TeamUP\", \"TerraNovaCoin\", \"TeslaCoin\", \"TigerCoin\", \"TittieCoin\", \"Tokyo Coin\", \"TorCoin\", \"TokenPay\", \"TPCash\", \"TerraCoin\", \"Travelflex\", \"Triangles Coin\", \"TruckCoin\", \"Trollcoin\", \"TurtleCoin\", \"Trivechain\", \"ThunderStake\", \"Titan Coin\", \"BitTube\", \"TrezarCoin\", \"Ucoin\", \"UnitedBitcoin\", \"UFO Coin\", \"Unitus\", \"Universal Molecule\", \"UnbreakableCoin\", \"Unify\", \"GameUnits\", \"Unobtanium\", \"Urals Coin\", \"UroCoin\", \"Ultimate Secure Cash\", \"UnitaryStatus Dollar\", \"Unified Society USDEX\", \"UltraCoin\", \"Vechain\", \"ViaCoin\", \"TheVig\", \"VIP Tokens\", \"Vitae\", \"VIVO Coin\", \"VaultCoin\", \"Velox\", \"Vollar\", \"VeriCoin\", \"Vertcoin\", \"Vtorrent\", \"Virta Unique Coin\", \"Digiwage\", \"Waves\", \"Wild Beast Coin\", \"WorldCoin\", \"Webchain\", \"WomenCoin\", \"BitcoinPlus\", \"Bitcoin Incognito\", \"X11 Coin\", \"Xchange\", \"Cannabis Industry Coin\", \"Cryptonite\", \"Crypti\", \"Creatio\", \"CoinonatX\", \"DigitalNote \", \"XDNA\", \"XenixCoin\", \"GoldReserve\", \"HiCoin\", \"Infinity Economics\", \"Xios\", \"JouleCoin\", \"LeviarCoin\", \"Monero Classic\", \"Monoeci\", \"Motion\", \"Monero\", \"MyriadCoin\", \"Enigma\", \"Opair\", \"PayCoin\", \"Ratecoin\", \"Bitcoin Rhodium\", \"SHIELD\", \"Stakenet\", \"StealthCoin\", \"Xt3ch\", \"UltraNote\", \"Verge\", \"VirtacoinPlus\", \"WhiteCoin\", \"ZCoin\", \"YoCoin\", \"Zilbercoin\", \"ZCC Coin\", \"ZClassic\", \"ZCash\", \"ZeitCoin\", \"Horizen\", \"ZEPHYR\", \"Zero\", \"ZetaCoin\", \"ZoneCoin\", \"BitZeny\", \"Zoin\", \"ZayedCoin\"], \"legendgroup\": \"\", \"marker\": {\"color\": [5.0, 1.0, 0.0, 0.0, 0.0, 3.0, 0.0, 0.0, 1.0, 1.0, 1.0, 4.0, 1.0, 0.0, 0.0, 4.0, 1.0, 4.0, 5.0, 1.0, 0.0, 0.0, 1.0, 0.0, 5.0, 0.0, 0.0, 1.0, 0.0, 0.0, 1.0, 1.0, 3.0, 0.0, 0.0, 0.0, 1.0, 5.0, 4.0, 4.0, 0.0, 1.0, 4.0, 0.0, 0.0, 0.0, 1.0, 4.0, 0.0, 0.0, 1.0, 0.0, 1.0, 0.0, 0.0, 1.0, 0.0, 1.0, 0.0, 1.0, 0.0, 1.0, 0.0, 0.0, 4.0, 0.0, 4.0, 4.0, 4.0, 0.0, 0.0, 2.0, 4.0, 0.0, 0.0, 0.0, 1.0, 0.0, 0.0, 0.0, 0.0, 1.0, 0.0, 1.0, 1.0, 1.0, 0.0, 4.0, 0.0, 1.0, 0.0, 4.0, 0.0, 0.0, 4.0, 0.0, 4.0, 0.0, 0.0, 0.0, 0.0, 1.0, 4.0, 1.0, 0.0, 0.0, 0.0, 4.0, 4.0, 1.0, 1.0, 1.0, 0.0, 0.0, 4.0, 0.0, 4.0, 0.0, 4.0, 0.0, 0.0, 0.0, 0.0, 4.0, 1.0, 1.0, 0.0, 0.0, 1.0, 0.0, 0.0, 1.0, 1.0, 0.0, 0.0, 1.0, 4.0, 1.0, 1.0, 1.0, 0.0, 0.0, 1.0, 0.0, 4.0, 4.0, 1.0, 0.0, 0.0, 0.0, 0.0, 1.0, 1.0, 0.0, 0.0, 5.0, 1.0, 0.0, 0.0, 4.0, 4.0, 0.0, 0.0, 0.0, 0.0, 4.0, 4.0, 0.0, 0.0, 4.0, 1.0, 1.0, 0.0, 1.0, 0.0, 4.0, 1.0, 1.0, 0.0, 0.0, 0.0, 1.0, 1.0, 0.0, 0.0, 1.0, 0.0, 0.0, 1.0, 5.0, 1.0, 0.0, 0.0, 0.0, 4.0, 1.0, 1.0, 1.0, 0.0, 0.0, 1.0, 1.0, 0.0, 1.0, 0.0, 0.0, 0.0, 1.0, 4.0, 0.0, 0.0, 0.0, 0.0, 4.0, 0.0, 0.0, 1.0, 0.0, 0.0, 1.0, 1.0, 0.0, 0.0, 0.0, 4.0, 1.0, 0.0, 0.0, 0.0, 0.0, 1.0, 0.0, 1.0, 1.0, 4.0, 0.0, 1.0, 0.0, 4.0, 0.0, 0.0, 0.0, 1.0, 1.0, 0.0, 4.0, 0.0, 0.0, 4.0, 1.0, 1.0, 1.0, 0.0, 0.0, 0.0, 3.0, 0.0, 0.0, 0.0, 1.0, 0.0, 4.0, 1.0, 0.0, 4.0, 1.0, 5.0, 1.0, 1.0, 0.0, 0.0, 4.0, 0.0, 5.0, 0.0, 1.0, 0.0, 0.0, 0.0, 0.0, 1.0, 1.0, 4.0, 0.0, 4.0, 0.0, 1.0, 0.0, 0.0, 1.0, 1.0, 0.0, 0.0, 5.0, 1.0, 0.0, 0.0, 4.0, 0.0, 0.0, 0.0, 4.0, 0.0, 0.0, 4.0, 4.0, 0.0, 0.0, 0.0, 1.0, 1.0, 1.0, 0.0, 0.0, 0.0, 0.0, 0.0, 1.0, 1.0, 0.0, 0.0, 0.0, 0.0, 1.0, 1.0, 0.0, 0.0, 1.0, 0.0, 0.0, 1.0, 0.0, 5.0, 1.0, 1.0, 0.0, 0.0, 1.0, 1.0, 0.0, 0.0, 0.0, 1.0, 4.0, 1.0, 0.0, 4.0, 4.0, 4.0, 0.0, 0.0, 0.0, 3.0, 1.0, 0.0, 0.0, 1.0, 1.0, 0.0, 0.0, 0.0, 0.0, 1.0, 1.0, 1.0, 0.0, 0.0, 0.0, 0.0, 1.0, 4.0, 1.0, 0.0, 5.0, 0.0, 0.0, 0.0, 0.0, 4.0, 0.0, 0.0, 0.0, 1.0, 0.0, 0.0, 0.0, 1.0, 0.0, 1.0, 4.0, 0.0, 1.0, 4.0, 0.0, 5.0, 1.0, 4.0, 0.0, 0.0, 0.0, 1.0, 1.0, 1.0, 1.0, 1.0, 1.0, 4.0, 1.0, 1.0, 1.0, 0.0, 1.0, 1.0, 0.0, 1.0, 0.0, 0.0, 1.0, 4.0, 0.0, 0.0, 1.0, 0.0, 1.0, 0.0, 5.0, 0.0, 0.0, 0.0, 0.0, 1.0, 0.0, 0.0, 0.0, 0.0, 0.0, 1.0, 4.0, 0.0, 0.0, 0.0, 5.0, 0.0, 0.0, 0.0, 4.0, 0.0, 0.0, 1.0, 1.0, 4.0, 4.0, 1.0, 1.0, 0.0, 1.0, 1.0, 1.0, 0.0, 0.0, 0.0, 0.0, 3.0, 1.0, 0.0, 0.0, 0.0, 1.0, 1.0, 0.0, 4.0, 0.0, 1.0, 0.0, 0.0, 0.0, 3.0, 1.0, 1.0, 4.0, 0.0, 0.0, 0.0, 0.0, 1.0, 4.0, 4.0, 0.0, null, 0.0, 4.0, 0.0, 0.0, 0.0, 0.0, 0.0, 0.0, 1.0, 4.0, 4.0, 0.0, 1.0, 4.0, 4.0, 0.0, 0.0, 0.0, 0.0, 1.0, 4.0, 0.0, 0.0, 0.0, 4.0, 4.0, 0.0, 0.0, 4.0, 1.0, 0.0, 0.0, 4.0, 4.0, 0.0, 4.0, 5.0, 4.0, 1.0, 0.0, 1.0, 4.0, 1.0], \"coloraxis\": \"coloraxis\", \"symbol\": \"circle\"}, \"mode\": \"markers\", \"name\": \"\", \"scene\": \"scene\", \"showlegend\": false, \"type\": \"scatter3d\", \"x\": [2.309384190257204, 0.49498131391519923, -0.3020447641823656, -0.31868546804005454, -0.3186675603023451, -0.25317402052622123, -0.318352506594208, -0.34648436036133967, -0.13967326224481083, -0.24161991358622248, -0.1553168105518232, -0.15976127121303876, -0.16467530484489154, 0.633843990098622, -0.23237498527634923, -0.15759798230302366, -0.2453489464980597, -0.15806467206974772, 3.7532615990395857, -0.24575151845533283, -0.31835820270917137, -0.36810229667856775, -0.15582109930772253, -0.3184689571095246, 3.736185712544316, -0.3511148070145398, -0.3532652985466442, -0.2329005453391008, -0.3183454801810762, -0.4055944462781106, -0.24628447145071067, -0.246255870771468, -0.17785583437745672, -0.31835202412819563, -0.268512182520764, -0.31820482395451355, -0.16486762878356917, 3.8493423774741373, 0.31937282966043634, -0.1523407725351997, -0.2929258325277388, -0.15592428572857198, 0.29779045867610715, -0.3748418408850927, 0.5815445621334254, -0.3180502638004508, -0.16414470914962354, -0.09646302475339902, -0.318381127938616, -0.31827829892707704, -0.1551430160906644, -0.3109329131514376, -0.24615047949587884, -0.3186539101419586, -0.27176640991628453, -0.24615184103623575, -0.4074746500543862, -0.1648676663004279, -0.3598021050196297, -0.15632612099008997, -0.3186814091186098, -0.16486846348361853, -0.3273266817526711, -0.2765867048927116, 0.05763707804936414, -0.38958810175425923, -0.15427836072864587, -0.1541113875773723, -0.15327071686056123, -0.41487535749124643, -0.3300327002134363, 34.024822259731316, -0.15023682659693646, -0.25842684169225294, -0.155107369400293, 0.044613389416001445, -0.1563613691695684, -0.31993692364901366, -0.2860533858352595, -0.3273422225262527, -0.38825789368507924, -0.1561863898422789, -0.31866571052676823, -0.15627274001254576, -0.15449697046845245, -0.13982365360630108, -0.3533044751806873, -0.15155893096092454, -0.29940439254631634, -0.24037588453248573, -0.32357763285792007, -0.11420191080814253, -0.31628834383305093, -0.31584458356328776, 0.2976426933689095, -0.27160315036125526, -0.10987205654419192, -0.4048268759610873, -0.4312596530429821, 0.5870261178737723, -0.4143808982182857, -0.16465804151739802, -0.04915442368471134, -0.2463056646065058, 0.6241829711530475, -0.3512310668390772, -0.3175215811943466, -0.15262593659776055, -0.146534485222947, -0.19759689142183332, -0.18816703700269138, -0.24632825763956032, -0.40849042298514576, -0.3685786055249834, -0.08608608653273465, -0.3273612550025269, -0.16812737685042078, -0.07196286614679105, 0.33373682132435745, -0.31768142947893624, -0.2652880670122437, -0.35451213928370806, -0.2783049651000577, 0.15728344917656295, -0.15567410490673494, 0.25312918933988615, -0.27672780290116916, -0.20600650185038763, -0.16504944417862374, -0.37586727788099694, -0.3602026506707645, -0.15358149081096228, -0.24535731543487477, -0.3979715668622121, -0.3511142379024748, 0.2125064423915516, -0.1727456958302065, 0.09214676686914779, -0.12731926981993064, -0.15449518194306888, 0.19857660514783454, -0.32729763418933355, -0.15601935719590543, -0.2466915049181913, -0.16274072809645185, -0.16110783160183692, -0.2007727570619661, -0.2984632903257758, -0.31782718421801825, 0.8585882618384988, -0.31989234970494873, -0.15163012609504892, -0.1559587199091861, -0.3171840282837249, -0.4082575009573685, 3.746431782844198, -0.155746549792123, -0.4059105044631066, 0.5840703578262596, -0.16037604311291256, -0.16193218648080662, -0.3186044883293909, -0.3272050781270916, -0.40802693068743845, -0.3553328325515141, -0.14845226601487443, -0.16299824509028019, -0.37528961020130647, -0.2319286945612109, -0.12956215938814847, -0.15598809876995953, -0.15343249793817215, -0.22831060632234576, -0.1561631629711115, -0.35443807457075993, 0.37748869496682413, -0.15632967070553686, -0.15620139032416203, -0.24302765784682462, -0.31675736121951076, -0.3426747286385664, -0.17592718800212825, -0.2453980351209477, -0.31862153686915023, -0.39102126756271477, -0.15497636531828365, -0.3167331831118058, -0.4082124683666432, -0.18055579892967816, 3.249041949158591, -0.13557771203532612, -0.3178472255024811, 0.09526139328419787, -0.39127020273154456, -0.16036280100270292, -0.15512628767047926, -0.15540337325579534, -0.16301402553244695, -0.4107175216911068, -0.27659690922410607, -0.029369506820030453, -0.21203857389597405, -0.2608941358379791, -0.17365416344758164, -0.39490643573005424, -0.3167467016808514, -0.39056572010576956, -0.15624936774859285, -0.15897205451098695, -0.40778576029759117, -0.08660812626376856, 0.8862642962004827, -0.27799957179078016, -0.14707427796954187, -0.34824786251201795, -0.3185679623878186, -0.16483100394484523, -0.31831634404693243, -0.31863564350356444, 1.5903905297759504, -0.13145738018491876, -0.3185264105340665, -0.318469772785028, -0.406627771109288, -0.1469197031063133, -0.18045571235733687, -0.4083201730546771, -0.4082538853729863, -0.40838525841541773, -0.3273186674355627, -0.1554150966938602, -0.4087379125116829, -0.2064898693589308, -0.1648298830492734, -0.13050873821667258, -0.15875534928593957, -0.19765629883791921, -0.46720511593089165, -0.17903174547630224, -0.3148528409261301, -0.3617048387668148, -0.35380143266493447, -0.15269611021829965, -0.08322349571399634, -0.351000857259358, -0.25350918639026876, -0.24425298862961778, -0.272128666693518, 0.29766552787709183, -0.16911323158896224, -0.15561546166106863, -0.2441310439676508, -0.4086211054785019, -0.26950782635308923, -0.3560591551657546, -0.3051978462159405, -0.3186265907167225, 0.11603072678501158, 0.1456917461942427, -0.15530375840689328, -0.34974057582628126, -0.14593932290031766, -0.15604576537322018, -0.31159889675142877, 0.5520737541633198, 0.1507060698855956, 3.736577041113149, -0.1564001352814924, -0.1550592910787741, -0.34958001135877476, -0.31752067628253144, -0.1416093359260079, -0.3832111743357987, 2.288392425974843, -0.40727074672856833, -0.24586730109099272, -0.44271884705751746, -0.3256670544427086, -0.24687628140439363, -0.3476723559130703, -0.285447544621676, -0.15566031030707939, -0.16016760087415274, -0.2718544813990057, -0.15828394700648205, -0.31092037471745, -0.15628154805932062, -0.018857147761678433, -0.2755002035318689, -0.24618719633138475, -0.15484685213277355, -0.31394532775595385, -0.36852436125085053, 2.5624780032224823, -0.15641122338301355, -0.4087271156391785, -0.23073165194917314, -0.1560458734464245, 1.023454055518165, -0.2906793236625768, -0.3449885724667418, -0.04021357855342897, -0.2783439427169328, -0.27143200512541776, 0.3015123803446993, 2.1041242022978475, -0.3550165068598662, -0.28726634059589273, -0.10727739713742943, -0.13946432855385668, -0.1649073928674657, -0.021348651408007544, -0.27298488646856744, -0.31784002915434556, -0.3265393966294211, -0.488293454760821, -0.3432632926143341, -0.14995339372960087, 1.5883446518482314, -0.3547005658472353, -0.31722621912239607, -0.38802315743495663, -0.325843634354507, -0.15627558225711952, -0.15641128180467484, -0.2718370986956338, -0.333955612982186, -0.23721128354968007, -0.27205339084232033, -0.34304843002244545, -0.15639304150248498, -0.31835648390640076, 3.747674265081508, 0.4681046061794974, -0.15428432923757576, -0.3552277347112763, -0.36796381579868087, -0.24622779050192922, 1.094378929128451, -0.35505074658969, -0.395645873921673, -0.3998923667196744, -0.2759618088776377, -0.14449976946961693, -0.24630025613599665, -0.31820408401605177, 0.30174860000752857, 0.31141314374277795, -0.1421882165258839, 0.3641058364408924, -0.40785120430545796, -0.15912483343012615, -0.3188729378157005, -0.0726551569866787, -0.34671389053502316, -0.31299487392807207, -0.12474561552599377, -0.1562041008088943, 0.24479348487402736, -0.3301178389442638, -0.31839962718602044, -0.31827646850959135, -0.15622481862918555, -0.1535672776910348, -0.24187817482352061, -0.4085529200195361, -0.29460430720656783, -0.23747098352515839, -0.31708923475448847, -0.22420096348121174, -0.1524839255203133, -0.15562535086167203, -0.3485204829946451, 3.0715207587869466, -0.355291782631754, -0.40373175265971945, -0.278324243315519, -0.3175636657961294, -0.1627738451755363, 0.03898217208931092, -0.4084766021819354, -0.32590659281920503, -0.21247702350921552, -0.27797231896871805, -0.3186618010313886, -0.23216054424933427, -0.15626100628986406, -0.30652644697956266, -0.15237414156185458, -0.16718430241814622, -0.10565425198712036, -0.1543576097812534, 0.3595705778013673, -0.21149923145031663, 3.963515098444197, -0.15607509247007614, -0.14233348531399198, -0.12201849055366137, -0.34522687307144384, -0.32865067804011916, -0.1873789476910423, 0.538849043141404, -0.1125598939729286, -0.15574838836497956, 0.5585429757026728, -0.15582908222192823, -0.14573917399708744, -0.08207229382155865, -0.15453725284920672, -0.16493513435798246, -0.3687861973463795, -0.18060768245933317, -0.24621643642047136, -0.3910194373891217, 0.03638759544989466, -0.3549171691530793, -0.27208091726643796, -0.24630228915906366, 0.29823781459056975, -0.36810815817068965, -0.3271615551142518, -0.15307989208636613, -0.4087563591749448, -0.1520753704634884, -0.4034166230585493, 3.7410356377104232, -0.2681875424058226, -0.35305350768134347, -0.31856015177373165, -0.25111469679769804, -0.16437183357162446, -0.30762933078181876, -0.22373458579160344, -0.40866810644980145, -0.35002212695970125, -0.3115390673965939, -0.16465867025219233, -0.14400367627943214, -0.2722357404189803, -0.405796829893964, -0.30510220943009597, 8.0263091939644, -0.36948479450541954, -0.17830489598721558, -0.28951837889663007, 0.30555640374906756, -0.3380539292618783, -0.3685523955288518, -0.16484705357871055, -0.10586675922094792, -0.12977480556110751, -0.14554773909434088, -0.16464164321259475, -0.1560654428062294, -0.3185510502244715, -0.16523165440018972, -0.13496412172324027, -0.2464793494394344, -0.2859257359433221, -0.2939488280213152, -0.31417753298431145, -0.3173645217267606, 4.2898549605211365, -0.15597786185495394, -0.33474331287031506, -0.3586689609461176, -0.3498353928602652, -0.18061011554107428, -0.239042885598796, -0.2774659624112914, -0.15466014694191715, -0.2456613813588244, -0.18353733986858847, -0.31840227479040223, -0.3587067607912675, -0.35016660806257205, -0.4437551509151976, -0.1564023405809762, -0.15308458611360273, -0.1414887427038353, 0.4495611841015717, -0.27864726439279797, -0.2808785702098574, -0.4086326336794364, -0.20743039738135807, 0.29765990861918984, -0.1213168428787081, -0.25158190970216565, null, -0.31810542713933143, 0.4525685466427645, -0.3349177603742919, -0.40868208432791686, -0.40826366050305396, -0.08577960181575897, -0.11393893209943308, -0.3185105514490438, -0.16443904281828894, 0.2980544127856822, 0.2978249808553361, -0.40853571205020384, -0.20800199941466505, -0.15385979185248275, -0.09581056120248142, -0.40871103877787274, -0.3539749162761396, -0.2872337624750576, -0.40658369360931673, -0.1099468591183, -0.12001871169971358, -0.4628081785185419, -0.27183454419385683, -0.278251279159913, 1.1345892646744462, 0.1809978870607366, -0.4078877399400842, -0.3134867070886416, -0.16027852455352068, -0.155223395726123, -0.2782308269256287, -0.3097994266891577, -0.15441975122945353, -0.15439816218352354, 0.8733822264462036, -0.15439921776457524, 2.4619700179939024, -0.15443211345830227, -0.16195704644668102, -0.31850527734732614, -0.15373050702703187, -0.1467930134409127, -0.16509076166759287], \"y\": [1.6563041337154574, -1.2091235190426646, 0.988031452401529, 0.9879145494567003, 0.9879150714770719, 1.6197217358562925, 0.9879034942934736, 0.8312336111391636, -1.1646490141422337, -0.8502203192568025, -1.1644821869433726, -2.1884436014707815, -1.2568437981748, 1.522655551363235, 0.9831641760967326, -2.081091642776277, -0.8500065342975793, -2.1885436241852574, 1.7495341677948373, -0.8500016603089636, 0.9878950239936419, 1.0996670238472739, -1.1644719736258886, 0.9879010687169597, 1.7496419433248407, 1.4880657838752949, 1.6377887021976458, -0.849931557944821, 0.987912855537051, 1.3021795172219737, -0.8499902064571953, -0.8499921408662088, 3.017649682026466, 0.9879048924008733, 1.798421029516936, 0.987905723017612, -1.256826733569589, -2.291607942665145, -2.2678162147564143, -2.1149695026821855, 1.3487413054447865, -1.1644552728888968, -2.2674936333453073, 1.6227901207411384, 0.7809436920930448, 0.9878955185776077, -1.2568354181861239, -2.2957856598725663, 0.9879131868599825, 0.9878973531029939, -1.1644909614619976, 0.988140528126819, -0.8499890688238204, 0.9879133932985225, 1.7984507362496895, -0.8499863404231904, 1.3023191694898761, -1.256826734663165, 1.5950141080730091, -1.1644458651660323, 0.9879143217879566, -1.2568267579002037, 0.8955266226297502, 0.7852837459077042, -2.1231994730332175, 1.6906742418869412, -2.1148586503714224, -2.1148606246132178, -2.1148631877147106, 1.8818899726037523, 1.6356267937919204, 1.5159327286278788, -2.2720885695999895, 1.1462003865811872, 1.2693697549875507, 1.956374830089117, -1.1644457576964644, 1.392333618922133, 0.692817598400349, 0.8955268616549232, 1.6907130160221913, -1.164452864505555, 0.9879144333740246, -1.1644499422271393, -1.1644582894862658, -1.164653397888751, 1.637836202559799, -2.1707757410385837, 0.9877845500923812, -0.8501494560463609, 0.8952878163002838, -2.017280494958647, 0.9878736995567903, 0.9878520335907648, -2.2674892902699537, 1.7984416546498763, -1.8145856989092917, 1.3023485997391817, 1.0188080796597405, 0.9625518217100356, 1.8819043855600182, -1.2568351567884417, -2.1170392354809384, -0.8499887481488531, 0.5420787876938622, 1.4880635230222758, 0.9878861935546205, -2.2234568973488877, -2.1859096589525833, -0.5573461296386585, -1.561187184198763, -0.8499900295312947, 1.3023705273768793, 1.0996775683336297, -2.018883025964811, 0.8955335731098782, -2.08084317817129, 0.8371470414834327, -2.267812578999789, 0.9878711538187059, 0.9859265233096746, 1.637767783322027, 0.7852216152098462, -1.8205004390444417, -1.1644567314205012, -1.2595939051085725, 0.7852104308507395, 1.7330282260070637, -1.2568248627669865, 0.9504154783470322, 1.595030113478542, -1.1645008064400841, -0.8500178505953627, 1.9435600055449722, 1.4880616483321982, -1.2603446149640987, -2.269326060513208, -1.1665419847110603, -1.166364974594468, -1.1644582373526735, 1.590564187811815, 0.8955274693349953, -1.1644479956834726, 1.935744322358188, -2.014215341003215, -2.0143433751805526, -0.8498946960758101, 1.3488843841901823, 0.987881437687104, 1.8308319017525638, 0.8950665278844671, -1.1645129848343856, -1.1644538404139366, 0.9879583148406259, 1.3023510199669561, 1.7500271080117373, -1.1644753367637846, 1.3021952172582538, 1.8167884393712856, -2.014273602791581, -2.014173638074341, 0.98791400346481, 0.8955315512887464, 1.302364661062633, 1.6378047589330038, -2.1259542133473506, -2.0142164121357533, 0.9504353477953401, 1.5957647347025843, -2.0029186884041583, -1.1644602329522815, -1.1644687825773288, 0.14872925688698932, -1.1644514954452125, 1.6377962390654337, -2.270744752779381, -1.1644502839563111, -1.1644526097314594, 0.22967910866689992, 0.9879015495251853, 0.5510996042659762, -1.601320320866622, -0.8500190375304384, 0.987914118411683, 1.6907576977172427, -1.16446119097852, 0.9877984509884861, 1.3023592528387358, -1.6012447268018628, -1.2035839899589988, -1.1648207043697627, 0.9879286030243777, 0.9653795546537075, 1.6907600502496893, -2.1884102717992606, -1.164455872745683, -1.1644655035664735, -1.256874430263928, 2.014117262239478, 0.7851304751741578, -1.1676619764003564, -1.2019682772749254, 0.7843571233922618, -1.6013675562551302, 1.3017436774615585, 0.9878880197989383, 1.6907467805774081, -1.1644554651101537, -2.259881878754771, 1.3023370898193904, 1.2933950902381506, 1.9065049833063006, 0.7852245697840081, -2.185886786044674, 1.1002838204707592, 0.987917974649213, -1.2568256659949115, 0.9878946294108394, 0.9879125417073611, -1.1762246871352335, -1.2575683833188658, 0.9879040074917398, 0.9879061575158221, 1.3023639237392284, -2.1858935464727054, -1.6012509440764962, 1.3023699538032008, 1.302371886017864, 1.3023735928110383, 0.8955275482604955, -1.1644601390861449, 1.3023785378076065, -1.2747478320624543, -1.2568256333220102, -1.8143587472369973, 1.1058073235279235, -0.5573290023169678, 1.88670917878422, -2.1654622383133613, 0.9876802554375953, 1.5239886629088237, 1.6377040729698846, -1.1645202711815554, -1.1692317622838837, 1.4880656452780783, -1.8245075920923561, 1.9355913935756672, 1.7984526332503632, -2.267486894613544, -1.3214106591657127, -1.1644798199498874, -0.8500706849185019, 1.3023754694331098, 1.955864657408153, 1.0996014712218403, 2.415599308003806, 0.9879134976083831, 0.9763652886530821, 0.9668495452286926, -1.164481806487379, 1.5234707519266089, -2.2924011455429936, -1.1644480734314353, 0.987429093403825, -2.090059481510368, -1.16823078206522, 1.7496291858303474, -1.1644454967226991, -1.1644636081752922, 0.5911428003955199, 0.9878446986108081, -2.223699414423587, 1.7731689954392937, 0.08643596453301625, 1.3023216529425437, -0.8499863506538688, 1.9924522439753078, 0.8955210212644209, 0.23919052115018297, 1.637751244785253, -0.06454347999533205, -1.1644520623149934, -2.1861715245793705, 0.7850756741269416, -2.25215531931267, 0.9878640848018979, -1.1644480260231003, 0.7927962854402638, 0.7851354905299747, -0.8499839108819522, -1.1644720313133872, 0.9876024485494237, 1.0996782498672866, -1.35092864205552, -1.1644453143916313, 1.3023767764587824, 1.5956712743215347, -2.0706242665876466, 1.633804140487188, 0.8949359385432635, 1.5946500813029323, -2.0965949660208825, 0.7852213273979146, 1.7984812444503706, -2.267600362176995, -2.3421556970916524, 1.6378001390465284, 0.6928370932639702, 0.9018245630257002, -1.1651134989212928, -1.256827892649888, -1.1708882871723836, 0.7850427240343427, 0.9878810632710182, 0.8955177381319844, 2.1474909080276348, 1.9500171295515354, -1.1644898583266725, -1.1135871275388818, 1.637767827066392, 0.9878186806196373, 1.6363648652016674, 0.8955124140397295, -1.1644432649456407, -1.1644453139977327, 1.7984563584463567, 1.691417063166442, -0.85047242453983, 1.7984631317247088, 0.5511277400304199, -1.164446234062617, 0.9879096065572517, 1.7500633250332933, -0.8983542020443945, -1.1645088370283667, 1.63780184740709, 1.099639919425292, -0.8499899383125039, -1.3482123530340373, 1.6377922207750424, 1.3020681346416554, 1.3022903649500404, -0.16523210422040727, -2.265450792129999, -0.8499934346518708, 0.9879019107840487, -2.267776170798709, -2.2677712681864817, -2.3198715608810905, 0.7814582063729554, 1.3023697832977625, 0.7770263015433255, 2.1124794196518026, -1.1654635964852802, 1.4877546318789288, 0.9877897749396438, -1.2570959337873742, -1.164453380761193, 0.6564589464037783, 0.7291906754090245, 0.9879090409990464, 0.9879264713824092, -1.1644539846633826, -1.1644771305148376, -0.8500894428908439, 1.302366629589462, 0.9872324454029878, 1.5986145298601613, 0.9878932598124365, -0.461626980830278, -2.2233973961172833, -1.1644911805617257, 1.5234602968569277, -2.144173807887072, 1.6377997272958846, 1.3021784509772063, 0.7852330985305235, 0.9878475976448021, -2.0142151177169145, 0.9983401767048578, 1.302367470128353, 0.8954291105762143, -1.201966525147464, 0.7852195329042343, 0.9879152393536293, 1.5957662979095797, -1.1644550394947901, 0.6285601267193194, -1.164472533727536, -2.202531113451116, 0.5469995919246736, -1.1645580305745937, -2.0847062047388825, 0.21567848298542203, 1.7153368383738963, -1.1644558485049525, -2.28244643365241, 0.9865885558903884, 1.467773494781282, 1.3776789562869067, -1.5612334144442188, -1.2120661561968753, -1.1907228914416137, -1.164460996298254, -1.1782058402167095, -1.1644798185614424, -2.2653995123996933, -1.169544216994746, -1.1645357521815136, -1.2568287012845152, 0.8776134918067092, -1.6012387653131943, -0.8499875312871843, 0.7806486974652734, -1.1657452275576996, 1.6377742465422078, 1.7984554091388663, -0.8499898953978194, -2.267524805918443, 1.0997049142020132, 0.8955189794974442, -1.1645207864773268, 1.3023779994151805, -1.2570538360798873, 1.8983398895609507, 1.749523805173423, 0.6927157301669851, 1.6376629001755965, 0.9879073145073808, 0.1352900718860042, -1.256830282526699, 1.5699640583429193, 1.5954600180680318, 1.3023736523590994, 1.5234684272008796, 0.987430837365202, -1.256835175115385, -2.2653973660480635, 1.7984577333879317, 1.3024642672042661, 0.9876876670570381, -2.7342203367577294, 0.931875125192598, 0.9795500959471015, 1.957015578487299, -2.267941985861336, 0.5509991244747413, 1.0996781247202363, -1.256825556678123, -1.601813703352438, -1.8143354162274135, -2.292445017766358, -1.2568609756321298, -1.1644481465371324, 0.9879094713343735, -1.2568229850681352, -0.8035431490811252, -0.8499813544787174, 0.6927522402391562, 0.9875283607233947, 0.9878854018386986, 0.9878838514490929, 4.432924320044078, -1.164448170182925, 1.9590882281617275, 1.5950194571239489, 1.4880442555510855, -1.6012429883670136, -0.8504566115689016, 0.7851723057661287, -2.1438437146280234, 0.10296658923028894, -1.321128012046975, 0.9879089638242248, 1.5949975946385881, 1.4880207605436533, 3.890415277785384, -1.1644464454089465, -1.1645315948362938, -2.2242152745758785, 0.99300756311034, 0.7852229907913497, 0.827177633891854, 1.302377800451299, -1.2205027964736221, -2.2674946706510584, -2.1693077494883877, 0.13534565533378812, null, 0.9878980656081201, -2.269884938086048, 0.9630920007857743, 1.30237749855218, 1.3023646808631606, 0.783919233222064, 0.6916757352051742, 0.9879051156540052, -1.2568308492778364, -2.2675060080052565, -2.267488059715582, 1.3023778524928404, -1.2204655327271663, -2.223364838830032, -1.814729439049695, 1.3023758610379732, 1.6377931311034235, 0.692843925068316, 1.3023894293215637, -0.3539026453582187, -1.8145077711103081, 1.0660469544635809, 1.7984695108692519, 0.7852047763884759, -2.3019064185975298, -1.8167331508075162, 1.3023341172224399, 0.9878584811737685, -2.1884153582713486, -1.1645267646061135, 0.785197760306933, 0.9874815460217202, -2.114862771752527, -2.114862142455046, 0.7502939243648716, -2.1148621732240986, 0.8084434470825121, -2.11486036401014, -1.256844863046254, 0.9879052693884007, -1.1645397512034397, -2.1858861997289005, -1.2568254427172925], \"z\": [-0.6723493637413795, -0.05268136733534236, -0.5933683901308214, -0.5928947276581082, -0.5928953181379137, 11.842399770316419, -0.5929014752350988, -0.3792932064586508, -0.044589483862058056, 0.07637223240182146, -0.04420060349766791, 0.42528039494213576, 0.21846138011038063, 0.12573056846056613, -0.594259731415781, 0.4259494110870566, 0.07642946551649868, 0.4252549174588503, -0.27038635726663635, 0.07643935460387255, -0.5928995949345442, -0.1550486546572633, -0.04418905297256557, -0.5928978329551629, -0.2699467222474061, -0.1900007026700056, -0.11900290829406553, 0.07607767566758841, -0.5929035730788349, -0.4723061453769281, 0.07645142715774489, 0.07645104826491239, 14.957293892964051, -0.5929017732238231, -0.6316275460594627, -0.5929059216711896, 0.21846310115400458, 0.30121415160968207, 0.3917884116765283, 0.5407895093897805, -0.4793960836878423, -0.04418966736221482, 0.39230608804785116, -0.050724872124430075, -0.20829826943786484, -0.5929080200344264, 0.21844532896907026, 0.4130266026868446, -0.5929026769642047, -0.5929022296110885, -0.04420351323913574, -0.5931503535429009, 0.07644757318633051, -0.592895345105737, -0.6315456312759843, 0.07644705391992165, -0.47228378148739897, 0.21846310239105227, -0.5472436104756673, -0.044180722204245175, -0.592894790979232, 0.21846312867667225, -0.33024677045015516, -0.27573765168173425, 0.5367906636897121, -0.5072512292073301, 0.5408192941964802, 0.540815182894678, 0.5407929800077667, -0.6976887258409649, -0.09782668500404494, -1.2702848040733539, 0.40311622251739987, -0.1620518876154628, 0.06934114932584752, -0.7237349110962671, -0.04417979126785255, -0.23001602926786058, -0.013051438128679626, -0.3302463990626095, -0.5072950903101086, -0.04418307293282148, -0.5928952380906168, -0.044181334274430134, -0.044227636178487933, -0.044584524990497774, -0.11901153024980404, 0.4346546534745718, -0.5933894446124414, 0.07632416088163964, -0.3302994450682542, 0.38025716141026494, -0.5929512018892356, -0.5929587820394208, 0.39230919732823893, -0.6315481936487878, 0.35662156246534615, -0.4723613550744083, -0.05525938645223692, -0.612209055486955, -0.6977050297031143, 0.21845915225244286, 0.5384219739618281, 0.07645170284161831, -0.2638747653961791, -0.18999709911697454, -0.5929204110238055, 0.3524576480836584, 0.33220163638151695, 0.001474525505071401, 0.1761587135052554, 0.07645257474042363, -0.47226678998896143, -0.15503792798880545, 0.37982373567672967, -0.3302472524242593, 0.3527566103442823, -0.351088447318567, 0.3913993788350943, -0.5929130247256583, -0.5939330054613857, -0.11896493986123197, -0.2756785403617726, 0.35060520856730554, -0.044196133065631416, 0.20772765639063512, -0.2757188952250977, -0.3674818315997499, 0.2184676347577224, -0.44553501884071783, -0.5472360448444565, -0.04424371837805283, 0.07643199810894835, -0.7374585752552566, -0.18999987519444989, 0.2089787842405103, 0.375208267312354, -0.050470310207686525, -0.04457371299091937, -0.04422769515174019, -0.5614309427854454, -0.330247728238783, -0.044188580519370906, -0.6846945081950051, 0.3809445723851443, 0.3809265259133556, 0.0752016746371179, -0.47927555412846695, -0.5929111805813116, -0.668701292197112, -0.33035396625570107, -0.04429398620586255, -0.0441890284778144, -0.59294423480881, -0.4722691106275903, -0.2703021971149094, -0.04419038278099881, -0.47230080139996483, -0.6102997094546583, 0.3808925237567218, 0.38091421621661986, -0.5928968054486239, -0.33025106218072453, -0.4722781236490539, -0.11895029058222702, 0.3574338627265186, 0.3809517519699662, -0.445554684099073, -0.3143161841236789, 0.2591562446917295, -0.04418693144400894, -0.044254272743433125, -0.5266036327472123, -0.0441839798352593, -0.11897274153151018, 0.39081426746717884, -0.04417972565901668, -0.04418271936037577, -0.49263147923985, -0.5929441993348399, -0.3550662444193784, 0.19354126679928568, 0.07643334076381374, -0.5928963680144325, -0.50722949645866, -0.04421408567982341, -0.5929238405385461, -0.4722720058939406, 0.19365098210042084, -0.12825898645750505, -0.04466520406074722, -0.5929202515286971, -0.5994918369238755, -0.507223246633334, 0.4252898628010131, -0.04421111683518206, -0.04420166372660762, 0.2184227149853683, -0.7896683408119339, -0.2757061379148518, -0.046957180775006095, 0.10314402360479688, -0.27597300423828214, 0.193489448686747, -0.4725062389995466, -0.5929417300098528, -0.5072395859488011, -0.04418084046864582, 0.20654897892302343, -0.47227902377996217, -0.47913873843715116, -0.7093616841738957, -0.27568739801581327, 0.3322115665258194, -0.15571107439417997, -0.5928986021913387, 0.21846189351900913, -0.5929006460513444, -0.5928956653333762, -0.08899787689545702, 0.21771109975979946, -0.592896878804597, -0.592898848047428, -0.47231579588830086, 0.3322087658451022, 0.1936495436645205, -0.47227127533811974, -0.47227346104942824, -0.47227025759234686, -0.33024717574730855, -0.04420244014318021, -0.47226173237199476, 0.07288010346363641, 0.21846185655959133, 0.3571331648520119, -0.161959232701827, 0.001472640726190751, -0.08592226191988965, 0.4691512578054505, -0.5929505812367837, -0.04583578967879156, -0.11897116717248163, -0.044263685173567095, -0.045181447040838416, -0.19000375474751982, 1.159439015214918, -0.6847292586899906, -0.6315362252647001, 0.39230809180299253, 0.16907284817119692, -0.04419301268303016, 0.07640961725994455, -0.4722642645740127, -0.7151395120707165, -0.15536084836400188, 13.681817818921777, -0.592896104872111, -0.6022922689128378, -0.6011546827172425, -0.04420103386753524, 0.041119686802474, 0.413674267486508, -0.044187850799679344, -0.5929873538308076, 0.35923514360143205, -0.051709111587142025, -0.26995470067237753, -0.044178796519130266, -0.04421135135923903, -0.3725746726796739, -0.5929119784520449, 0.3522092710521969, -0.483813972495005, -0.38878050730439273, -0.47228979961428463, 0.07643936423367348, -0.5847873467720508, -0.33029049239885205, -0.5335491397733243, -0.11914646429094823, 0.1494655401906984, -0.044197457570161705, 0.3222820522371479, -0.27582316774878984, 0.3380525670156638, -0.5930943509106413, -0.044181486711795, -0.28423579784117303, -0.2757368065740901, 0.07644751449331817, -0.04421537736474783, -0.5929592556855655, -0.15503953323925335, -0.07966944575786518, -0.04417853394282947, -0.47226166525803054, -0.3143294949022304, 0.29237943231713315, -0.1591594046232965, -0.33111704651077634, -0.547569862596008, 0.2505833581135136, -0.27567742804824363, -0.6315608888481549, 0.3922272281884131, 0.35869350215531914, -0.11895790002225783, -0.013022622386623755, -0.33747878592841657, -0.044500465748630355, 0.21846441229969005, -0.04651645256424813, -0.27578589477316623, -0.5929107570437572, -0.3302662418452529, -0.3584370955505611, -0.2554861938901962, -0.04434402553625955, -0.10170865630623213, -0.11895985517187414, -0.5929146356137234, -0.09640949455023926, -0.3302839648084343, -0.044182618330554424, -0.044178532443837064, -0.631544866248159, -0.136597127768588, 0.076304438226768, -0.6315403998258539, -0.35506187672423456, -0.044178838004002526, -0.5929026134521571, -0.2703431656238018, 0.06699684843451112, -0.04422308232909716, -0.11895253822485653, -0.15504687399601047, 0.0764498402906563, 0.17721107730574379, -0.1189553606301441, -0.4725523774988441, -0.4724828774855629, 0.3093218335586177, 0.3381232243787218, 0.07645251178861254, -0.5929051647067857, 0.3922566739654121, 0.39199441985007843, 0.2966205433005685, -0.2922773710730611, -0.4722839178951417, -0.2772299775228446, 8.046396973627106, -0.04623511887582464, -0.19005625409157234, -0.5930231274077704, 0.21743337591271264, -0.0441824889470938, -0.019991241795812634, -0.0604541444445543, -0.5929013319240235, -0.5929082136523189, -0.04418180581603629, -0.044248927952776, 0.07635254004739332, -0.4722643061466253, -0.5934066782165597, -0.5512843005415738, -0.5929335385111376, 0.041368864232884876, 0.35244168232346706, -0.04419042996274881, 0.041088835712568966, 0.30215765146196927, -0.1189503747644978, -0.47235628097391635, -0.27568035962862675, -0.5929114071948489, 0.38094542210850874, -0.6046881436623962, -0.4722665405030944, -0.3302652849190963, 0.10315551881069963, -0.27568710816219427, -0.5928955080390137, -0.3143102352868724, -0.044180612596162676, -0.06206955963674542, -0.04428211804132095, 0.5142613820676943, -0.24514848409185708, -0.04421107531055946, 0.23735323593045346, -0.3871424867978669, -0.40212027943647966, -0.044185473392374025, 0.28542474803173795, -0.5979408407834801, -0.1320619646164381, -0.062816028714723, 0.1761468317621314, -0.05326747801949518, 0.14958641551392823, -0.04419325579282663, -0.060700879943060095, -0.0441872383092771, 0.3381462770843103, -0.04514888567313435, -0.04421075967584683, 0.21846532702302904, -0.4758357908533131, 0.19365116962826345, 0.07644904279075404, -0.14939874100348435, -0.049125397227676386, -0.11895530823015737, -0.6315380817923367, 0.07645184541488947, 0.39230034822902926, -0.1550562185943416, -0.33024967646683023, -0.044253205642223785, -0.4722611239870174, 0.2181635823751705, -0.7000546191056877, -0.2700537493250014, -0.013513631465702444, -0.11898299393405201, -0.5928966406998271, 0.12560203775750575, 0.21845042197387995, -0.16744500799637527, -0.3144755858695637, -0.472262623693669, 0.04112777157884391, -0.5929893265909663, 0.21845917298378711, 0.3380989251307151, -0.6315343702675913, -0.4723587090254706, -0.5932156738606392, 0.27850938869923847, -0.3776960010574349, -0.5949847894627887, -0.7148331484711175, 0.3921875348076268, -0.3551706766268699, -0.15503874990195743, 0.21846230509792963, 0.19174792741091462, 0.3571085698941881, 0.4136726236166244, 0.2184639710752936, -0.04418730397367317, -0.5928973263159718, 0.2184721776289959, 0.06942131868793414, 0.07645489104861926, -0.013041568233147153, -0.5934847074701687, -0.5930106470053026, -0.5929241793620036, 9.628081263460997, -0.04418966666967588, -0.7140330383291924, -0.5472753321584335, -0.19003090052572982, 0.19365209609549805, 0.07635072783471339, -0.27569117084335076, 0.474287409515827, -0.28668830192218636, 0.16940515914170873, -0.5929012446242616, -0.5472698545750563, -0.19001715852581483, 16.778313703105724, -0.04417854355421522, -0.04425087591344765, 0.3523111479641779, -0.6147002084090922, -0.27566956757754835, -0.15641365300701784, -0.4722644280220966, 0.17102981598571912, 0.39230982852917173, 0.43447002923446687, 0.12560333920616323, null, -0.5929070479492423, 0.3886094480369509, -0.39780212680086346, -0.472263029727262, -0.4722717283313596, -0.28061750834456395, -0.017471367262582967, -0.5928975333654554, 0.21845235430377002, 0.39230147482341415, 0.39230401887904004, -0.4722670586439229, 0.17103767302928974, 0.35247223970470803, 0.3562707432984241, -0.47226191328189937, -0.11898462833911488, -0.013024895430076308, -0.4723221856663019, -0.08281846727387596, 0.3568799676003952, 0.04728937415430581, -0.6315476158814193, -0.2756765597170905, 0.3766991128121726, 0.34919634618974005, -0.4722756611935486, -0.5930238349557673, 0.42528862128174694, -0.04419404339719895, -0.27567568264920483, -0.5930466879629458, 0.5408239562816317, 0.5408232444235498, -0.2996927330465446, 0.5408232792293464, -0.12474957499480914, 0.5408237997421823, 0.21838811634312094, -0.5928977072690146, -0.044231752841385474, 0.33220384380023976, 0.2184688698637581]}],\n",
       "                        {\"coloraxis\": {\"colorbar\": {\"title\": {\"text\": \"Class\"}}, \"colorscale\": [[0.0, \"#0d0887\"], [0.1111111111111111, \"#46039f\"], [0.2222222222222222, \"#7201a8\"], [0.3333333333333333, \"#9c179e\"], [0.4444444444444444, \"#bd3786\"], [0.5555555555555556, \"#d8576b\"], [0.6666666666666666, \"#ed7953\"], [0.7777777777777778, \"#fb9f3a\"], [0.8888888888888888, \"#fdca26\"], [1.0, \"#f0f921\"]]}, \"legend\": {\"tracegroupgap\": 0, \"x\": 0, \"y\": 1}, \"margin\": {\"t\": 60}, \"scene\": {\"domain\": {\"x\": [0.0, 1.0], \"y\": [0.0, 1.0]}, \"xaxis\": {\"title\": {\"text\": \"PC 1\"}}, \"yaxis\": {\"title\": {\"text\": \"PC 2\"}}, \"zaxis\": {\"title\": {\"text\": \"PC 3\"}}}, \"template\": {\"data\": {\"bar\": [{\"error_x\": {\"color\": \"#2a3f5f\"}, \"error_y\": {\"color\": \"#2a3f5f\"}, \"marker\": {\"line\": {\"color\": \"#E5ECF6\", \"width\": 0.5}}, \"type\": \"bar\"}], \"barpolar\": [{\"marker\": {\"line\": {\"color\": \"#E5ECF6\", \"width\": 0.5}}, \"type\": \"barpolar\"}], \"carpet\": [{\"aaxis\": {\"endlinecolor\": \"#2a3f5f\", \"gridcolor\": \"white\", \"linecolor\": \"white\", \"minorgridcolor\": \"white\", \"startlinecolor\": \"#2a3f5f\"}, \"baxis\": {\"endlinecolor\": \"#2a3f5f\", \"gridcolor\": \"white\", \"linecolor\": \"white\", \"minorgridcolor\": \"white\", \"startlinecolor\": \"#2a3f5f\"}, \"type\": \"carpet\"}], \"choropleth\": [{\"colorbar\": {\"outlinewidth\": 0, \"ticks\": \"\"}, \"type\": \"choropleth\"}], \"contour\": [{\"colorbar\": {\"outlinewidth\": 0, \"ticks\": \"\"}, \"colorscale\": [[0.0, \"#0d0887\"], [0.1111111111111111, \"#46039f\"], [0.2222222222222222, \"#7201a8\"], [0.3333333333333333, \"#9c179e\"], [0.4444444444444444, \"#bd3786\"], [0.5555555555555556, \"#d8576b\"], [0.6666666666666666, \"#ed7953\"], [0.7777777777777778, \"#fb9f3a\"], [0.8888888888888888, \"#fdca26\"], [1.0, \"#f0f921\"]], \"type\": \"contour\"}], \"contourcarpet\": [{\"colorbar\": {\"outlinewidth\": 0, \"ticks\": \"\"}, \"type\": \"contourcarpet\"}], \"heatmap\": [{\"colorbar\": {\"outlinewidth\": 0, \"ticks\": \"\"}, \"colorscale\": [[0.0, \"#0d0887\"], [0.1111111111111111, \"#46039f\"], [0.2222222222222222, \"#7201a8\"], [0.3333333333333333, \"#9c179e\"], [0.4444444444444444, \"#bd3786\"], [0.5555555555555556, \"#d8576b\"], [0.6666666666666666, \"#ed7953\"], [0.7777777777777778, \"#fb9f3a\"], [0.8888888888888888, \"#fdca26\"], [1.0, \"#f0f921\"]], \"type\": \"heatmap\"}], \"heatmapgl\": [{\"colorbar\": {\"outlinewidth\": 0, \"ticks\": \"\"}, \"colorscale\": [[0.0, \"#0d0887\"], [0.1111111111111111, \"#46039f\"], [0.2222222222222222, \"#7201a8\"], [0.3333333333333333, \"#9c179e\"], [0.4444444444444444, \"#bd3786\"], [0.5555555555555556, \"#d8576b\"], [0.6666666666666666, \"#ed7953\"], [0.7777777777777778, \"#fb9f3a\"], [0.8888888888888888, \"#fdca26\"], [1.0, \"#f0f921\"]], \"type\": \"heatmapgl\"}], \"histogram\": [{\"marker\": {\"colorbar\": {\"outlinewidth\": 0, \"ticks\": \"\"}}, \"type\": \"histogram\"}], \"histogram2d\": [{\"colorbar\": {\"outlinewidth\": 0, \"ticks\": \"\"}, \"colorscale\": [[0.0, \"#0d0887\"], [0.1111111111111111, \"#46039f\"], [0.2222222222222222, \"#7201a8\"], [0.3333333333333333, \"#9c179e\"], [0.4444444444444444, \"#bd3786\"], [0.5555555555555556, \"#d8576b\"], [0.6666666666666666, \"#ed7953\"], [0.7777777777777778, \"#fb9f3a\"], [0.8888888888888888, \"#fdca26\"], [1.0, \"#f0f921\"]], \"type\": \"histogram2d\"}], \"histogram2dcontour\": [{\"colorbar\": {\"outlinewidth\": 0, \"ticks\": \"\"}, \"colorscale\": [[0.0, \"#0d0887\"], [0.1111111111111111, \"#46039f\"], [0.2222222222222222, \"#7201a8\"], [0.3333333333333333, \"#9c179e\"], [0.4444444444444444, \"#bd3786\"], [0.5555555555555556, \"#d8576b\"], [0.6666666666666666, \"#ed7953\"], [0.7777777777777778, \"#fb9f3a\"], [0.8888888888888888, \"#fdca26\"], [1.0, \"#f0f921\"]], \"type\": \"histogram2dcontour\"}], \"mesh3d\": [{\"colorbar\": {\"outlinewidth\": 0, \"ticks\": \"\"}, \"type\": \"mesh3d\"}], \"parcoords\": [{\"line\": {\"colorbar\": {\"outlinewidth\": 0, \"ticks\": \"\"}}, \"type\": \"parcoords\"}], \"pie\": [{\"automargin\": true, \"type\": \"pie\"}], \"scatter\": [{\"marker\": {\"colorbar\": {\"outlinewidth\": 0, \"ticks\": \"\"}}, \"type\": \"scatter\"}], \"scatter3d\": [{\"line\": {\"colorbar\": {\"outlinewidth\": 0, \"ticks\": \"\"}}, \"marker\": {\"colorbar\": {\"outlinewidth\": 0, \"ticks\": \"\"}}, \"type\": \"scatter3d\"}], \"scattercarpet\": [{\"marker\": {\"colorbar\": {\"outlinewidth\": 0, \"ticks\": \"\"}}, \"type\": \"scattercarpet\"}], \"scattergeo\": [{\"marker\": {\"colorbar\": {\"outlinewidth\": 0, \"ticks\": \"\"}}, \"type\": \"scattergeo\"}], \"scattergl\": [{\"marker\": {\"colorbar\": {\"outlinewidth\": 0, \"ticks\": \"\"}}, \"type\": \"scattergl\"}], \"scattermapbox\": [{\"marker\": {\"colorbar\": {\"outlinewidth\": 0, \"ticks\": \"\"}}, \"type\": \"scattermapbox\"}], \"scatterpolar\": [{\"marker\": {\"colorbar\": {\"outlinewidth\": 0, \"ticks\": \"\"}}, \"type\": \"scatterpolar\"}], \"scatterpolargl\": [{\"marker\": {\"colorbar\": {\"outlinewidth\": 0, \"ticks\": \"\"}}, \"type\": \"scatterpolargl\"}], \"scatterternary\": [{\"marker\": {\"colorbar\": {\"outlinewidth\": 0, \"ticks\": \"\"}}, \"type\": \"scatterternary\"}], \"surface\": [{\"colorbar\": {\"outlinewidth\": 0, \"ticks\": \"\"}, \"colorscale\": [[0.0, \"#0d0887\"], [0.1111111111111111, \"#46039f\"], [0.2222222222222222, \"#7201a8\"], [0.3333333333333333, \"#9c179e\"], [0.4444444444444444, \"#bd3786\"], [0.5555555555555556, \"#d8576b\"], [0.6666666666666666, \"#ed7953\"], [0.7777777777777778, \"#fb9f3a\"], [0.8888888888888888, \"#fdca26\"], [1.0, \"#f0f921\"]], \"type\": \"surface\"}], \"table\": [{\"cells\": {\"fill\": {\"color\": \"#EBF0F8\"}, \"line\": {\"color\": \"white\"}}, \"header\": {\"fill\": {\"color\": \"#C8D4E3\"}, \"line\": {\"color\": \"white\"}}, \"type\": \"table\"}]}, \"layout\": {\"annotationdefaults\": {\"arrowcolor\": \"#2a3f5f\", \"arrowhead\": 0, \"arrowwidth\": 1}, \"coloraxis\": {\"colorbar\": {\"outlinewidth\": 0, \"ticks\": \"\"}}, \"colorscale\": {\"diverging\": [[0, \"#8e0152\"], [0.1, \"#c51b7d\"], [0.2, \"#de77ae\"], [0.3, \"#f1b6da\"], [0.4, \"#fde0ef\"], [0.5, \"#f7f7f7\"], [0.6, \"#e6f5d0\"], [0.7, \"#b8e186\"], [0.8, \"#7fbc41\"], [0.9, \"#4d9221\"], [1, \"#276419\"]], \"sequential\": [[0.0, \"#0d0887\"], [0.1111111111111111, \"#46039f\"], [0.2222222222222222, \"#7201a8\"], [0.3333333333333333, \"#9c179e\"], [0.4444444444444444, \"#bd3786\"], [0.5555555555555556, \"#d8576b\"], [0.6666666666666666, \"#ed7953\"], [0.7777777777777778, \"#fb9f3a\"], [0.8888888888888888, \"#fdca26\"], [1.0, \"#f0f921\"]], \"sequentialminus\": [[0.0, \"#0d0887\"], [0.1111111111111111, \"#46039f\"], [0.2222222222222222, \"#7201a8\"], [0.3333333333333333, \"#9c179e\"], [0.4444444444444444, \"#bd3786\"], [0.5555555555555556, \"#d8576b\"], [0.6666666666666666, \"#ed7953\"], [0.7777777777777778, \"#fb9f3a\"], [0.8888888888888888, \"#fdca26\"], [1.0, \"#f0f921\"]]}, \"colorway\": [\"#636efa\", \"#EF553B\", \"#00cc96\", \"#ab63fa\", \"#FFA15A\", \"#19d3f3\", \"#FF6692\", \"#B6E880\", \"#FF97FF\", \"#FECB52\"], \"font\": {\"color\": \"#2a3f5f\"}, \"geo\": {\"bgcolor\": \"white\", \"lakecolor\": \"white\", \"landcolor\": \"#E5ECF6\", \"showlakes\": true, \"showland\": true, \"subunitcolor\": \"white\"}, \"hoverlabel\": {\"align\": \"left\"}, \"hovermode\": \"closest\", \"mapbox\": {\"style\": \"light\"}, \"paper_bgcolor\": \"white\", \"plot_bgcolor\": \"#E5ECF6\", \"polar\": {\"angularaxis\": {\"gridcolor\": \"white\", \"linecolor\": \"white\", \"ticks\": \"\"}, \"bgcolor\": \"#E5ECF6\", \"radialaxis\": {\"gridcolor\": \"white\", \"linecolor\": \"white\", \"ticks\": \"\"}}, \"scene\": {\"xaxis\": {\"backgroundcolor\": \"#E5ECF6\", \"gridcolor\": \"white\", \"gridwidth\": 2, \"linecolor\": \"white\", \"showbackground\": true, \"ticks\": \"\", \"zerolinecolor\": \"white\"}, \"yaxis\": {\"backgroundcolor\": \"#E5ECF6\", \"gridcolor\": \"white\", \"gridwidth\": 2, \"linecolor\": \"white\", \"showbackground\": true, \"ticks\": \"\", \"zerolinecolor\": \"white\"}, \"zaxis\": {\"backgroundcolor\": \"#E5ECF6\", \"gridcolor\": \"white\", \"gridwidth\": 2, \"linecolor\": \"white\", \"showbackground\": true, \"ticks\": \"\", \"zerolinecolor\": \"white\"}}, \"shapedefaults\": {\"line\": {\"color\": \"#2a3f5f\"}}, \"ternary\": {\"aaxis\": {\"gridcolor\": \"white\", \"linecolor\": \"white\", \"ticks\": \"\"}, \"baxis\": {\"gridcolor\": \"white\", \"linecolor\": \"white\", \"ticks\": \"\"}, \"bgcolor\": \"#E5ECF6\", \"caxis\": {\"gridcolor\": \"white\", \"linecolor\": \"white\", \"ticks\": \"\"}}, \"title\": {\"x\": 0.05}, \"xaxis\": {\"automargin\": true, \"gridcolor\": \"white\", \"linecolor\": \"white\", \"ticks\": \"\", \"title\": {\"standoff\": 15}, \"zerolinecolor\": \"white\", \"zerolinewidth\": 2}, \"yaxis\": {\"automargin\": true, \"gridcolor\": \"white\", \"linecolor\": \"white\", \"ticks\": \"\", \"title\": {\"standoff\": 15}, \"zerolinecolor\": \"white\", \"zerolinewidth\": 2}}}, \"width\": 1000},\n",
       "                        {\"responsive\": true}\n",
       "                    ).then(function(){\n",
       "                            \n",
       "var gd = document.getElementById('70d1a44e-fecc-495f-8fc3-9b1f0932d66a');\n",
       "var x = new MutationObserver(function (mutations, observer) {{\n",
       "        var display = window.getComputedStyle(gd).display;\n",
       "        if (!display || display === 'none') {{\n",
       "            console.log([gd, 'removed!']);\n",
       "            Plotly.purge(gd);\n",
       "            observer.disconnect();\n",
       "        }}\n",
       "}});\n",
       "\n",
       "// Listen for the removal of the full notebook cells\n",
       "var notebookContainer = gd.closest('#notebook-container');\n",
       "if (notebookContainer) {{\n",
       "    x.observe(notebookContainer, {childList: true});\n",
       "}}\n",
       "\n",
       "// Listen for the clearing of the current output cell\n",
       "var outputEl = gd.closest('.output');\n",
       "if (outputEl) {{\n",
       "    x.observe(outputEl, {childList: true});\n",
       "}}\n",
       "\n",
       "                        })\n",
       "                };\n",
       "                });\n",
       "            </script>\n",
       "        </div>"
      ]
     },
     "metadata": {},
     "output_type": "display_data"
    }
   ],
   "source": [
    "# Create a 3D-Scatter with the PCA data and the clusters\n",
    "fig = px.scatter_3d(\n",
    "    clustered_df,\n",
    "    x='PC 1',\n",
    "    y='PC 2',\n",
    "    z='PC 3',\n",
    "    color='Class',\n",
    "    #symbol='Class',\n",
    "    hover_name='CoinName',\n",
    "    hover_data=['Algorithm'],\n",
    "    width=1000\n",
    ")\n",
    "\n",
    "fig.update_layout(legend=dict(x=0, y=1))\n",
    "fig.show()"
   ]
  },
  {
   "cell_type": "markdown",
   "metadata": {},
   "source": [
    "#### Table of Tradable Cryptocurrencies"
   ]
  },
  {
   "cell_type": "code",
   "execution_count": 57,
   "metadata": {},
   "outputs": [
    {
     "data": {
      "application/vnd.holoviews_exec.v0+json": "",
      "text/html": [
       "<div id='1307'>\n",
       "\n",
       "\n",
       "\n",
       "\n",
       "\n",
       "  <div class=\"bk-root\" id=\"5dc66210-828a-4745-8ebe-88a557d3ff5c\" data-root-id=\"1307\"></div>\n",
       "</div>\n",
       "<script type=\"application/javascript\">(function(root) {\n",
       "  function embed_document(root) {\n",
       "  var docs_json = {\"ea1452f7-17d9-4987-b7c1-202f8b40244b\":{\"roots\":{\"references\":[{\"attributes\":{},\"id\":\"1316\",\"type\":\"StringFormatter\"},{\"attributes\":{},\"id\":\"1344\",\"type\":\"UnionRenderers\"},{\"attributes\":{\"editor\":{\"id\":\"1312\"},\"field\":\"CoinName\",\"formatter\":{\"id\":\"1311\"},\"title\":\"CoinName\"},\"id\":\"1313\",\"type\":\"TableColumn\"},{\"attributes\":{},\"id\":\"1337\",\"type\":\"NumberEditor\"},{\"attributes\":{\"data\":{\"Algorithm\":[\"X13\",\"Scrypt\",\"Scrypt\",\"Scrypt\",\"Scrypt\",\"ECC 256K1\",\"Scrypt\",\"Lyra2REv2\",\"Scrypt\",\"X11\",\"Scrypt\",\"Lyra2Z\",\"SHA-256\",\"Ouroboros\",\"Scrypt\",\"IMesh\",\"X11\",\"Lyra2Z\",\"DPoS\",\"X11\",\"Scrypt\",\"X11\",\"Scrypt\",\"Scrypt\",\"DPoS\",\"Quark\",\"PoS\",\"X11\",\"Scrypt\",\"X11\",\"X11\",\"X11\",\"Proof-of-BibleHash\",\"Scrypt\",\"X13\",\"Scrypt\",\"SHA-256\",\"CryptoNight\",\"CryptoNight\",\"Equihash\",\"XEVAN\",\"Scrypt\",\"CryptoNight\",\"Green Protocol\",\"XEVAN\",\"Scrypt\",\"SHA-256\",\"Blake\",\"Scrypt\",\"Scrypt\",\"Scrypt\",\"Scrypt\",\"X11\",\"Scrypt\",\"X13\",\"X11\",\"X11\",\"SHA-256\",\"NIST5\",\"Scrypt\",\"Scrypt\",\"SHA-256\",\"SHA-256\",\"Scrypt\",\"Equihash\",\"Quark\",\"Equihash\",\"Equihash\",\"Equihash\",\"Skein\",\"SHA-512\",\"TRC10\",\"Time Travel\",\"XEVAN\",\"Shabal256\",\"SHA-256D\",\"Scrypt\",\"NIST5\",\"SHA-256\",\"SHA-256\",\"Quark\",\"Scrypt\",\"Scrypt\",\"Scrypt\",\"Scrypt\",\"Scrypt\",\"PoS\",\"Cloverhash\",\"Scrypt\",\"X11\",\"SHA-256\",\"Ethash\",\"Scrypt\",\"Scrypt\",\"CryptoNight\",\"X13\",\"Multiple\",\"X11\",\"X11\",\"Scrypt\",\"Skein\",\"SHA-256\",\"Equihash\",\"X11\",\"Scrypt\",\"Quark\",\"Scrypt\",\"CryptoNight-V7\",\"Lyra2RE\",\"NIST5\",\"QuBit\",\"X11\",\"X11\",\"X11\",\"Ethash\",\"SHA-256\",\"Dagger-Hashimoto\",\"BLAKE256\",\"CryptoNight\",\"Scrypt\",\"Scrypt\",\"PoS\",\"Scrypt\",\"Multiple\",\"Scrypt\",\"SHA-256\",\"Scrypt\",\"X15\",\"SHA-256\",\"Groestl\",\"NIST5\",\"Scrypt\",\"X11\",\"QUAIT\",\"Quark\",\"SHA-256\",\"Argon2d\",\"Scrypt\",\"Scrypt\",\"Scrypt\",\"NIST5\",\"SHA-256\",\"Scrypt\",\"X15\",\"Ethash\",\"Ethash\",\"X11\",\"XEVAN\",\"Scrypt\",\"X13\",\"SHA-256\",\"Scrypt\",\"Scrypt\",\"Scrypt\",\"X11\",\"DPoS\",\"Scrypt\",\"X11\",\"536\",\"Ethash\",\"Ethash\",\"Scrypt\",\"SHA-256\",\"X11\",\"PoS\",\"Exosis\",\"Ethash\",\"Groestl\",\"X13\",\"Stanford Folding\",\"Scrypt\",\"Scrypt\",\"Scrypt\",\"Scrypt\",\"PoS\",\"CryptoNight\",\"Scrypt\",\"Scrypt\",\"Scrypt\",\"Scrypt\",\"NeoScrypt\",\"NeoScrypt\",\"X11\",\"Scrypt\",\"Quark\",\"Scrypt\",\"Scrypt\",\"X11\",\"NeoScrypt\",\"Scrypt\",\"Scrypt\",\"Scrypt\",\"Scrypt\",\"Quark\",\"Lyra2Z\",\"Scrypt\",\"Scrypt\",\"SHA-256\",\"X14\",\"Scrypt\",\"Scrypt\",\"Groestl\",\"Scrypt\",\"NeoScrypt\",\"X11\",\"Scrypt\",\"Quark\",\"Scrypt\",\"1GB AES Pattern Search\",\"X11\",\"X11\",\"X15\",\"Scrypt\",\"Lyra2RE\",\"X11\",\"Scrypt\",\"SHA-256\",\"Scrypt\",\"Scrypt\",\"Scrypt\",\"SHA-256\",\"Scrypt\",\"Scrypt\",\"X11\",\"Lyra2RE\",\"NeoScrypt\",\"X11\",\"X11\",\"X11\",\"SHA-256\",\"Scrypt\",\"X11\",\"C11\",\"SHA-256\",\"Multiple\",\"X11\",\"NIST5\",\"SHA-512\",\"Tribus\",\"Scrypt\",\"POS 2.0\",\"PoS\",\"Scrypt\",\"Scrypt\",\"Quark\",\"Equihash\",\"X15\",\"X13\",\"CryptoNight\",\"Lyra2REv2\",\"Scrypt\",\"X11\",\"X11\",\"SHA-256D\",\"X11\",\"SHA-256 + Hive\",\"Scrypt\",\"Scrypt\",\"Scrypt\",\"Scrypt\",\"POS 3.0\",\"Blake\",\"Scrypt\",\"Scrypt\",\"CryptoNight Heavy\",\"Scrypt\",\"DPoS\",\"Scrypt\",\"Scrypt\",\"QuBit\",\"Scrypt\",\"CryptoNight-V7\",\"PHI1612\",\"Scrypt\",\"X11\",\"X11\",\"SHA3\",\"SHA-256\",\"Scrypt\",\"PoS\",\"Ethash\",\"Scrypt\",\"HybridScryptHash256\",\"Scrypt\",\"Jump Consistent Hash\",\"Scrypt\",\"Scrypt\",\"Scrypt\",\"Scrypt\",\"X11\",\"Scrypt\",\"Scrypt\",\"X11\",\"Scrypt\",\"Scrypt\",\"X11\",\"X13\",\"SkunkHash\",\"DPoS\",\"SHA-256\",\"NIST5\",\"Blake2b\",\"Scrypt\",\"X13\",\"CryptoNight\",\"CryptoNight\",\"PoS\",\"SHA-256\",\"SHA-256\",\"Scrypt\",\"SHA-256\",\"Scrypt\",\"Scrypt\",\"Scrypt\",\"SHA-256\",\"SHA3\",\"PoS\",\"Scrypt\",\"Scrypt\",\"PoS\",\"Scrypt\",\"SHA-512\",\"SHA-256\",\"Scrypt\",\"Scrypt\",\"X13\",\"VBFT\",\"X11\",\"X13\",\"NeoScrypt\",\"Scrypt\",\"Scrypt\",\"DPoS\",\"X11\",\"Scrypt\",\"PoS\",\"X11\",\"X11\",\"BLAKE256\",\"PoS\",\"X11\",\"X11\",\"Equihash\",\"Dagger\",\"X11\",\"Scrypt\",\"CryptoNight\",\"CryptoNight\",\"HMQ1725\",\"Scrypt\",\"X11\",\"Scrypt\",\"Proof-of-Authority\",\"Scrypt\",\"Quark\",\"Scrypt\",\"SHA-256\",\"Scrypt\",\"SHA-256\",\"X16R\",\"Scrypt\",\"Scrypt\",\"Scrypt\",\"Scrypt\",\"X11\",\"X11\",\"Scrypt\",\"NIST5\",\"Scrypt\",\"Quark\",\"CryptoNight-V7\",\"Scrypt\",\"POS 3.0\",\"CryptoNight Heavy\",\"PoS\",\"X11\",\"Scrypt\",\"Scrypt\",\"Ethash\",\"Scrypt\",\"X11\",\"SHA-256\",\"Groestl\",\"Scrypt\",\"Scrypt\",\"X13\",\"Scrypt\",\"Lyra2REv2\",\"Scrypt\",\"Cryptonight-GPU\",\"Scrypt\",\"Scrypt\",\"Blake2b\",\"Scrypt\",\"Semux BFT consensus\",\"Scrypt\",\"X11GOST\",\"Scrypt\",\"SkunkHash v2 Raptor\",\"Counterparty\",\"QuBit\",\"Scrypt\",\"Keccak\",\"Scrypt\",\"Scrypt\",\"Scrypt\",\"Dagger\",\"Scrypt\",\"Scrypt\",\"SHA-256\",\"C11\",\"NeoScrypt\",\"X11\",\"X11\",\"Scrypt\",\"PoS\",\"X13\",\"X11\",\"CryptoNight\",\"X11\",\"SHA-256\",\"Scrypt\",\"X11\",\"SHA-256\",\"Blake2S\",\"DPoS\",\"SHA-256\",\"PoS\",\"Scrypt\",\"Multiple\",\"SHA-256\",\"PHI1612\",\"X13\",\"X11\",\"POS 3.0\",\"Scrypt\",\"SHA-256\",\"Dagger\",\"X13\",\"X11\",\"Scrypt\",\"CryptoNight\",\"X16R\",\"Scrypt\",\"SHA-256D\",\"CryptoNight\",\"NeoScrypt\",\"X11\",\"SHA-256\",\"NeoScrypt\",\"Multiple\",\"Blake\",\"SHA-256\",\"Scrypt\",\"Scrypt\",\"SHA-256\",\"XEVAN\",\"X11\",\"SHA-256\",\"Scrypt\",\"Scrypt\",\"Scrypt\",\"VeChainThor Authority\",\"Scrypt\",\"SHA-256D\",\"NIST5\",\"Quark\",\"NeoScrypt\",\"X11\",\"Scrypt\",\"Equihash+Scrypt\",\"Scrypt\",\"Lyra2REv2\",\"Scrypt\",\"NIST5\",\"Quark\",\"Leased POS\",\"Scrypt\",\"Scrypt\",\"CryptoNight-V7\",\"Scrypt\",\"Scrypt\",\"XEVAN\",\"X11\",\"X16R\",\"CryptoNight\",\"M7 POW\",\"Multiple\",\"nan\",\"Scrypt\",\"CryptoNight\",\"Keccak\",\"X11\",\"X11\",\"Scrypt\",\"SHA-256\",\"Scrypt\",\"SHA-256\",\"CryptoNight\",\"CryptoNight\",\"X11\",\"X16R\",\"CryptoNight-V7\",\"Multiple\",\"X11\",\"PoS\",\"SHA-256\",\"X11\",\"X13\",\"Multiple\",\"X11\",\"X13\",\"Scrypt\",\"CryptoNight\",\"Multiple\",\"X11\",\"Scrypt\",\"Lyra2Z\",\"Scrypt\",\"Scrypt\",\"Scrypt\",\"Equihash\",\"Equihash\",\"Scrypt\",\"Equihash\",\"SHA-256\",\"Equihash\",\"SHA-256\",\"Scrypt\",\"Scrypt\",\"Lyra2RE\",\"SHA-256\"],\"Class\":{\"__ndarray__\":\"AAAAAAAAFEAAAAAAAADwPwAAAAAAAAAAAAAAAAAAAAAAAAAAAAAAAAAAAAAAAAhAAAAAAAAAAAAAAAAAAAAAAAAAAAAAAPA/AAAAAAAA8D8AAAAAAADwPwAAAAAAABBAAAAAAAAA8D8AAAAAAAAAAAAAAAAAAAAAAAAAAAAAEEAAAAAAAADwPwAAAAAAABBAAAAAAAAAFEAAAAAAAADwPwAAAAAAAAAAAAAAAAAAAAAAAAAAAADwPwAAAAAAAAAAAAAAAAAAFEAAAAAAAAAAAAAAAAAAAAAAAAAAAAAA8D8AAAAAAAAAAAAAAAAAAAAAAAAAAAAA8D8AAAAAAADwPwAAAAAAAAhAAAAAAAAAAAAAAAAAAAAAAAAAAAAAAAAAAAAAAAAA8D8AAAAAAAAUQAAAAAAAABBAAAAAAAAAEEAAAAAAAAAAAAAAAAAAAPA/AAAAAAAAEEAAAAAAAAAAAAAAAAAAAAAAAAAAAAAAAAAAAAAAAADwPwAAAAAAABBAAAAAAAAAAAAAAAAAAAAAAAAAAAAAAPA/AAAAAAAAAAAAAAAAAADwPwAAAAAAAAAAAAAAAAAAAAAAAAAAAADwPwAAAAAAAAAAAAAAAAAA8D8AAAAAAAAAAAAAAAAAAPA/AAAAAAAAAAAAAAAAAADwPwAAAAAAAAAAAAAAAAAAAAAAAAAAAAAQQAAAAAAAAAAAAAAAAAAAEEAAAAAAAAAQQAAAAAAAABBAAAAAAAAAAAAAAAAAAAAAAAAAAAAAAABAAAAAAAAAEEAAAAAAAAAAAAAAAAAAAAAAAAAAAAAAAAAAAAAAAADwPwAAAAAAAAAAAAAAAAAAAAAAAAAAAAAAAAAAAAAAAAAAAAAAAAAA8D8AAAAAAAAAAAAAAAAAAPA/AAAAAAAA8D8AAAAAAADwPwAAAAAAAAAAAAAAAAAAEEAAAAAAAAAAAAAAAAAAAPA/AAAAAAAAAAAAAAAAAAAQQAAAAAAAAAAAAAAAAAAAAAAAAAAAAAAQQAAAAAAAAAAAAAAAAAAAEEAAAAAAAAAAAAAAAAAAAAAAAAAAAAAAAAAAAAAAAAAAAAAAAAAAAPA/AAAAAAAAEEAAAAAAAADwPwAAAAAAAAAAAAAAAAAAAAAAAAAAAAAAAAAAAAAAABBAAAAAAAAAEEAAAAAAAADwPwAAAAAAAPA/AAAAAAAA8D8AAAAAAAAAAAAAAAAAAAAAAAAAAAAAEEAAAAAAAAAAAAAAAAAAABBAAAAAAAAAAAAAAAAAAAAQQAAAAAAAAAAAAAAAAAAAAAAAAAAAAAAAAAAAAAAAAAAAAAAAAAAAEEAAAAAAAADwPwAAAAAAAPA/AAAAAAAAAAAAAAAAAAAAAAAAAAAAAPA/AAAAAAAAAAAAAAAAAAAAAAAAAAAAAPA/AAAAAAAA8D8AAAAAAAAAAAAAAAAAAAAAAAAAAAAA8D8AAAAAAAAQQAAAAAAAAPA/AAAAAAAA8D8AAAAAAADwPwAAAAAAAAAAAAAAAAAAAAAAAAAAAADwPwAAAAAAAAAAAAAAAAAAEEAAAAAAAAAQQAAAAAAAAPA/AAAAAAAAAAAAAAAAAAAAAAAAAAAAAAAAAAAAAAAAAAAAAAAAAADwPwAAAAAAAPA/AAAAAAAAAAAAAAAAAAAAAAAAAAAAABRAAAAAAAAA8D8AAAAAAAAAAAAAAAAAAAAAAAAAAAAAEEAAAAAAAAAQQAAAAAAAAAAAAAAAAAAAAAAAAAAAAAAAAAAAAAAAAAAAAAAAAAAAEEAAAAAAAAAQQAAAAAAAAAAAAAAAAAAAAAAAAAAAAAAQQAAAAAAAAPA/AAAAAAAA8D8AAAAAAAAAAAAAAAAAAPA/AAAAAAAAAAAAAAAAAAAQQAAAAAAAAPA/AAAAAAAA8D8AAAAAAAAAAAAAAAAAAAAAAAAAAAAAAAAAAAAAAADwPwAAAAAAAPA/AAAAAAAAAAAAAAAAAAAAAAAAAAAAAPA/AAAAAAAAAAAAAAAAAAAAAAAAAAAAAPA/AAAAAAAAFEAAAAAAAADwPwAAAAAAAAAAAAAAAAAAAAAAAAAAAAAAAAAAAAAAABBAAAAAAAAA8D8AAAAAAADwPwAAAAAAAPA/AAAAAAAAAAAAAAAAAAAAAAAAAAAAAPA/AAAAAAAA8D8AAAAAAAAAAAAAAAAAAPA/AAAAAAAAAAAAAAAAAAAAAAAAAAAAAAAAAAAAAAAA8D8AAAAAAAAQQAAAAAAAAAAAAAAAAAAAAAAAAAAAAAAAAAAAAAAAAAAAAAAAAAAAEEAAAAAAAAAAAAAAAAAAAAAAAAAAAAAA8D8AAAAAAAAAAAAAAAAAAAAAAAAAAAAA8D8AAAAAAADwPwAAAAAAAAAAAAAAAAAAAAAAAAAAAAAAAAAAAAAAABBAAAAAAAAA8D8AAAAAAAAAAAAAAAAAAAAAAAAAAAAAAAAAAAAAAAAAAAAAAAAAAPA/AAAAAAAAAAAAAAAAAADwPwAAAAAAAPA/AAAAAAAAEEAAAAAAAAAAAAAAAAAAAPA/AAAAAAAAAAAAAAAAAAAQQAAAAAAAAAAAAAAAAAAAAAAAAAAAAAAAAAAAAAAAAPA/AAAAAAAA8D8AAAAAAAAAAAAAAAAAABBAAAAAAAAAAAAAAAAAAAAAAAAAAAAAABBAAAAAAAAA8D8AAAAAAADwPwAAAAAAAPA/AAAAAAAAAAAAAAAAAAAAAAAAAAAAAAAAAAAAAAAACEAAAAAAAAAAAAAAAAAAAAAAAAAAAAAAAAAAAAAAAADwPwAAAAAAAAAAAAAAAAAAEEAAAAAAAADwPwAAAAAAAAAAAAAAAAAAEEAAAAAAAADwPwAAAAAAABRAAAAAAAAA8D8AAAAAAADwPwAAAAAAAAAAAAAAAAAAAAAAAAAAAAAQQAAAAAAAAAAAAAAAAAAAFEAAAAAAAAAAAAAAAAAAAPA/AAAAAAAAAAAAAAAAAAAAAAAAAAAAAAAAAAAAAAAAAAAAAAAAAADwPwAAAAAAAPA/AAAAAAAAEEAAAAAAAAAAAAAAAAAAABBAAAAAAAAAAAAAAAAAAADwPwAAAAAAAAAAAAAAAAAAAAAAAAAAAADwPwAAAAAAAPA/AAAAAAAAAAAAAAAAAAAAAAAAAAAAABRAAAAAAAAA8D8AAAAAAAAAAAAAAAAAAAAAAAAAAAAAEEAAAAAAAAAAAAAAAAAAAAAAAAAAAAAAAAAAAAAAAAAQQAAAAAAAAAAAAAAAAAAAAAAAAAAAAAAQQAAAAAAAABBAAAAAAAAAAAAAAAAAAAAAAAAAAAAAAAAAAAAAAAAA8D8AAAAAAADwPwAAAAAAAPA/AAAAAAAAAAAAAAAAAAAAAAAAAAAAAAAAAAAAAAAAAAAAAAAAAAAAAAAAAAAAAPA/AAAAAAAA8D8AAAAAAAAAAAAAAAAAAAAAAAAAAAAAAAAAAAAAAAAAAAAAAAAAAPA/AAAAAAAA8D8AAAAAAAAAAAAAAAAAAAAAAAAAAAAA8D8AAAAAAAAAAAAAAAAAAAAAAAAAAAAA8D8AAAAAAAAAAAAAAAAAABRAAAAAAAAA8D8AAAAAAADwPwAAAAAAAAAAAAAAAAAAAAAAAAAAAADwPwAAAAAAAPA/AAAAAAAAAAAAAAAAAAAAAAAAAAAAAAAAAAAAAAAA8D8AAAAAAAAQQAAAAAAAAPA/AAAAAAAAAAAAAAAAAAAQQAAAAAAAABBAAAAAAAAAEEAAAAAAAAAAAAAAAAAAAAAAAAAAAAAAAAAAAAAAAAAIQAAAAAAAAPA/AAAAAAAAAAAAAAAAAAAAAAAAAAAAAPA/AAAAAAAA8D8AAAAAAAAAAAAAAAAAAAAAAAAAAAAAAAAAAAAAAAAAAAAAAAAAAPA/AAAAAAAA8D8AAAAAAADwPwAAAAAAAAAAAAAAAAAAAAAAAAAAAAAAAAAAAAAAAAAAAAAAAAAA8D8AAAAAAAAQQAAAAAAAAPA/AAAAAAAAAAAAAAAAAAAUQAAAAAAAAAAAAAAAAAAAAAAAAAAAAAAAAAAAAAAAAAAAAAAAAAAAEEAAAAAAAAAAAAAAAAAAAAAAAAAAAAAAAAAAAAAAAADwPwAAAAAAAAAAAAAAAAAAAAAAAAAAAAAAAAAAAAAAAPA/AAAAAAAAAAAAAAAAAADwPwAAAAAAABBAAAAAAAAAAAAAAAAAAADwPwAAAAAAABBAAAAAAAAAAAAAAAAAAAAUQAAAAAAAAPA/AAAAAAAAEEAAAAAAAAAAAAAAAAAAAAAAAAAAAAAAAAAAAAAAAADwPwAAAAAAAPA/AAAAAAAA8D8AAAAAAADwPwAAAAAAAPA/AAAAAAAA8D8AAAAAAAAQQAAAAAAAAPA/AAAAAAAA8D8AAAAAAADwPwAAAAAAAAAAAAAAAAAA8D8AAAAAAADwPwAAAAAAAAAAAAAAAAAA8D8AAAAAAAAAAAAAAAAAAAAAAAAAAAAA8D8AAAAAAAAQQAAAAAAAAAAAAAAAAAAAAAAAAAAAAADwPwAAAAAAAAAAAAAAAAAA8D8AAAAAAAAAAAAAAAAAABRAAAAAAAAAAAAAAAAAAAAAAAAAAAAAAAAAAAAAAAAAAAAAAAAAAADwPwAAAAAAAAAAAAAAAAAAAAAAAAAAAAAAAAAAAAAAAAAAAAAAAAAAAAAAAAAAAADwPwAAAAAAABBAAAAAAAAAAAAAAAAAAAAAAAAAAAAAAAAAAAAAAAAAFEAAAAAAAAAAAAAAAAAAAAAAAAAAAAAAAAAAAAAAAAAQQAAAAAAAAAAAAAAAAAAAAAAAAAAAAADwPwAAAAAAAPA/AAAAAAAAEEAAAAAAAAAQQAAAAAAAAPA/AAAAAAAA8D8AAAAAAAAAAAAAAAAAAPA/AAAAAAAA8D8AAAAAAADwPwAAAAAAAAAAAAAAAAAAAAAAAAAAAAAAAAAAAAAAAAAAAAAAAAAACEAAAAAAAADwPwAAAAAAAAAAAAAAAAAAAAAAAAAAAAAAAAAAAAAAAPA/AAAAAAAA8D8AAAAAAAAAAAAAAAAAABBAAAAAAAAAAAAAAAAAAADwPwAAAAAAAAAAAAAAAAAAAAAAAAAAAAAAAAAAAAAAAAhAAAAAAAAA8D8AAAAAAADwPwAAAAAAABBAAAAAAAAAAAAAAAAAAAAAAAAAAAAAAAAAAAAAAAAAAAAAAAAAAADwPwAAAAAAABBAAAAAAAAAEEAAAAAAAAAAAAAAAAAAAPh/AAAAAAAAAAAAAAAAAAAQQAAAAAAAAAAAAAAAAAAAAAAAAAAAAAAAAAAAAAAAAAAAAAAAAAAAAAAAAAAAAAAAAAAAAAAAAPA/AAAAAAAAEEAAAAAAAAAQQAAAAAAAAAAAAAAAAAAA8D8AAAAAAAAQQAAAAAAAABBAAAAAAAAAAAAAAAAAAAAAAAAAAAAAAAAAAAAAAAAAAAAAAAAAAADwPwAAAAAAABBAAAAAAAAAAAAAAAAAAAAAAAAAAAAAAAAAAAAAAAAAEEAAAAAAAAAQQAAAAAAAAAAAAAAAAAAAAAAAAAAAAAAQQAAAAAAAAPA/AAAAAAAAAAAAAAAAAAAAAAAAAAAAABBAAAAAAAAAEEAAAAAAAAAAAAAAAAAAABBAAAAAAAAAFEAAAAAAAAAQQAAAAAAAAPA/AAAAAAAAAAAAAAAAAADwPwAAAAAAABBAAAAAAAAA8D8=\",\"dtype\":\"float64\",\"order\":\"little\",\"shape\":[532]},\"CoinName\":[\"EliteCoin\",\"1Credit\",\"404Coin\",\"42 Coin\",\"8BIT Coin\",\"Acute Angle Cloud\",\"Abjcoin\",\"Absolute Coin\",\"ArtByte\",\"AC3\",\"AdCoin\",\"Actinium\",\"Anarchists Prime\",\"Cardano\",\"AudioCoin\",\"Aidos Kuneen\",\"Adzcoin\",\"Alpenschillling\",\"ALAX\",\"ArcticCoin\",\"AquariusCoin\",\"ARENON\",\"Argentum\",\"ArgusCoin\",\"ARK\",\"Allsafe\",\"Atmos\",\"ArtexCoin\",\"Aurora Coin\",\"Award\",\"Axe\",\"Azart\",\"BiblePay\",\"BitConnect Coin\",\"Bitcoin Diamond\",\"BitcoinFast\",\"Bitcoin Cash\",\"ByteCoin\",\"Beldex\",\"Beam\",\"Beetle Coin\",\"BenjiRolls\",\"Bikercoins\",\"Bitcoin Green\",\"BitMoney\",\"BitstarCoin\",\"BLAST\",\"BlakeCoin\",\"BlackholeCoin\",\"BillaryCoin\",\"Block-Logic\",\"BlueCoin\",\"BolivarCoin\",\"Briacoin\",\"BritCoin\",\"BowsCoin\",\"BitSend\",\"Bitcoin SV\",\"Bitspace\",\"Bata\",\"BitBar\",\"Bitcoin\",\"BitcoinDark\",\"BitCurrency\",\"BitcoinZ\",\"Bitcloud 2.0\",\"Bitcoin Gold\",\"Bithereum\",\"Bitrolium\",\"Bitcoin Planet\",\"Bitshares\",\"BitTorrent\",\"Bitcore\",\"Bettex coin\",\"BurstCoin\",\"BuzzCoin\",\"BeaverCoin\",\"Bulwark\",\"BitcoinWSpectrum\",\"BitTokens\",\"Carebit\",\"Catcoin\",\"CryptoBullion\",\"CannaCoin\",\"Canada eCoin\",\"Crypto Escudo\",\"CoffeeCoin\",\"ChanCoin\",\"OpenChat\",\"Crypto Improvement Fund\",\"Clockcoin\",\"Callisto Network\",\" ClubCoin\",\"Cash & Back Coin\",\"BitCoal\",\"Paycon\",\"Circuits of Value\",\"CapriCoin\",\"Creditbit \",\"Credit\",\"Cream\",\"Crown Coin\",\"CrypticCoin\",\"CryptCoin\",\"CasinoCoin\",\"Crypto Sports\",\"CarterCoin\",\"Citadel\",\"Crypto\",\"Coinonat\",\"CypherPunkCoin\",\"DAS\",\"Dash\",\"Dash Platinum\",\"DaxxCoin\",\"DubaiCoin\",\"DubaiCoin\",\"Decred\",\"Dinastycoin\",\"Degas Coin\",\"iDealCash\",\"Deviant Coin\",\"Draftcoin\",\"DigiByte\",\"Digitalcoin \",\"CarpeDiemCoin\",\"Diggits\",\"Dekado\",\"DollarCoin\",\"Diamond\",\"Denarius\",\"DopeCoin\",\"DigitalPrice\",\"Droidz\",\"Dystem\",\"DevCoin\",\"Dynamic\",\"EarthCoin\",\"EB3coin\",\"eBoost\",\"Electra\",\"EDRCoin\",\"E-Gulden\",\"EverGreenCoin\",\"Elementrem\",\"Ellaism\",\"Elements\",\"Ellerium\",\"EmaratCoin\",\"EmberCoin\",\"Emercoin\",\"Einsteinium\",\"Emerald\",\"EnergyCoin\",\"Eternity\",\"EOS\",\"EquiTrader\",\"EuropeCoin\",\"Espers\",\"Ethereum Classic\",\"Ethereum\",\"Ethereum Dark\",\"Eurocoin\",\"EUNO\",\"Exclusive Coin\",\"Exosis\",\"Expanse\",\"FairCoin\",\"FindCoin\",\"Folding Coin\",\"BitFlip\",\"Flo\",\"FlutterCoin\",\"FrazCoin\",\"FreeCoin\",\"FREDEnergy\",\"Franko\",\"Francs\",\"FirstCoin\",\"Frankywillcoin\",\"FriendshipCoin\",\"FeatherCoin\",\"FuturoCoin\",\"GAKHcoin\",\"Galilel\",\"Gamecredits\",\"Gapcoin\",\"GoldBlocks\",\"GoByte\",\"gCn Coin\",\"GrandCoin\",\"Genstake\",\"GermanCoin\",\"Giant\",\"GINcoin\",\"GlobalCoin\",\"GoldCoin\",\"GlobalToken\",\"GanjaCoin V2\",\"GPU Coin\",\"GreenCoin\",\"Groestlcoin\",\"GrowthCoin\",\"GunCoin\",\"Halloween Coin\",\"HoboNickels\",\"HerbCoin\",\"HexCoin\",\"HOdlcoin\",\"HappyCoin\",\"Hitcoin\",\"HTML5 Coin\",\"HollyWoodCoin\",\"HexxCoin\",\"HyperStake\",\"HyperCoin\",\"I0coin\",\"iBankCoin\",\"Ignition\",\"Infinite Coin\",\"ILCoin\",\"Impeach\",\"Independent Money System\",\"Impact\",\"Infinex\",\"Innova\",\"InsaneCoin\",\"Insane Coin\",\"IOCoin\",\"Internet of People\",\"IrishCoin\",\"IslaCoin\",\"Interzone\",\"IXcoin\",\"JoinCoin\",\"Junson Ming Chan Coin\",\"Jumpcoin\",\"Kcash\",\"KEYCO\",\"Klingon Empire Darsek\",\"KekCoin\",\"Ketan\",\"KrugerCoin\",\"KiloCoin\",\"Kalkulus\",\"Komodo\",\"KoboCoin\",\"Kore\",\"Karbo\",\"KREDS\",\"Kronecoin\",\"Kurrent\",\"KushCoin\",\"LanaCoin\",\"Lutetium Coin\",\"LitecoinCash\",\"Litecoin Plus\",\"LiteDoge\",\"Linda\",\"Linx\",\"Let it Ride\",\"Lithium\",\"LuckyCoin\",\"LomoCoin\",\"Loki\",\"LottoCoin\",\"Lisk\",\"Litebar \",\"Litecoin\",\"LiteCreed\",\"LiteCoin Ultra\",\"Lethean\",\"LUXCoin\",\"Lynx\",\"Magnet\",\"MarsCoin \",\"MaxCoin\",\"Theresa May Coin\",\"My Big Coin\",\"MacronCoin\",\"1717 Masonic Commemorative Token\",\"MegaCoin\",\"MediterraneanCoin\",\"MedicCoin\",\"MassGrid\",\"XiaoMiCoin\",\"MinCoin\",\"MintCoin\",\"MMOCoin\",\"MindCoin\",\"MonaCoin\",\"MoneyCoin\",\"Monkey Project\",\"MoonCoin\",\"MasterCoin\",\"MustangCoin\",\"MudraCoin\",\"MUNcoin\",\"Muse\",\"MazaCoin\",\"NamoCoin\",\"Nano\",\"Nautilus Coin\",\"NavCoin\",\"Niobio Cash\",\"Newton Coin\",\"Nebuchadnezzar\",\"NeosCoin\",\"IncaKoin\",\"Gulden\",\"Namecoin\",\"NobleCoin\",\"Dnotes\",\"Nasdacoin\",\"Neutron\",\"Nexus\",\"Nxt\",\"NyanCoin\",\"NewYorkCoin\",\"Zealium\",\"OrangeCoin\",\"Obsidian\",\"OKCash\",\"OmniCron\",\"Omni\",\"DeepOnion\",\"Ontology\",\"Onix\",\"OpalCoin\",\"Orbitcoin\",\"OsmiumCoin\",\"Oduwa\",\"Oxycoin\",\"PacCoin\",\"Pakcoin\",\"Particl\",\"PAXEX\",\"Pioneer Coin\",\"Photon\",\"Phreak\",\"Piggy Coin\",\"PinkCoin\",\"PirateCash\",\"Pirl\",\"PizzaCoin\",\"PLNCoin\",\"PlatinCoin\",\"PluraCoin\",\"PlusOneCoin\",\"PandaCoin\",\"PhantomX\",\"Peony Coin\",\"Poa Network\",\"PopularCoin\",\"Poseidon Quark\",\"PotCoin\",\"Project Pai\",\"ProsperCoin\",\"ProCurrency\",\"Proton\",\"Printerium\",\"PesoBit\",\"Poseidon\",\"PesetaCoin\",\"Pura\",\"Pushi\",\"PutinCoin\",\"PWR Coin\",\"PhoenixCoin\",\"QuarkCoin\",\"Quantum Resistant Ledger\",\"Quatloo\",\"QTUM\",\"Qwertycoin\",\"Radium\",\"Condensate\",\"RubyCoin\",\"Russiacoin\",\"Reality Clash\",\"Reddcoin\",\"Regalcoin\",\"Revenu\",\"Riecoin\",\"RenosCoin\",\"RootCoin\",\"RoyalCoin\",\"RonPaulCoin\",\"Rupee\",\"Revolution VR\",\"Ryo\",\"SafeExchangeCoin\",\"StableCoin\",\"Siacoin\",\"Swiscoin\",\"Semux\",\"Shilling\",\"SibCoin\",\"Swisscoin\",\"Signatum\",\"StorjCoin\",\"SLICE\",\"SolarCoin\",\"SmartCash\",\"SmartCoin\",\"SmileyCoin\",\"SocialCoin\",\"SoilCoin\",\"Sojourn Coin\",\"Song Coin\",\"SoonCoin\",\"Stipend\",\"SparksPay\",\"Spreadcoin\",\"Squall Coin\",\"ShareChain\",\"Stakecoin\",\"Sativa Coin\",\"Sucre\",\"Sumokoin\",\"SuperCoin\",\"SwingCoin\",\"SexCoin\",\"SyncCoin\",\"SysCoin\",\"TajCoin\",\"Lamden Tau\",\"TigerCash\",\"TeamUP\",\"TerraNovaCoin\",\"TeslaCoin\",\"TigerCoin\",\"TittieCoin\",\"Tokyo Coin\",\"TorCoin\",\"TokenPay\",\"TPCash\",\"TerraCoin\",\"Travelflex\",\"Triangles Coin\",\"TruckCoin\",\"Trollcoin\",\"TurtleCoin\",\"Trivechain\",\"ThunderStake\",\"Titan Coin\",\"BitTube\",\"TrezarCoin\",\"Ucoin\",\"UnitedBitcoin\",\"UFO Coin\",\"Unitus\",\"Universal Molecule\",\"UnbreakableCoin\",\"Unify\",\"GameUnits\",\"Unobtanium\",\"Urals Coin\",\"UroCoin\",\"Ultimate Secure Cash\",\"UnitaryStatus Dollar\",\"Unified Society USDEX\",\"UltraCoin\",\"Vechain\",\"ViaCoin\",\"TheVig\",\"VIP Tokens\",\"Vitae\",\"VIVO Coin\",\"VaultCoin\",\"Velox\",\"Vollar\",\"VeriCoin\",\"Vertcoin\",\"Vtorrent\",\"Virta Unique Coin\",\"Digiwage\",\"Waves\",\"Wild Beast Coin\",\"WorldCoin\",\"Webchain\",\"WomenCoin\",\"BitcoinPlus\",\"Bitcoin Incognito\",\"X11 Coin\",\"Xchange\",\"Cannabis Industry Coin\",\"Cryptonite\",\"Crypti\",\"Creatio\",\"CoinonatX\",\"DigitalNote \",\"XDNA\",\"XenixCoin\",\"GoldReserve\",\"HiCoin\",\"Infinity Economics\",\"Xios\",\"JouleCoin\",\"LeviarCoin\",\"Monero Classic\",\"Monoeci\",\"Motion\",\"Monero\",\"MyriadCoin\",\"Enigma\",\"Opair\",\"PayCoin\",\"Ratecoin\",\"Bitcoin Rhodium\",\"SHIELD\",\"Stakenet\",\"StealthCoin\",\"Xt3ch\",\"UltraNote\",\"Verge\",\"VirtacoinPlus\",\"WhiteCoin\",\"ZCoin\",\"YoCoin\",\"Zilbercoin\",\"ZCC Coin\",\"ZClassic\",\"ZCash\",\"ZeitCoin\",\"Horizen\",\"ZEPHYR\",\"Zero\",\"ZetaCoin\",\"ZoneCoin\",\"BitZeny\",\"Zoin\",\"ZayedCoin\"],\"ProofType\":[\"PoW/PoS\",\"PoW\",\"PoW/PoS\",\"PoW/PoS\",\"PoW/PoS\",\"DPOS\",\"PoW/PoS\",\"PoW/PoS\",\"PoW\",\"PoW\",\"PoW\",\"PoW\",\"PoW\",\"PoS\",\"PoW/PoS\",\"PoW\",\"PoW\",\"PoW\",\"DPoS\",\"PoW\",\"PoW/PoS\",\"PoS\",\"PoW\",\"PoW/PoS\",\"DPoS\",\"PoS\",\"PoS\",\"PoW\",\"PoW/PoS\",\"PoW/PoS\",\"PoW\",\"PoW\",\"POBh\",\"PoW/PoS\",\"PoW/PoS\",\"PoW/PoS\",\"PoW\",\"PoW\",\"PoW\",\"PoW\",\"PoW/PoS\",\"PoW\",\"PoW\",\"PoS\",\"Pos\",\"PoW/PoS\",\"PoW\",\"PoW\",\"PoW/PoS\",\"PoW/PoS\",\"PoW\",\"PoW/PoS\",\"PoW\",\"PoW/PoS\",\"PoW/PoS\",\"PoW\",\"PoW/PoS\",\"PoW\",\"PoW/PoS\",\"PoW\",\"PoW/PoS\",\"PoW\",\"PoW/PoS\",\"PoS\",\"PoW\",\"PoW/PoS\",\"PoW\",\"PoW\",\"PoW\",\"PoW/PoS\",\"PoS\",\"DPoS\",\"PoW\",\"PoS\",\"PoC\",\"PoW/PoS\",\"PoW\",\"PoS\",\"PoS\",\"PoW/PoS\",\"PoW/PoS\",\"PoW\",\"PoW/PoS\",\"PoW\",\"PoW\",\"PoW\",\"PoS\",\"PoW\",\"PoW/PoS\",\"PoW\",\"PoW/PoS\",\"PoW\",\"PoW/PoS\",\"PoW/PoS\",\"PoW\",\"PoW/PoS\",\"PoW\",\"PoW/PoS\",\"Proof of Trust\",\"PoW/PoS\",\"PoW/PoS\",\"PoW\",\"PoW\",\"PoW\",\"PoC\",\"PoS\",\"PoW/PoS\",\"PoW\",\"PoW\",\"PoW\",\"PoW\",\"PoW\",\"PoW/PoS\",\"PoS\",\"PoW\",\"PoW/PoS\",\"PoW\",\"PoW/PoS\",\"PoW\",\"PoW/PoS\",\"PoW/PoS\",\"PoS\",\"PoS\",\"PoW\",\"PoW\",\"PoW\",\"PoS\",\"PoS\",\"PoW\",\"PoW/PoS\",\"PoW/PoS\",\"PoW\",\"PoW\",\"PoW/PoS\",\"PoS\",\"PoW\",\"PoW\",\"PoW\",\"PoW\",\"PoW\",\"PoW/PoS\",\"PoW/PoS\",\"PoW\",\"PoW/PoS\",\"PoW\",\"PoW\",\"PoW\",\"PoW/PoS\",\"PoW/PoS\",\"PoW/PoS\",\"PoW/PoS\",\"PoW\",\"PoW\",\"PoW/PoS\",\"PoW/PoS\",\"DPoS\",\"PoW\",\"PoW/PoS\",\"PoW/PoS\",\"PoW\",\"PoW\",\"PoW/PoS\",\"PoW/PoS\",\"PoW/PoS\",\"PoS\",\"PoW\",\"PoW\",\"PoW/PoS\",\"PoS\",\"PoW\",\"PoW\",\"PoW\",\"PoS/PoW/PoT\",\"PoW\",\"PoS\",\"PoW\",\"PoW\",\"PoW\",\"PoW/PoS \",\"PoW/PoS\",\"PoW/PoS\",\"PoW\",\"PoW\",\"PoW/PoS\",\"PoW/PoS\",\"PoW\",\"PoW/PoS\",\"PoW/PoS\",\"PoW\",\"PoW\",\"PoW\",\"PoW/PoS\",\"PoW/PoS\",\"PoW/PoS\",\"PoW\",\"PoW\",\"PoW\",\"PoW\",\"PoW/PoS\",\"PoS\",\"PoW\",\"PoW\",\"PoS\",\"PoW\",\"PoW/PoS\",\"PoW/PoS\",\"PoW/PoS\",\"PoW\",\"PoW\",\"PoW/PoS\",\"PoW/PoS\",\"PoW/PoS\",\"PoS\",\"PoW\",\"PoS\",\"PoW/PoS\",\"PoW\",\"PoW/PoS\",\"PoW/PoS\",\"PoW\",\"PoW\",\"PoW/PoS\",\"PoW/PoS\",\"PoW/PoS\",\"PoW\",\"PoW\",\"PoW/PoS\",\"PoW/PoS\",\"PoW/PoS\",\"PoW/PoS\",\"PoW\",\"PoW/PoS\",\"PoW\",\"PoW\",\"PoW\",\"PoS\",\"PoW\",\"Zero-Knowledge Proof\",\"PoW\",\"PoW/PoS\",\"PoS\",\"PoS\",\"PoW\",\"PoW\",\"PoS\",\"dPoW/PoW\",\"PoW/PoS\",\"PoW/PoS\",\"PoW\",\"PoW\",\"PoW\",\"PoW\",\"PoW/PoS\",\"PoW/PoS\",\"PoS\",\"PoW + Hive\",\"PoW/PoS\",\"PoW/PoS\",\"PoW/PoS\",\"PoW\",\"PoS\",\"PoW\",\"PoW\",\"PoW/PoS\",\"PoW\",\"PoW\",\"DPoS\",\"PoW\",\"PoW\",\"PoW/PoS\",\"PoW/PoS\",\"PoW\",\"PoW/PoS\",\"HPoW\",\"PoW/PoS\",\"PoW\",\"PoW/PoS\",\"PoW/PoS\",\"PoW and PoS\",\"PoS\",\"PoS\",\"PoW\",\"PoW\",\"PoS\",\"PoW\",\"PoW/PoS\",\"PoW\",\"PoS\",\"PoS\",\"PoW\",\"PoW\",\"PoW/PoS\",\"PoS\",\"PoW\",\"PoW\",\"PoW/PoS\",\"PoS\",\"PoW\",\"PoS\",\"PoW/PoS\",\"PoW/PoS\",\"PoW\",\"PoS\",\"PoW/PoS\",\"PoW\",\"PoW\",\"PoS\",\"PoS\",\"PoW/PoS\",\"PoW\",\"PoW\",\"PoW\",\"PoS\",\"PoW/PoS\",\"PoW/PoS\",\"PoW/nPoS\",\"PoS/LPoS\",\"PoW\",\"PoW\",\"PoS\",\"PoW/PoS\",\"PoS\",\"PoW/PoS\",\"PoW\",\"PoW\",\"PoW/PoS\",\"PoS\",\"PoW\",\"PoW/PoS\",\"PoW/PoS\",\"PoW\",\"PoW/PoS\",\"DPoS\",\"PoW\",\"PoW\",\"PoS\",\"PoS\",\"PoW\",\"PoW\",\"PoS\",\"PoW/PoS\",\"PoW/PoS\",\"PoS\",\"PoW\",\"PoW\",\"PoW/PoS\",\"PoW\",\"PoW\",\"PoW\",\"PoS\",\"PoW/PoS\",\"PoS\",\"PoA\",\"PoW\",\"PoS\",\"PoW/PoS\",\"PoW\",\"PoW\",\"PoS\",\"PoS\",\"PoW/PoS\",\"PoW/PoS\",\"PoW\",\"PoW\",\"PoW\",\"PoW/PoS\",\"PoW/PoS\",\"PoW/PoS\",\"PoW/PoS\",\"PoW\",\"PoW\",\"PoW\",\"PoS\",\"PoW\",\"PoS\",\"PoW/PoS\",\"PoS\",\"PoW/PoS\",\"PoW\",\"PoW/PoS\",\"PoW/PoS\",\"PoW/PoS\",\"PoW\",\"PoS\",\"PoW/PoS\",\"PoS\",\"PoW\",\"PoS\",\"PoW\",\"PoW\",\"PoC\",\"PoW\",\"PoW\",\"PoW/PoW\",\"DPoS\",\"PoW\",\"PoW\",\"PoW/PoS\",\"PoS\",\"PoS\",\"PoW\",\"PoW\",\"PoW\",\"PoW\",\"PoW\",\"PoW\",\"PoW\",\"PoW\",\"PoW\",\"PoW\",\"PoW/PoS\",\"PoW\",\"PoW\",\"PoS/PoW\",\"PoW\",\"PoS\",\"PoW/PoS\",\"PoW\",\"PoW\",\"PoS\",\"PoW/PoS\",\"PoW\",\"PoW/PoS\",\"PoW\",\"PoW/PoS\",\"DPoS\",\"PoS\",\"PoS\",\"PoW/PoS\",\"PoS\",\"PoW\",\"PoS\",\"PoS\",\"PoW/PoS\",\"PoS\",\"PoW/PoS\",\"PoW\",\"PoW\",\"PoW/PoS\",\"PoW/PoS\",\"PoW/PoS\",\"PoW\",\"PoW/PoS\",\"PoW/PoS\",\"PoW/PoS\",\"PoW\",\"PoW/PoS\",\"PoS\",\"PoW\",\"PoW\",\"PoW\",\"PoW\",\"PoW\",\"PoW\",\"PoW/PoS\",\"PoW\",\"PoW\",\"PoW\",\"PoS\",\"PoW/PoS\",\"PoW/PoS\",\"PoW/PoS\",\"Proof of Authority\",\"PoW\",\"PoW/PoS\",\"PoW/PoS\",\"PoS\",\"PoW\",\"PoW\",\"PoS\",\"PoW\",\"PoST\",\"PoW\",\"PoW/PoS\",\"PoW/PoS\",\"PoS\",\"LPoS\",\"PoW\",\"PoW\",\"PoW\",\"PoW/PoS\",\"PoS\",\"PoS/PoW\",\"PoW/PoS\",\"PoW\",\"PoW\",\"PoW\",\"PoS\",\"nan\",\"PoW/PoS\",\"PoW\",\"PoW/PoS\",\"PoW/PoS\",\"PoW/PoS\",\"PoS\",\"PoS\",\"PoW/PoS\",\"PoW\",\"PoW\",\"PoW\",\"PoW/PoS\",\"PoW\",\"PoW\",\"PoW\",\"PoW/PoS\",\"PoS\",\"PoS\",\"PoW/PoS\",\"PoW\",\"PoW\",\"TPoS\",\"PoW/PoS\",\"PoS\",\"PoW\",\"PoW\",\"PoW/PoS\",\"PoW/PoS\",\"PoW\",\"PoW\",\"PoS\",\"PoW/PoS\",\"PoW\",\"PoW\",\"PoS\",\"PoW\",\"DPoS\",\"PoW\",\"PoW\",\"PoW/PoS\",\"PoW\",\"PoW\",\"PoW\"],\"TotalCoinSupply\":{\"__ndarray__\":\"AMCTfVZJUkIAAACYoGs1QgAAAACttb9BAAAAAAAARUAAAAAAAAAAAAAAAABlzc1BAAAAADicfEEAAAAAsQiJQQAAAABlzc1BAAAAwCpkwEEAAAAAhNeXQQAAAAD0BpRBAAAAAICiiUEAAAAEa/QkQgAAAEjKjgNCAAAAAITXd0EAAAAA9AaUQQAAAACj4bFBAAAAAGXNzUEAAAAAOJyMQQAAAAD0BoRBAAAAAN45ikEAAAAAgISOQQAAAABsRntBAAAAAGXNnUEAAAAAOJxsQQAAALiRS5pBAAAAAGXNvUEAAAAAyftvQQAAAACxCLlBAAAAAPQGdEEAAAAAhNd3QQAAAEAbX/NBAAAAAPCzekEAAAAAsQipQQAAAACkeH9BAAAAAPQGdEEAgC/ijnlFQgAAgORs3dRBAAAAAAVUr0EAAAAAZc29QQAAAID874BBAAAAAITXd0EAAAAA9AZ0QQAAADxTTDBCAAAAuA/fiUEAAAAAgISOQQAAAGC4E/pBokW2f9Y0bEEAAAAA9AaEQQAAAAA4nJxBAAAAAAAAAAAAAAAAhNd3QQAAAABg40ZBAAAAADicfEEAAAAA9AZ0QQAAAIDxkaBBAAAAAPQGdEEAAAAAhNeHQQAAAADQElNBAAAAAICEHkEAAAAA9AZ0QQAAAAAY+3RBAAAAAAAAAAAAAABIyo4TQgAAAACE16dBAAAAAPQGdEEAAAAAh3R9QQAAAAB2sJBBAAAAAITXl0EAAMAQi9PqQQAAgCUT0GxCAAAAAPQGdEEAAAAAhNeHQQAAANCbFeBBAAAAIF+gEkIAAAAAgKJJQQAAAJChbnpBAAAA9ITnl0EAAAAA9AZ0QQAAAACE16dBAAAAAPQGdEEAAAAAgIQuQQAAAAAEEGlBAAAAAITXl0EAAAAAZc3NQQAAANDMEoNBAAAAADicfEEAAAAAZc3NQQAAAABlzb1BAAAAQN1Kv0EAAAAQ4jb4QQAAAADQEqNBAAAAALEIqUEAAAAAhNdnQQAAAACE14dBAAAAAKPh0UEAAAAAqMuoQQAAAKDBem9BAAAAbG1qMUIAAAAAhNeXQQAAAAD0BoRBAAAAwOxP/EEAAAAAiCpxQQAAACBfoCJCAAAAAFKAaUEAAAAAKnWVQQAAAIDADaZBAAAAYOVej0EAAAAAIwKHQQAAAAAAAAAAAAAAAEIGckEAAAAAGPt0QQAAAACSyXJBAAAAIF+gAkIAAAAA9AZkQQAAAIAiCUFBAAAAAPQGdEEAAAAAZc3dQQAAAACxCJlBAABAX6wU80EAAAAAGPuUQRc0JzN8mXBBAAAASMqOE0IAAACAo/eGQQAAAGEbJBRCAAAAAITXl0EAAAAAKnWVQQAAAEB7SmRBAAAAAFi1UEEAAAAA0BJjQQAAAACE16dBAAAAAITXl0EAAAAAaE1TQQAAAAD0BnRBAAAASMqOE0IAAAAAAAAAAAAAADhNJQlCAAAAAGXN7UEAAAAAhNeXQQAAALCO8BtCAAAAABj7dEEAAAAA9AZ0QQAAAABpFHlBAAAAMNb9eEEAAAAAdrCwQQAAAIB00tpBAAAAADicjEEAAAAA9AaUQQAAAED8VMlBAAAAAGXNzUEAAABKeN6xQQAAAACAhH5BAAAAAAAAAAAAAAAAOJyMQQAAAAAAAAAAAAAAAIgqkUEAAAAAYOO2QQAAAOh2SCdCAAAAALEIqUEAAAAAAAAAAAAAAACQBVBBAAAAANASc0EAAAAAhNeHQQAAAAAAAAAAAAAAAPQGdEEAAADQiR9wQQAAAAAAAAAARUdybza0a0EAAAAAZc3NQQAAAADQEoNBAAAAANASo0EAAAAAAAAAAAAAAADQEnNBAAAAAITXh0EAAABAsBn+QQAAAKA8bmVBAAAAANASc0EAAAAA3jmaQQAAAACE15dBAAAAiL6wjEEAAAAA9Aa0QQAAAACE15dBAAAAgCZMSUEAAADwdSdyQQAAAAD0BpRBAAAAAGXNrUEAAAAAhNeHQQAAAACsU35BAAAA6HZIR0IAAIATMivVQQAAAAA4nGxBAAAA6HZIJ0IAAAAARqZTQQAAAAD0BmRBAAAAAHawkEEAAAAQhzmRQQAAAAD0BqRBAAAAAITXl0EAAACw/VmqQQAAACBfoAJCAAAAALEImUEAAAAAZc3dQQAAAABlzb1BAAAAwAta1kEAAAAAOJycQQAAAADMv4lBAAAA8MoUdUEAAADQkYqTQQAAAACE15dBAAAAZgO6GEIAAAAEa/Q0QgAAAACoy3hBAAAA4M8SY0EAAAAAAAAAAAAAAAAAAAAAAAAAAPQGdEEAAACoyCOFQQAAAADQElNBAAAASi4YNUIAAAAgX6DiQQAAAFDR6nRBAAAAkL06dEEAAAAA3jmaQQAAAAAEEHlBAAAAACp1hUEAAAAAOJx8QQAAAAA4nHxBAAAAABj7dEEAAAAA9AZ0QQAAAACAhI5BAAAAAAAAAAAAAAAAPO91QQAAAAD0BnRBAAAAAMBcRUEAAAAAAAAAAAAAAAD0BnRBAAAAAGXNzUEAAAAAiCpxQQAAAABlzb1BAAAAAPQGdEEAAAAAsQipQQAAAAAApK9BAAAAIF+gAkIAAAAA0BJzQQAAAACE16dBAAAAgJPctEEAAAAAYONmQQAAAADQEmNBAAAAwCpk0EEAAAAA9AaUQQAAAAACLqtBAAAAAGLXYUEAAACIR/b7QQAAACCDlMNBAAAAALEIyUEAAAAAgIROQQAAADxTTCBCAAAA6HZIJ0IAAAAAhNeXQQAAAAC28n9BAAAAAGAPeEEAAAAA0BJzQQAAAABlzc1BAAAAAKPhoUEAAADkkCQRQgAAAIBSEKNBAAAAAHCZNEEAAAAA9AaUQQAAAAC4y5JBAAAAAKPhoUEAAABWcMnNQQAAAAA4nIxBAAAAmKBrNUIAAAAAiCqhQQAAAACkeH9BAAAAAITXl0EAAAAAhNeXQQAAAAA4nHxBAAAAAITXt0EAAAAAcbA4QQAAAAD0BoRBAAAAAITXp0EAAAAAZc29QQAAAAD0BqRBAAAAAITXt0EAAAAA0BJjQQAAAAAAAAAAAAAAAJL+rkEAAAAAgIRuQQAAAAAEEJlBAACA/CNkw0EAAAAA9AZ0QQAAAMALWlZCAAAAAKznIkEAAAAAYONGQQAAAACE16dBAAAAAHipb0EAAADggD5xQQAAAABCBuJBAAAAAKPh0UEAAAD/S0i0QQAAAABk3G5BAAAAAAAAAAAAAAAA9Aa0QQAAAJiga0VCAAAAANASc0EAAAAA9AZ0QQAAAABXpqZBAAAAALEI2UEAAAAA9AZ0QQAAALCO8AtCAAAAAGXNvUEAAAAA9AaUQQAAAABkNpBBAAAAAL6YkkEAAAAAZc3NQQAAAEA2FrRBAAAAAAAAAAAAAAAA0BKTQQAAAACE16dBAAAASPDJlUEAAAAAsQiZQQAAAICkuElBAAAAAADQIkH5T/K50AVyQQAAAABlzc1BAAAAwCpk0EEAAAAAAAAAAAAAAABIw0xBAAAAAFe1REEAAAAA9AZ0QQAAAAAAAAAAAAAA6HZIN0IAAAAAM7KlQQAAAIDjd2BBAAAAAITXl0EAAAAAPO91QQAAAARr9DRCAAAAADicfEEAAAAAZc3NQQAAAABlzb1BAAAAALEImUEfhWtZGqKiQQAAAACE13dBAAAAAJdggkEAAAADpOHBQQAAAABlzc1BAAAAAPQGdEEAAIgIKUgeQgAAAACE14dBAAAA4AJxD0IAAAAAfhiuQQAA8B9foPJBAAAAQBtfw0EAAAAAsQi5QQAAAEDdSt9BAAAAAPQGdEEAAAAuWXYxQgAAAAAqdYVBAAAAANASc0EAAAAAAAAAAAAAAAD0BnRBAAAAoLLVo0EAAACAk9y0QQAAAACE13dBAAAAAGXN3UEAAAAAAAAAAAAAAAByXZdBAAAAgNdxrUEAAAAAsQiZQQAAAACE15dBAAAAAITXl0EAAMBoonlFQgAAAACIKmFBAAAAAGXNvUEAAAAAAAAAAAAAAACIKqFBAAAAgIBad0EAAAAAAAAAAAAAAADMv3lBAAAAEAeNqkEAAAAA9AaUQQAAALhxaoBBAAAAAAAAAAAAAAAADhNDQQAAAAD0BnRBAAAAAGDjdkEAAAAAsQipQQAAAGCfBpVBAADA////30EAAAAAZc2tQQAAAAAAAAAAAAAA4McY50EAAAAAhNeXQQAAAAA4nHxBAAAAAGDjdkEAAAAwvf8CQgAAAMAqZKBBAAAAAGXNvUEAAAAAhNeXQQAAADU31zZCAAAAIF+g8kEAAAAAAGqIQQAAAOh2SCdCAAAAAKPhkUEAAAAAOJx8QQAAAEjKjgNCAAAAAAQQqUEAAAAA9AZ0QQAAACDTcXJBAAAAAPQGdEEAAAAA0BJzQQAAAAAAAAAAAAAAIF+gAkIAAADohl+NQQAAAADQEmNBAAAAAPzhckEAAADgWDGVQQAAAAAAAAAAAAAAANASg0EAAAAAZc2tQQAAAAAAQI9AAAAAAOd2ykEAAAAAZZiBQQAAAABlzb1BAAAAAGXNzUEAAABA5fCxQQAAAKBKAm5BAAAAAITXl0EAAAAAxGqGQQAAAODmIuFBAAAAAITXx0EAAAAA0BJjQQAAAACE13dBAAAAAGXNzUEAAAAA9AaEQQAAAACE15dBAAAAAABM/UAAAAAAAAAAAAAAAIB00spBAAAAopQabUIAAAAQPq6TQQAAANCIwxBCAAAAIF+g8kEAAAAAZc3NQQAAAACE17dBAAAAANASc0EAAAAAVztzQQAAAABlze1BAAAAAAAAAABcj8IFBBCZQQAAAADQEpNBAAAAAEBickEAAAAAqMtoQQAAAACAhA5BAAAAALEIqUEAAAAAAAAAAAAAANAV2qdBAAAAAITX10EAAAAAFKirQQAAAACE15dBAABizHkwNEIAAAAAPO91QQAAAACE15dBAAAAACp1lUEAAAAAhNeXQQAAAADMv3lBAAAAAGXNzUEAAAAAXJCdQQAAAEDdSt9BAAAAAAAAAAAAAAAA9AaUQQAAAADQEnNBAAAAADicnEEAAAAAOJycQQAAAACE15dBAAAAANAMREEAAAAAAKSvQQAAAGC4E9pBAAAA6HZIF0IAAAAAgIQuQQAAAAD0BnRBAAAAABj7VEEAAAAAhNeXQQAAAAD0BnRBAAAAAAtr20EAAAAAAAAAAAAAAAAAAPh/AAAAACMCh0EAAAAgX6ACQgAAAIC30LVB9SF3YwdmTUEAAAAA0BKDQQAAmLGVpAJCAAAA0IjDAEIAAAAA9AZ0QQAAAAAqdYVBAAAAAMy/iUEAAAAAMIxxQQAAAOA4ImJBAAAAQJMNdUEAAAAAAAAAAAAAAABlzd1BAAAAANASU0EAAAAAmqSRQQAAAACE12dBAAAAAKPhkUEAAAAAkAVAQQAAAIBmq8NBAAAAgDA9kkEAAAAAAAAAAAAAAAAY+4RBAAAAEmXKM0IAAAAGCtYOQgAAAACE15dBAAAAAKPhsUEAAAAAnGh0QQAAAIisEaRBAAAAAN45ikEAAAAAZc3NQQAAAAD0BnRBAAAAAPQGdEEAAAAe3Aw3QgAAAAD0BnRBAAAAAGXN3UEAAAAAZDZwQQAAAAjAPaRBAAAAAPQGdEEAAAAAZc2tQQAAAAD0BnRBAAAAAOiRYkE=\",\"dtype\":\"float64\",\"order\":\"little\",\"shape\":[532]},\"TotalCoinsMined\":{\"__ndarray__\":\"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\",\"dtype\":\"float64\",\"order\":\"little\",\"shape\":[532]}},\"selected\":{\"id\":\"1310\"},\"selection_policy\":{\"id\":\"1344\"}},\"id\":\"1309\",\"type\":\"ColumnDataSource\"},{\"attributes\":{},\"id\":\"1317\",\"type\":\"StringEditor\"},{\"attributes\":{\"format\":\"0,0.0[00000]\"},\"id\":\"1331\",\"type\":\"NumberFormatter\"},{\"attributes\":{\"editor\":{\"id\":\"1317\"},\"field\":\"Algorithm\",\"formatter\":{\"id\":\"1316\"},\"title\":\"Algorithm\"},\"id\":\"1318\",\"type\":\"TableColumn\"},{\"attributes\":{\"editor\":{\"id\":\"1327\"},\"field\":\"TotalCoinSupply\",\"formatter\":{\"id\":\"1326\"},\"title\":\"TotalCoinSupply\"},\"id\":\"1328\",\"type\":\"TableColumn\"},{\"attributes\":{},\"id\":\"1332\",\"type\":\"NumberEditor\"},{\"attributes\":{},\"id\":\"1321\",\"type\":\"StringFormatter\"},{\"attributes\":{\"source\":{\"id\":\"1309\"}},\"id\":\"1342\",\"type\":\"CDSView\"},{\"attributes\":{\"editor\":{\"id\":\"1337\"},\"field\":\"Class\",\"formatter\":{\"id\":\"1336\"},\"title\":\"Class\"},\"id\":\"1338\",\"type\":\"TableColumn\"},{\"attributes\":{\"margin\":[5,5,5,5],\"name\":\"HSpacer02216\",\"sizing_mode\":\"stretch_width\"},\"id\":\"1347\",\"type\":\"Spacer\"},{\"attributes\":{},\"id\":\"1322\",\"type\":\"StringEditor\"},{\"attributes\":{\"columns\":[{\"id\":\"1313\"},{\"id\":\"1318\"},{\"id\":\"1323\"},{\"id\":\"1328\"},{\"id\":\"1333\"},{\"id\":\"1338\"}],\"height\":300,\"reorderable\":false,\"source\":{\"id\":\"1309\"},\"view\":{\"id\":\"1342\"},\"width\":700},\"id\":\"1341\",\"type\":\"DataTable\"},{\"attributes\":{\"editor\":{\"id\":\"1322\"},\"field\":\"ProofType\",\"formatter\":{\"id\":\"1321\"},\"title\":\"ProofType\"},\"id\":\"1323\",\"type\":\"TableColumn\"},{\"attributes\":{\"editor\":{\"id\":\"1332\"},\"field\":\"TotalCoinsMined\",\"formatter\":{\"id\":\"1331\"},\"title\":\"TotalCoinsMined\"},\"id\":\"1333\",\"type\":\"TableColumn\"},{\"attributes\":{\"children\":[{\"id\":\"1308\"},{\"id\":\"1341\"},{\"id\":\"1347\"}],\"margin\":[0,0,0,0],\"name\":\"Row02211\",\"tags\":[\"embedded\"]},\"id\":\"1307\",\"type\":\"Row\"},{\"attributes\":{\"format\":\"0,0.0[00000]\"},\"id\":\"1326\",\"type\":\"NumberFormatter\"},{\"attributes\":{},\"id\":\"1311\",\"type\":\"StringFormatter\"},{\"attributes\":{\"format\":\"0,0.0[00000]\"},\"id\":\"1336\",\"type\":\"NumberFormatter\"},{\"attributes\":{},\"id\":\"1312\",\"type\":\"StringEditor\"},{\"attributes\":{},\"id\":\"1310\",\"type\":\"Selection\"},{\"attributes\":{},\"id\":\"1327\",\"type\":\"NumberEditor\"},{\"attributes\":{\"margin\":[5,5,5,5],\"name\":\"HSpacer02215\",\"sizing_mode\":\"stretch_width\"},\"id\":\"1308\",\"type\":\"Spacer\"}],\"root_ids\":[\"1307\"]},\"title\":\"Bokeh Application\",\"version\":\"2.1.1\"}};\n",
       "  var render_items = [{\"docid\":\"ea1452f7-17d9-4987-b7c1-202f8b40244b\",\"root_ids\":[\"1307\"],\"roots\":{\"1307\":\"5dc66210-828a-4745-8ebe-88a557d3ff5c\"}}];\n",
       "  root.Bokeh.embed.embed_items_notebook(docs_json, render_items);\n",
       "  }\n",
       "if (root.Bokeh !== undefined) {\n",
       "    embed_document(root);\n",
       "  } else {\n",
       "    var attempts = 0;\n",
       "    var timer = setInterval(function(root) {\n",
       "      if (root.Bokeh !== undefined) {\n",
       "        clearInterval(timer);\n",
       "        embed_document(root);\n",
       "      } else if (document.readyState == \"complete\") {\n",
       "        attempts++;\n",
       "        if (attempts > 100) {\n",
       "          clearInterval(timer);\n",
       "          console.log(\"Bokeh: ERROR: Unable to run BokehJS code because BokehJS library is missing\");\n",
       "        }\n",
       "      }\n",
       "    }, 10, root)\n",
       "  }\n",
       "})(window);</script>"
      ],
      "text/plain": [
       ":Table   [CoinName,Algorithm,ProofType,TotalCoinSupply,TotalCoinsMined,Class]"
      ]
     },
     "execution_count": 57,
     "metadata": {
      "application/vnd.holoviews_exec.v0+json": {
       "id": "1307"
      }
     },
     "output_type": "execute_result"
    }
   ],
   "source": [
    "# Table with tradable cryptos\n",
    "table = clustered_df.hvplot.table(columns=['CoinName', 'Algorithm', 'ProofType', 'TotalCoinSupply', 'TotalCoinsMined', 'Class'])\n",
    "\n",
    "table"
   ]
  },
  {
   "cell_type": "code",
   "execution_count": null,
   "metadata": {},
   "outputs": [],
   "source": [
    "# Print the total number of tradable cryptocurrencies\n"
   ]
  },
  {
   "cell_type": "markdown",
   "metadata": {},
   "source": [
    "#### Scatter Plot with Tradable Cryptocurrencies"
   ]
  },
  {
   "cell_type": "code",
   "execution_count": 60,
   "metadata": {},
   "outputs": [
    {
     "ename": "ValueError",
     "evalue": "could not convert string to float: 'EliteCoin'",
     "output_type": "error",
     "traceback": [
      "\u001b[0;31m---------------------------------------------------------------------------\u001b[0m",
      "\u001b[0;31mValueError\u001b[0m                                Traceback (most recent call last)",
      "\u001b[0;32m<ipython-input-60-9b8264973067>\u001b[0m in \u001b[0;36m<module>\u001b[0;34m\u001b[0m\n\u001b[1;32m      1\u001b[0m \u001b[0;31m# Scale data to create the scatter plot\u001b[0m\u001b[0;34m\u001b[0m\u001b[0;34m\u001b[0m\u001b[0;34m\u001b[0m\u001b[0m\n\u001b[0;32m----> 2\u001b[0;31m \u001b[0mclustered_scaled\u001b[0m \u001b[0;34m=\u001b[0m \u001b[0mStandardScaler\u001b[0m\u001b[0;34m(\u001b[0m\u001b[0;34m)\u001b[0m\u001b[0;34m.\u001b[0m\u001b[0mfit_transform\u001b[0m\u001b[0;34m(\u001b[0m\u001b[0mclustered_df\u001b[0m\u001b[0;34m)\u001b[0m\u001b[0;34m\u001b[0m\u001b[0;34m\u001b[0m\u001b[0m\n\u001b[0m",
      "\u001b[0;32m/opt/anaconda3/envs/dev/lib/python3.7/site-packages/sklearn/base.py\u001b[0m in \u001b[0;36mfit_transform\u001b[0;34m(self, X, y, **fit_params)\u001b[0m\n\u001b[1;32m    688\u001b[0m         \u001b[0;32mif\u001b[0m \u001b[0my\u001b[0m \u001b[0;32mis\u001b[0m \u001b[0;32mNone\u001b[0m\u001b[0;34m:\u001b[0m\u001b[0;34m\u001b[0m\u001b[0;34m\u001b[0m\u001b[0m\n\u001b[1;32m    689\u001b[0m             \u001b[0;31m# fit method of arity 1 (unsupervised transformation)\u001b[0m\u001b[0;34m\u001b[0m\u001b[0;34m\u001b[0m\u001b[0;34m\u001b[0m\u001b[0m\n\u001b[0;32m--> 690\u001b[0;31m             \u001b[0;32mreturn\u001b[0m \u001b[0mself\u001b[0m\u001b[0;34m.\u001b[0m\u001b[0mfit\u001b[0m\u001b[0;34m(\u001b[0m\u001b[0mX\u001b[0m\u001b[0;34m,\u001b[0m \u001b[0;34m**\u001b[0m\u001b[0mfit_params\u001b[0m\u001b[0;34m)\u001b[0m\u001b[0;34m.\u001b[0m\u001b[0mtransform\u001b[0m\u001b[0;34m(\u001b[0m\u001b[0mX\u001b[0m\u001b[0;34m)\u001b[0m\u001b[0;34m\u001b[0m\u001b[0;34m\u001b[0m\u001b[0m\n\u001b[0m\u001b[1;32m    691\u001b[0m         \u001b[0;32melse\u001b[0m\u001b[0;34m:\u001b[0m\u001b[0;34m\u001b[0m\u001b[0;34m\u001b[0m\u001b[0m\n\u001b[1;32m    692\u001b[0m             \u001b[0;31m# fit method of arity 2 (supervised transformation)\u001b[0m\u001b[0;34m\u001b[0m\u001b[0;34m\u001b[0m\u001b[0;34m\u001b[0m\u001b[0m\n",
      "\u001b[0;32m/opt/anaconda3/envs/dev/lib/python3.7/site-packages/sklearn/preprocessing/_data.py\u001b[0m in \u001b[0;36mfit\u001b[0;34m(self, X, y)\u001b[0m\n\u001b[1;32m    665\u001b[0m         \u001b[0;31m# Reset internal state before fitting\u001b[0m\u001b[0;34m\u001b[0m\u001b[0;34m\u001b[0m\u001b[0;34m\u001b[0m\u001b[0m\n\u001b[1;32m    666\u001b[0m         \u001b[0mself\u001b[0m\u001b[0;34m.\u001b[0m\u001b[0m_reset\u001b[0m\u001b[0;34m(\u001b[0m\u001b[0;34m)\u001b[0m\u001b[0;34m\u001b[0m\u001b[0;34m\u001b[0m\u001b[0m\n\u001b[0;32m--> 667\u001b[0;31m         \u001b[0;32mreturn\u001b[0m \u001b[0mself\u001b[0m\u001b[0;34m.\u001b[0m\u001b[0mpartial_fit\u001b[0m\u001b[0;34m(\u001b[0m\u001b[0mX\u001b[0m\u001b[0;34m,\u001b[0m \u001b[0my\u001b[0m\u001b[0;34m)\u001b[0m\u001b[0;34m\u001b[0m\u001b[0;34m\u001b[0m\u001b[0m\n\u001b[0m\u001b[1;32m    668\u001b[0m \u001b[0;34m\u001b[0m\u001b[0m\n\u001b[1;32m    669\u001b[0m     \u001b[0;32mdef\u001b[0m \u001b[0mpartial_fit\u001b[0m\u001b[0;34m(\u001b[0m\u001b[0mself\u001b[0m\u001b[0;34m,\u001b[0m \u001b[0mX\u001b[0m\u001b[0;34m,\u001b[0m \u001b[0my\u001b[0m\u001b[0;34m=\u001b[0m\u001b[0;32mNone\u001b[0m\u001b[0;34m)\u001b[0m\u001b[0;34m:\u001b[0m\u001b[0;34m\u001b[0m\u001b[0;34m\u001b[0m\u001b[0m\n",
      "\u001b[0;32m/opt/anaconda3/envs/dev/lib/python3.7/site-packages/sklearn/preprocessing/_data.py\u001b[0m in \u001b[0;36mpartial_fit\u001b[0;34m(self, X, y)\u001b[0m\n\u001b[1;32m    696\u001b[0m         X = self._validate_data(X, accept_sparse=('csr', 'csc'),\n\u001b[1;32m    697\u001b[0m                                 \u001b[0mestimator\u001b[0m\u001b[0;34m=\u001b[0m\u001b[0mself\u001b[0m\u001b[0;34m,\u001b[0m \u001b[0mdtype\u001b[0m\u001b[0;34m=\u001b[0m\u001b[0mFLOAT_DTYPES\u001b[0m\u001b[0;34m,\u001b[0m\u001b[0;34m\u001b[0m\u001b[0;34m\u001b[0m\u001b[0m\n\u001b[0;32m--> 698\u001b[0;31m                                 force_all_finite='allow-nan')\n\u001b[0m\u001b[1;32m    699\u001b[0m \u001b[0;34m\u001b[0m\u001b[0m\n\u001b[1;32m    700\u001b[0m         \u001b[0;31m# Even in the case of `with_mean=False`, we update the mean anyway\u001b[0m\u001b[0;34m\u001b[0m\u001b[0;34m\u001b[0m\u001b[0;34m\u001b[0m\u001b[0m\n",
      "\u001b[0;32m/opt/anaconda3/envs/dev/lib/python3.7/site-packages/sklearn/base.py\u001b[0m in \u001b[0;36m_validate_data\u001b[0;34m(self, X, y, reset, validate_separately, **check_params)\u001b[0m\n\u001b[1;32m    418\u001b[0m                     \u001b[0;34mf\"requires y to be passed, but the target y is None.\"\u001b[0m\u001b[0;34m\u001b[0m\u001b[0;34m\u001b[0m\u001b[0m\n\u001b[1;32m    419\u001b[0m                 )\n\u001b[0;32m--> 420\u001b[0;31m             \u001b[0mX\u001b[0m \u001b[0;34m=\u001b[0m \u001b[0mcheck_array\u001b[0m\u001b[0;34m(\u001b[0m\u001b[0mX\u001b[0m\u001b[0;34m,\u001b[0m \u001b[0;34m**\u001b[0m\u001b[0mcheck_params\u001b[0m\u001b[0;34m)\u001b[0m\u001b[0;34m\u001b[0m\u001b[0;34m\u001b[0m\u001b[0m\n\u001b[0m\u001b[1;32m    421\u001b[0m             \u001b[0mout\u001b[0m \u001b[0;34m=\u001b[0m \u001b[0mX\u001b[0m\u001b[0;34m\u001b[0m\u001b[0;34m\u001b[0m\u001b[0m\n\u001b[1;32m    422\u001b[0m         \u001b[0;32melse\u001b[0m\u001b[0;34m:\u001b[0m\u001b[0;34m\u001b[0m\u001b[0;34m\u001b[0m\u001b[0m\n",
      "\u001b[0;32m/opt/anaconda3/envs/dev/lib/python3.7/site-packages/sklearn/utils/validation.py\u001b[0m in \u001b[0;36minner_f\u001b[0;34m(*args, **kwargs)\u001b[0m\n\u001b[1;32m     71\u001b[0m                           FutureWarning)\n\u001b[1;32m     72\u001b[0m         \u001b[0mkwargs\u001b[0m\u001b[0;34m.\u001b[0m\u001b[0mupdate\u001b[0m\u001b[0;34m(\u001b[0m\u001b[0;34m{\u001b[0m\u001b[0mk\u001b[0m\u001b[0;34m:\u001b[0m \u001b[0marg\u001b[0m \u001b[0;32mfor\u001b[0m \u001b[0mk\u001b[0m\u001b[0;34m,\u001b[0m \u001b[0marg\u001b[0m \u001b[0;32min\u001b[0m \u001b[0mzip\u001b[0m\u001b[0;34m(\u001b[0m\u001b[0msig\u001b[0m\u001b[0;34m.\u001b[0m\u001b[0mparameters\u001b[0m\u001b[0;34m,\u001b[0m \u001b[0margs\u001b[0m\u001b[0;34m)\u001b[0m\u001b[0;34m}\u001b[0m\u001b[0;34m)\u001b[0m\u001b[0;34m\u001b[0m\u001b[0;34m\u001b[0m\u001b[0m\n\u001b[0;32m---> 73\u001b[0;31m         \u001b[0;32mreturn\u001b[0m \u001b[0mf\u001b[0m\u001b[0;34m(\u001b[0m\u001b[0;34m**\u001b[0m\u001b[0mkwargs\u001b[0m\u001b[0;34m)\u001b[0m\u001b[0;34m\u001b[0m\u001b[0;34m\u001b[0m\u001b[0m\n\u001b[0m\u001b[1;32m     74\u001b[0m     \u001b[0;32mreturn\u001b[0m \u001b[0minner_f\u001b[0m\u001b[0;34m\u001b[0m\u001b[0;34m\u001b[0m\u001b[0m\n\u001b[1;32m     75\u001b[0m \u001b[0;34m\u001b[0m\u001b[0m\n",
      "\u001b[0;32m/opt/anaconda3/envs/dev/lib/python3.7/site-packages/sklearn/utils/validation.py\u001b[0m in \u001b[0;36mcheck_array\u001b[0;34m(array, accept_sparse, accept_large_sparse, dtype, order, copy, force_all_finite, ensure_2d, allow_nd, ensure_min_samples, ensure_min_features, estimator)\u001b[0m\n\u001b[1;32m    597\u001b[0m                     \u001b[0marray\u001b[0m \u001b[0;34m=\u001b[0m \u001b[0marray\u001b[0m\u001b[0;34m.\u001b[0m\u001b[0mastype\u001b[0m\u001b[0;34m(\u001b[0m\u001b[0mdtype\u001b[0m\u001b[0;34m,\u001b[0m \u001b[0mcasting\u001b[0m\u001b[0;34m=\u001b[0m\u001b[0;34m\"unsafe\"\u001b[0m\u001b[0;34m,\u001b[0m \u001b[0mcopy\u001b[0m\u001b[0;34m=\u001b[0m\u001b[0;32mFalse\u001b[0m\u001b[0;34m)\u001b[0m\u001b[0;34m\u001b[0m\u001b[0;34m\u001b[0m\u001b[0m\n\u001b[1;32m    598\u001b[0m                 \u001b[0;32melse\u001b[0m\u001b[0;34m:\u001b[0m\u001b[0;34m\u001b[0m\u001b[0;34m\u001b[0m\u001b[0m\n\u001b[0;32m--> 599\u001b[0;31m                     \u001b[0marray\u001b[0m \u001b[0;34m=\u001b[0m \u001b[0mnp\u001b[0m\u001b[0;34m.\u001b[0m\u001b[0masarray\u001b[0m\u001b[0;34m(\u001b[0m\u001b[0marray\u001b[0m\u001b[0;34m,\u001b[0m \u001b[0morder\u001b[0m\u001b[0;34m=\u001b[0m\u001b[0morder\u001b[0m\u001b[0;34m,\u001b[0m \u001b[0mdtype\u001b[0m\u001b[0;34m=\u001b[0m\u001b[0mdtype\u001b[0m\u001b[0;34m)\u001b[0m\u001b[0;34m\u001b[0m\u001b[0;34m\u001b[0m\u001b[0m\n\u001b[0m\u001b[1;32m    600\u001b[0m             \u001b[0;32mexcept\u001b[0m \u001b[0mComplexWarning\u001b[0m\u001b[0;34m:\u001b[0m\u001b[0;34m\u001b[0m\u001b[0;34m\u001b[0m\u001b[0m\n\u001b[1;32m    601\u001b[0m                 raise ValueError(\"Complex data not supported\\n\"\n",
      "\u001b[0;32m/opt/anaconda3/envs/dev/lib/python3.7/site-packages/numpy/core/_asarray.py\u001b[0m in \u001b[0;36masarray\u001b[0;34m(a, dtype, order)\u001b[0m\n\u001b[1;32m     83\u001b[0m \u001b[0;34m\u001b[0m\u001b[0m\n\u001b[1;32m     84\u001b[0m     \"\"\"\n\u001b[0;32m---> 85\u001b[0;31m     \u001b[0;32mreturn\u001b[0m \u001b[0marray\u001b[0m\u001b[0;34m(\u001b[0m\u001b[0ma\u001b[0m\u001b[0;34m,\u001b[0m \u001b[0mdtype\u001b[0m\u001b[0;34m,\u001b[0m \u001b[0mcopy\u001b[0m\u001b[0;34m=\u001b[0m\u001b[0;32mFalse\u001b[0m\u001b[0;34m,\u001b[0m \u001b[0morder\u001b[0m\u001b[0;34m=\u001b[0m\u001b[0morder\u001b[0m\u001b[0;34m)\u001b[0m\u001b[0;34m\u001b[0m\u001b[0;34m\u001b[0m\u001b[0m\n\u001b[0m\u001b[1;32m     86\u001b[0m \u001b[0;34m\u001b[0m\u001b[0m\n\u001b[1;32m     87\u001b[0m \u001b[0;34m\u001b[0m\u001b[0m\n",
      "\u001b[0;31mValueError\u001b[0m: could not convert string to float: 'EliteCoin'"
     ]
    }
   ],
   "source": [
    "# Scale data to create the scatter plot\n"
   ]
  },
  {
   "cell_type": "code",
   "execution_count": 59,
   "metadata": {},
   "outputs": [
    {
     "data": {
      "application/vnd.holoviews_exec.v0+json": "",
      "text/html": [
       "<div id='1359'>\n",
       "\n",
       "\n",
       "\n",
       "\n",
       "\n",
       "  <div class=\"bk-root\" id=\"9ed38814-f07b-47ca-a9c1-fe6b1f495e9c\" data-root-id=\"1359\"></div>\n",
       "</div>\n",
       "<script type=\"application/javascript\">(function(root) {\n",
       "  function embed_document(root) {\n",
       "  var docs_json = {\"2ea2b548-78b6-447f-b4a0-4fa700541e9d\":{\"roots\":{\"references\":[{\"attributes\":{\"axis\":{\"id\":\"1377\"},\"dimension\":1,\"grid_line_color\":null,\"ticker\":null},\"id\":\"1380\",\"type\":\"Grid\"},{\"attributes\":{\"margin\":[5,5,5,5],\"name\":\"HSpacer02424\",\"sizing_mode\":\"stretch_width\"},\"id\":\"1422\",\"type\":\"Spacer\"},{\"attributes\":{\"margin\":[5,5,5,5],\"name\":\"HSpacer02423\",\"sizing_mode\":\"stretch_width\"},\"id\":\"1360\",\"type\":\"Spacer\"},{\"attributes\":{\"axis_label\":\"TotalCoinsMined\",\"bounds\":\"auto\",\"formatter\":{\"id\":\"1402\"},\"major_label_orientation\":\"horizontal\",\"ticker\":{\"id\":\"1374\"}},\"id\":\"1373\",\"type\":\"LinearAxis\"},{\"attributes\":{\"align\":null,\"below\":[{\"id\":\"1373\"}],\"center\":[{\"id\":\"1376\"},{\"id\":\"1380\"}],\"left\":[{\"id\":\"1377\"}],\"margin\":null,\"min_border_bottom\":10,\"min_border_left\":10,\"min_border_right\":10,\"min_border_top\":10,\"plot_height\":300,\"plot_width\":700,\"renderers\":[{\"id\":\"1400\"}],\"sizing_mode\":\"fixed\",\"title\":{\"id\":\"1365\"},\"toolbar\":{\"id\":\"1387\"},\"x_range\":{\"id\":\"1361\"},\"x_scale\":{\"id\":\"1369\"},\"y_range\":{\"id\":\"1362\"},\"y_scale\":{\"id\":\"1371\"}},\"id\":\"1364\",\"subtype\":\"Figure\",\"type\":\"Plot\"},{\"attributes\":{\"source\":{\"id\":\"1394\"}},\"id\":\"1401\",\"type\":\"CDSView\"},{\"attributes\":{},\"id\":\"1412\",\"type\":\"UnionRenderers\"},{\"attributes\":{\"axis\":{\"id\":\"1373\"},\"grid_line_color\":null,\"ticker\":null},\"id\":\"1376\",\"type\":\"Grid\"},{\"attributes\":{},\"id\":\"1378\",\"type\":\"BasicTicker\"},{\"attributes\":{\"axis_label\":\"TotalCoinSupply\",\"bounds\":\"auto\",\"formatter\":{\"id\":\"1404\"},\"major_label_orientation\":\"horizontal\",\"ticker\":{\"id\":\"1378\"}},\"id\":\"1377\",\"type\":\"LinearAxis\"},{\"attributes\":{\"data\":{\"CoinName\":[\"EliteCoin\",\"1Credit\",\"404Coin\",\"42 Coin\",\"8BIT Coin\",\"Acute Angle Cloud\",\"Abjcoin\",\"Absolute Coin\",\"ArtByte\",\"AC3\",\"AdCoin\",\"Actinium\",\"Anarchists Prime\",\"Cardano\",\"AudioCoin\",\"Aidos Kuneen\",\"Adzcoin\",\"Alpenschillling\",\"ALAX\",\"ArcticCoin\",\"AquariusCoin\",\"ARENON\",\"Argentum\",\"ArgusCoin\",\"ARK\",\"Allsafe\",\"Atmos\",\"ArtexCoin\",\"Aurora Coin\",\"Award\",\"Axe\",\"Azart\",\"BiblePay\",\"BitConnect Coin\",\"Bitcoin Diamond\",\"BitcoinFast\",\"Bitcoin Cash\",\"ByteCoin\",\"Beldex\",\"Beam\",\"Beetle Coin\",\"BenjiRolls\",\"Bikercoins\",\"Bitcoin Green\",\"BitMoney\",\"BitstarCoin\",\"BLAST\",\"BlakeCoin\",\"BlackholeCoin\",\"BillaryCoin\",\"Block-Logic\",\"BlueCoin\",\"BolivarCoin\",\"Briacoin\",\"BritCoin\",\"BowsCoin\",\"BitSend\",\"Bitcoin SV\",\"Bitspace\",\"Bata\",\"BitBar\",\"Bitcoin\",\"BitcoinDark\",\"BitCurrency\",\"BitcoinZ\",\"Bitcloud 2.0\",\"Bitcoin Gold\",\"Bithereum\",\"Bitrolium\",\"Bitcoin Planet\",\"Bitshares\",\"BitTorrent\",\"Bitcore\",\"Bettex coin\",\"BurstCoin\",\"BuzzCoin\",\"BeaverCoin\",\"Bulwark\",\"BitcoinWSpectrum\",\"BitTokens\",\"Carebit\",\"Catcoin\",\"CryptoBullion\",\"CannaCoin\",\"Canada eCoin\",\"Crypto Escudo\",\"CoffeeCoin\",\"ChanCoin\",\"OpenChat\",\"Crypto Improvement Fund\",\"Clockcoin\",\"Callisto Network\",\" ClubCoin\",\"Cash & Back Coin\",\"BitCoal\",\"Paycon\",\"Circuits of Value\",\"CapriCoin\",\"Creditbit \",\"Credit\",\"Cream\",\"Crown Coin\",\"CrypticCoin\",\"CryptCoin\",\"CasinoCoin\",\"Crypto Sports\",\"CarterCoin\",\"Citadel\",\"Crypto\",\"Coinonat\",\"CypherPunkCoin\",\"DAS\",\"Dash\",\"Dash Platinum\",\"DaxxCoin\",\"DubaiCoin\",\"DubaiCoin\",\"Decred\",\"Dinastycoin\",\"Degas Coin\",\"iDealCash\",\"Deviant Coin\",\"Draftcoin\",\"DigiByte\",\"Digitalcoin \",\"CarpeDiemCoin\",\"Diggits\",\"Dekado\",\"DollarCoin\",\"Diamond\",\"Denarius\",\"DopeCoin\",\"DigitalPrice\",\"Droidz\",\"Dystem\",\"DevCoin\",\"Dynamic\",\"EarthCoin\",\"EB3coin\",\"eBoost\",\"Electra\",\"EDRCoin\",\"E-Gulden\",\"EverGreenCoin\",\"Elementrem\",\"Ellaism\",\"Elements\",\"Ellerium\",\"EmaratCoin\",\"EmberCoin\",\"Emercoin\",\"Einsteinium\",\"Emerald\",\"EnergyCoin\",\"Eternity\",\"EOS\",\"EquiTrader\",\"EuropeCoin\",\"Espers\",\"Ethereum Classic\",\"Ethereum\",\"Ethereum Dark\",\"Eurocoin\",\"EUNO\",\"Exclusive Coin\",\"Exosis\",\"Expanse\",\"FairCoin\",\"FindCoin\",\"Folding Coin\",\"BitFlip\",\"Flo\",\"FlutterCoin\",\"FrazCoin\",\"FreeCoin\",\"FREDEnergy\",\"Franko\",\"Francs\",\"FirstCoin\",\"Frankywillcoin\",\"FriendshipCoin\",\"FeatherCoin\",\"FuturoCoin\",\"GAKHcoin\",\"Galilel\",\"Gamecredits\",\"Gapcoin\",\"GoldBlocks\",\"GoByte\",\"gCn Coin\",\"GrandCoin\",\"Genstake\",\"GermanCoin\",\"Giant\",\"GINcoin\",\"GlobalCoin\",\"GoldCoin\",\"GlobalToken\",\"GanjaCoin V2\",\"GPU Coin\",\"GreenCoin\",\"Groestlcoin\",\"GrowthCoin\",\"GunCoin\",\"Halloween Coin\",\"HoboNickels\",\"HerbCoin\",\"HexCoin\",\"HOdlcoin\",\"HappyCoin\",\"Hitcoin\",\"HTML5 Coin\",\"HollyWoodCoin\",\"HexxCoin\",\"HyperStake\",\"HyperCoin\",\"I0coin\",\"iBankCoin\",\"Ignition\",\"Infinite Coin\",\"ILCoin\",\"Impeach\",\"Independent Money System\",\"Impact\",\"Infinex\",\"Innova\",\"InsaneCoin\",\"Insane Coin\",\"IOCoin\",\"Internet of People\",\"IrishCoin\",\"IslaCoin\",\"Interzone\",\"IXcoin\",\"JoinCoin\",\"Junson Ming Chan Coin\",\"Jumpcoin\",\"Kcash\",\"KEYCO\",\"Klingon Empire Darsek\",\"KekCoin\",\"Ketan\",\"KrugerCoin\",\"KiloCoin\",\"Kalkulus\",\"Komodo\",\"KoboCoin\",\"Kore\",\"Karbo\",\"KREDS\",\"Kronecoin\",\"Kurrent\",\"KushCoin\",\"LanaCoin\",\"Lutetium Coin\",\"LitecoinCash\",\"Litecoin Plus\",\"LiteDoge\",\"Linda\",\"Linx\",\"Let it Ride\",\"Lithium\",\"LuckyCoin\",\"LomoCoin\",\"Loki\",\"LottoCoin\",\"Lisk\",\"Litebar \",\"Litecoin\",\"LiteCreed\",\"LiteCoin Ultra\",\"Lethean\",\"LUXCoin\",\"Lynx\",\"Magnet\",\"MarsCoin \",\"MaxCoin\",\"Theresa May Coin\",\"My Big Coin\",\"MacronCoin\",\"1717 Masonic Commemorative Token\",\"MegaCoin\",\"MediterraneanCoin\",\"MedicCoin\",\"MassGrid\",\"XiaoMiCoin\",\"MinCoin\",\"MintCoin\",\"MMOCoin\",\"MindCoin\",\"MonaCoin\",\"MoneyCoin\",\"Monkey Project\",\"MoonCoin\",\"MasterCoin\",\"MustangCoin\",\"MudraCoin\",\"MUNcoin\",\"Muse\",\"MazaCoin\",\"NamoCoin\",\"Nano\",\"Nautilus Coin\",\"NavCoin\",\"Niobio Cash\",\"Newton Coin\",\"Nebuchadnezzar\",\"NeosCoin\",\"IncaKoin\",\"Gulden\",\"Namecoin\",\"NobleCoin\",\"Dnotes\",\"Nasdacoin\",\"Neutron\",\"Nexus\",\"Nxt\",\"NyanCoin\",\"NewYorkCoin\",\"Zealium\",\"OrangeCoin\",\"Obsidian\",\"OKCash\",\"OmniCron\",\"Omni\",\"DeepOnion\",\"Ontology\",\"Onix\",\"OpalCoin\",\"Orbitcoin\",\"OsmiumCoin\",\"Oduwa\",\"Oxycoin\",\"PacCoin\",\"Pakcoin\",\"Particl\",\"PAXEX\",\"Pioneer Coin\",\"Photon\",\"Phreak\",\"Piggy Coin\",\"PinkCoin\",\"PirateCash\",\"Pirl\",\"PizzaCoin\",\"PLNCoin\",\"PlatinCoin\",\"PluraCoin\",\"PlusOneCoin\",\"PandaCoin\",\"PhantomX\",\"Peony Coin\",\"Poa Network\",\"PopularCoin\",\"Poseidon Quark\",\"PotCoin\",\"Project Pai\",\"ProsperCoin\",\"ProCurrency\",\"Proton\",\"Printerium\",\"PesoBit\",\"Poseidon\",\"PesetaCoin\",\"Pura\",\"Pushi\",\"PutinCoin\",\"PWR Coin\",\"PhoenixCoin\",\"QuarkCoin\",\"Quantum Resistant Ledger\",\"Quatloo\",\"QTUM\",\"Qwertycoin\",\"Radium\",\"Condensate\",\"RubyCoin\",\"Russiacoin\",\"Reality Clash\",\"Reddcoin\",\"Regalcoin\",\"Revenu\",\"Riecoin\",\"RenosCoin\",\"RootCoin\",\"RoyalCoin\",\"RonPaulCoin\",\"Rupee\",\"Revolution VR\",\"Ryo\",\"SafeExchangeCoin\",\"StableCoin\",\"Siacoin\",\"Swiscoin\",\"Semux\",\"Shilling\",\"SibCoin\",\"Swisscoin\",\"Signatum\",\"StorjCoin\",\"SLICE\",\"SolarCoin\",\"SmartCash\",\"SmartCoin\",\"SmileyCoin\",\"SocialCoin\",\"SoilCoin\",\"Sojourn Coin\",\"Song Coin\",\"SoonCoin\",\"Stipend\",\"SparksPay\",\"Spreadcoin\",\"Squall Coin\",\"ShareChain\",\"Stakecoin\",\"Sativa Coin\",\"Sucre\",\"Sumokoin\",\"SuperCoin\",\"SwingCoin\",\"SexCoin\",\"SyncCoin\",\"SysCoin\",\"TajCoin\",\"Lamden Tau\",\"TigerCash\",\"TeamUP\",\"TerraNovaCoin\",\"TeslaCoin\",\"TigerCoin\",\"TittieCoin\",\"Tokyo Coin\",\"TorCoin\",\"TokenPay\",\"TPCash\",\"TerraCoin\",\"Travelflex\",\"Triangles Coin\",\"TruckCoin\",\"Trollcoin\",\"TurtleCoin\",\"Trivechain\",\"ThunderStake\",\"Titan Coin\",\"BitTube\",\"TrezarCoin\",\"Ucoin\",\"UnitedBitcoin\",\"UFO Coin\",\"Unitus\",\"Universal Molecule\",\"UnbreakableCoin\",\"Unify\",\"GameUnits\",\"Unobtanium\",\"Urals Coin\",\"UroCoin\",\"Ultimate Secure Cash\",\"UnitaryStatus Dollar\",\"Unified Society USDEX\",\"UltraCoin\",\"Vechain\",\"ViaCoin\",\"TheVig\",\"VIP Tokens\",\"Vitae\",\"VIVO Coin\",\"VaultCoin\",\"Velox\",\"Vollar\",\"VeriCoin\",\"Vertcoin\",\"Vtorrent\",\"Virta Unique Coin\",\"Digiwage\",\"Waves\",\"Wild Beast Coin\",\"WorldCoin\",\"Webchain\",\"WomenCoin\",\"BitcoinPlus\",\"Bitcoin Incognito\",\"X11 Coin\",\"Xchange\",\"Cannabis Industry Coin\",\"Cryptonite\",\"Crypti\",\"Creatio\",\"CoinonatX\",\"DigitalNote \",\"XDNA\",\"XenixCoin\",\"GoldReserve\",\"HiCoin\",\"Infinity Economics\",\"Xios\",\"JouleCoin\",\"LeviarCoin\",\"Monero Classic\",\"Monoeci\",\"Motion\",\"Monero\",\"MyriadCoin\",\"Enigma\",\"Opair\",\"PayCoin\",\"Ratecoin\",\"Bitcoin Rhodium\",\"SHIELD\",\"Stakenet\",\"StealthCoin\",\"Xt3ch\",\"UltraNote\",\"Verge\",\"VirtacoinPlus\",\"WhiteCoin\",\"ZCoin\",\"YoCoin\",\"Zilbercoin\",\"ZCC Coin\",\"ZClassic\",\"ZCash\",\"ZeitCoin\",\"Horizen\",\"ZEPHYR\",\"Zero\",\"ZetaCoin\",\"ZoneCoin\",\"BitZeny\",\"Zoin\",\"ZayedCoin\"],\"TotalCoinSupply\":{\"__ndarray__\":\"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\",\"dtype\":\"float64\",\"order\":\"little\",\"shape\":[532]},\"TotalCoinsMined\":{\"__ndarray__\":\"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\",\"dtype\":\"float64\",\"order\":\"little\",\"shape\":[532]}},\"selected\":{\"id\":\"1395\"},\"selection_policy\":{\"id\":\"1412\"}},\"id\":\"1394\",\"type\":\"ColumnDataSource\"},{\"attributes\":{},\"id\":\"1369\",\"type\":\"LinearScale\"},{\"attributes\":{},\"id\":\"1404\",\"type\":\"BasicTickFormatter\"},{\"attributes\":{\"active_drag\":\"auto\",\"active_inspect\":\"auto\",\"active_multi\":null,\"active_scroll\":\"auto\",\"active_tap\":\"auto\",\"tools\":[{\"id\":\"1363\"},{\"id\":\"1381\"},{\"id\":\"1382\"},{\"id\":\"1383\"},{\"id\":\"1384\"},{\"id\":\"1385\"}]},\"id\":\"1387\",\"type\":\"Toolbar\"},{\"attributes\":{},\"id\":\"1395\",\"type\":\"Selection\"},{\"attributes\":{\"end\":1100000000000.0,\"reset_end\":1100000000000.0,\"reset_start\":-100000000000.0,\"start\":-100000000000.0,\"tags\":[[[\"TotalCoinSupply\",\"TotalCoinSupply\",null]]]},\"id\":\"1362\",\"type\":\"Range1d\"},{\"attributes\":{},\"id\":\"1381\",\"type\":\"SaveTool\"},{\"attributes\":{\"fill_color\":{\"value\":\"#1f77b3\"},\"line_color\":{\"value\":\"#1f77b3\"},\"size\":{\"units\":\"screen\",\"value\":5.477225575051661},\"x\":{\"field\":\"TotalCoinsMined\"},\"y\":{\"field\":\"TotalCoinSupply\"}},\"id\":\"1397\",\"type\":\"Scatter\"},{\"attributes\":{},\"id\":\"1382\",\"type\":\"PanTool\"},{\"attributes\":{},\"id\":\"1383\",\"type\":\"WheelZoomTool\"},{\"attributes\":{\"fill_alpha\":{\"value\":0.1},\"fill_color\":{\"value\":\"#1f77b3\"},\"line_alpha\":{\"value\":0.1},\"line_color\":{\"value\":\"#1f77b3\"},\"size\":{\"units\":\"screen\",\"value\":5.477225575051661},\"x\":{\"field\":\"TotalCoinsMined\"},\"y\":{\"field\":\"TotalCoinSupply\"}},\"id\":\"1398\",\"type\":\"Scatter\"},{\"attributes\":{\"overlay\":{\"id\":\"1386\"}},\"id\":\"1384\",\"type\":\"BoxZoomTool\"},{\"attributes\":{\"bottom_units\":\"screen\",\"fill_alpha\":0.5,\"fill_color\":\"lightgrey\",\"left_units\":\"screen\",\"level\":\"overlay\",\"line_alpha\":1.0,\"line_color\":\"black\",\"line_dash\":[4,4],\"line_width\":2,\"right_units\":\"screen\",\"top_units\":\"screen\"},\"id\":\"1386\",\"type\":\"BoxAnnotation\"},{\"attributes\":{\"data_source\":{\"id\":\"1394\"},\"glyph\":{\"id\":\"1397\"},\"hover_glyph\":null,\"muted_glyph\":{\"id\":\"1399\"},\"nonselection_glyph\":{\"id\":\"1398\"},\"selection_glyph\":null,\"view\":{\"id\":\"1401\"}},\"id\":\"1400\",\"type\":\"GlyphRenderer\"},{\"attributes\":{},\"id\":\"1374\",\"type\":\"BasicTicker\"},{\"attributes\":{\"fill_alpha\":{\"value\":0.2},\"fill_color\":{\"value\":\"#1f77b3\"},\"line_alpha\":{\"value\":0.2},\"line_color\":{\"value\":\"#1f77b3\"},\"size\":{\"units\":\"screen\",\"value\":5.477225575051661},\"x\":{\"field\":\"TotalCoinsMined\"},\"y\":{\"field\":\"TotalCoinSupply\"}},\"id\":\"1399\",\"type\":\"Scatter\"},{\"attributes\":{\"text\":\"\",\"text_color\":{\"value\":\"black\"},\"text_font_size\":{\"value\":\"12pt\"}},\"id\":\"1365\",\"type\":\"Title\"},{\"attributes\":{},\"id\":\"1385\",\"type\":\"ResetTool\"},{\"attributes\":{\"end\":1032416801156.6912,\"reset_end\":1032416801156.6912,\"reset_start\":-42428087675.042145,\"start\":-42428087675.042145,\"tags\":[[[\"TotalCoinsMined\",\"TotalCoinsMined\",null]]]},\"id\":\"1361\",\"type\":\"Range1d\"},{\"attributes\":{\"children\":[{\"id\":\"1360\"},{\"id\":\"1364\"},{\"id\":\"1422\"}],\"margin\":[0,0,0,0],\"name\":\"Row02419\",\"tags\":[\"embedded\"]},\"id\":\"1359\",\"type\":\"Row\"},{\"attributes\":{},\"id\":\"1371\",\"type\":\"LinearScale\"},{\"attributes\":{\"callback\":null,\"renderers\":[{\"id\":\"1400\"}],\"tags\":[\"hv_created\"],\"tooltips\":[[\"TotalCoinsMined\",\"@{TotalCoinsMined}\"],[\"TotalCoinSupply\",\"@{TotalCoinSupply}\"],[\"CoinName\",\"@{CoinName}\"]]},\"id\":\"1363\",\"type\":\"HoverTool\"},{\"attributes\":{},\"id\":\"1402\",\"type\":\"BasicTickFormatter\"}],\"root_ids\":[\"1359\"]},\"title\":\"Bokeh Application\",\"version\":\"2.1.1\"}};\n",
       "  var render_items = [{\"docid\":\"2ea2b548-78b6-447f-b4a0-4fa700541e9d\",\"root_ids\":[\"1359\"],\"roots\":{\"1359\":\"9ed38814-f07b-47ca-a9c1-fe6b1f495e9c\"}}];\n",
       "  root.Bokeh.embed.embed_items_notebook(docs_json, render_items);\n",
       "  }\n",
       "if (root.Bokeh !== undefined) {\n",
       "    embed_document(root);\n",
       "  } else {\n",
       "    var attempts = 0;\n",
       "    var timer = setInterval(function(root) {\n",
       "      if (root.Bokeh !== undefined) {\n",
       "        clearInterval(timer);\n",
       "        embed_document(root);\n",
       "      } else if (document.readyState == \"complete\") {\n",
       "        attempts++;\n",
       "        if (attempts > 100) {\n",
       "          clearInterval(timer);\n",
       "          console.log(\"Bokeh: ERROR: Unable to run BokehJS code because BokehJS library is missing\");\n",
       "        }\n",
       "      }\n",
       "    }, 10, root)\n",
       "  }\n",
       "})(window);</script>"
      ],
      "text/plain": [
       ":Scatter   [TotalCoinsMined]   (TotalCoinSupply,CoinName)"
      ]
     },
     "execution_count": 59,
     "metadata": {
      "application/vnd.holoviews_exec.v0+json": {
       "id": "1359"
      }
     },
     "output_type": "execute_result"
    }
   ],
   "source": [
    "# Plot the scatter with x=\"TotalCoinsMined\" and y=\"TotalCoinSupply\"\n",
    "scatter = clustered_df.hvplot.scatter(x=\"TotalCoinsMined\",\n",
    "                                      y=\"TotalCoinSupply\",\n",
    "                                      hover_cols=[\"CoinName\"])\n",
    "\n",
    "scatter"
   ]
  },
  {
   "cell_type": "code",
   "execution_count": null,
   "metadata": {},
   "outputs": [],
   "source": []
  }
 ],
 "metadata": {
  "file_extension": ".py",
  "kernelspec": {
   "display_name": "Python 3",
   "language": "python",
   "name": "python3"
  },
  "language_info": {
   "codemirror_mode": {
    "name": "ipython",
    "version": 3
   },
   "file_extension": ".py",
   "mimetype": "text/x-python",
   "name": "python",
   "nbconvert_exporter": "python",
   "pygments_lexer": "ipython3",
   "version": "3.7.7"
  },
  "mimetype": "text/x-python",
  "name": "python",
  "npconvert_exporter": "python",
  "pygments_lexer": "ipython3",
  "version": 3
 },
 "nbformat": 4,
 "nbformat_minor": 4
}
